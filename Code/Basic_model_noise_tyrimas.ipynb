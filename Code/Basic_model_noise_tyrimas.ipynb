{
  "nbformat": 4,
  "nbformat_minor": 0,
  "metadata": {
    "colab": {
      "name": "Basic_model_noise_tyrimas.ipynb",
      "provenance": [],
      "collapsed_sections": []
    },
    "kernelspec": {
      "name": "python3",
      "display_name": "Python 3"
    }
  },
  "cells": [
    {
      "cell_type": "code",
      "metadata": {
        "id": "mIzgXJHW-I2k"
      },
      "source": [
        "from __future__ import print_function, division\n",
        "import os\n",
        "import torch\n",
        "from torch.optim.optimizer import Optimizer\n",
        "from skimage import io, transform\n",
        "import numpy as np\n",
        "import matplotlib.pyplot as plt\n",
        "from torch.utils.data import Dataset, DataLoader\n",
        "from torchvision import transforms, utils\n",
        "from skimage import io\n",
        "import torch.nn as nn\n",
        "import torch.nn.functional as F\n",
        "import random\n",
        "\n",
        "from skimage.color import rgb2gray\n",
        "\n",
        "from torch.utils.tensorboard import SummaryWriter\n",
        "\n",
        "import PIL\n",
        "from PIL import Image\n",
        "\n",
        "from google.colab import output"
      ],
      "execution_count": 241,
      "outputs": []
    },
    {
      "cell_type": "code",
      "metadata": {
        "id": "6CzjepVFB0B6",
        "colab": {
          "base_uri": "https://localhost:8080/"
        },
        "outputId": "765893c6-a9ee-4547-9790-6a33da3ae426"
      },
      "source": [
        "%mkdir results"
      ],
      "execution_count": 242,
      "outputs": [
        {
          "output_type": "stream",
          "text": [
            "mkdir: cannot create directory ‘results’: File exists\n"
          ],
          "name": "stdout"
        }
      ]
    },
    {
      "cell_type": "code",
      "metadata": {
        "colab": {
          "base_uri": "https://localhost:8080/"
        },
        "id": "UV6gHHYJ8KoT",
        "outputId": "4cab19a0-84cf-40d0-c897-5db41f1a0442"
      },
      "source": [
        "!git clone https://github.com/PauliusMilmantas/Bakalaurinis_darbas"
      ],
      "execution_count": 243,
      "outputs": [
        {
          "output_type": "stream",
          "text": [
            "fatal: destination path 'Bakalaurinis_darbas' already exists and is not an empty directory.\n"
          ],
          "name": "stdout"
        }
      ]
    },
    {
      "cell_type": "code",
      "metadata": {
        "colab": {
          "base_uri": "https://localhost:8080/"
        },
        "id": "0MUJunKO8RWp",
        "outputId": "8f928ad7-b03a-4b5e-fd01-c432b143dafc"
      },
      "source": [
        "%cd /content/Bakalaurinis_darbas/Code"
      ],
      "execution_count": 244,
      "outputs": [
        {
          "output_type": "stream",
          "text": [
            "/content/Bakalaurinis_darbas/Code\n"
          ],
          "name": "stdout"
        }
      ]
    },
    {
      "cell_type": "code",
      "metadata": {
        "id": "3gAQdhKZLiSR"
      },
      "source": [
        "def get_answer(output):\n",
        "  if output[0] > output[1]:\n",
        "    return 0\n",
        "  else:\n",
        "    return 1"
      ],
      "execution_count": 245,
      "outputs": []
    },
    {
      "cell_type": "code",
      "metadata": {
        "id": "Do-l7YQn-Qrt"
      },
      "source": [
        "import pandas as pd\n",
        "\n",
        "class ORCDataset(Dataset):\n",
        "  def __init__(self, root):\n",
        "    self.root = root\n",
        "    self.data = pd.read_csv(root)\n",
        "\n",
        "  def __len__(self):\n",
        "    return len(self.data)\n",
        "\n",
        "  def __getitem__(self, idx):\n",
        "    noise = random.randint(0, 50)\n",
        "\n",
        "    dat = {}\n",
        "    dat['Pregnancies'] = self.data['Pregnancies'][idx] + noise\n",
        "    dat['Glucose'] = self.data['Glucose'][idx] + noise\n",
        "    dat['BloodPressure'] = self.data['BloodPressure'][idx] + noise\n",
        "    dat['BMI'] = self.data['BMI'][idx] + noise\n",
        "    dat['Age'] = self.data['Age'][idx] + noise\n",
        "    found_type = self.data['Outcome'][idx]\n",
        "\n",
        "    return {'data': dat, 'class_name': found_type}\n",
        "\n",
        "train_dataset = ORCDataset('/content/Bakalaurinis_darbas/Code/train.csv')\n",
        "test_dataset = ORCDataset('/content/Bakalaurinis_darbas/Code/test.csv')"
      ],
      "execution_count": 246,
      "outputs": []
    },
    {
      "cell_type": "code",
      "metadata": {
        "id": "DEY-Wb1z98SD"
      },
      "source": [
        "class Net(nn.Module):\n",
        "    def __init__(self, input_size, hidden1_size, hidden2_size, num_classes):\n",
        "        super(Net, self).__init__()\n",
        "        self.fc1 = nn.Linear(input_size, hidden1_size)\n",
        "        self.relu1 = nn.ReLU()\n",
        "        self.fc2 = nn.Linear(hidden1_size, hidden2_size)\n",
        "        self.relu2 = nn.ReLU()\n",
        "        self.fc3 = nn.Linear(hidden2_size, num_classes)  \n",
        "    \n",
        "    def forward(self, x):\n",
        "        out = self.fc1(x)\n",
        "        out = self.relu1(out)\n",
        "        out = self.fc2(out)        \n",
        "        out = self.relu2(out)     \n",
        "        out = self.fc3(out)\n",
        "        return out"
      ],
      "execution_count": 247,
      "outputs": []
    },
    {
      "cell_type": "markdown",
      "metadata": {
        "id": "BLcbrZyj_hXT"
      },
      "source": [
        "2 <- 7 <- 15 <- 5"
      ]
    },
    {
      "cell_type": "code",
      "metadata": {
        "colab": {
          "base_uri": "https://localhost:8080/"
        },
        "id": "o3GzBs6t_X0g",
        "outputId": "091b7258-cc5f-4021-9055-a3788c74731d"
      },
      "source": [
        "network = Net(5, 15, 7, 2)\n",
        "optimizer = torch.optim.SGD(network.parameters(), lr=0.0001, momentum=0.6)\n",
        "criterion = nn.MSELoss().cuda()\n",
        "\n",
        "print(network)"
      ],
      "execution_count": 248,
      "outputs": [
        {
          "output_type": "stream",
          "text": [
            "Net(\n",
            "  (fc1): Linear(in_features=5, out_features=15, bias=True)\n",
            "  (relu1): ReLU()\n",
            "  (fc2): Linear(in_features=15, out_features=7, bias=True)\n",
            "  (relu2): ReLU()\n",
            "  (fc3): Linear(in_features=7, out_features=2, bias=True)\n",
            ")\n"
          ],
          "name": "stdout"
        }
      ]
    },
    {
      "cell_type": "code",
      "metadata": {
        "colab": {
          "base_uri": "https://localhost:8080/"
        },
        "id": "1MnOqoUK_vGx",
        "outputId": "5422f01d-3bcd-4da6-9c67-3ab7897ff696"
      },
      "source": [
        "dev = torch.device(\"cuda\") if torch.cuda.is_available() else torch.device(\"cpu\")\n",
        "network.to(dev)\n",
        "criterion.to(dev)\n",
        "dev"
      ],
      "execution_count": 249,
      "outputs": [
        {
          "output_type": "execute_result",
          "data": {
            "text/plain": [
              "device(type='cpu')"
            ]
          },
          "metadata": {
            "tags": []
          },
          "execution_count": 249
        }
      ]
    },
    {
      "cell_type": "code",
      "metadata": {
        "colab": {
          "base_uri": "https://localhost:8080/"
        },
        "id": "-SQxeSmA_xaj",
        "outputId": "0db0f728-21a0-4fef-8280-c7631c6c0d8e"
      },
      "source": [
        "device = torch.device('cuda' if torch.cuda.is_available() else 'cpu')\n",
        "print('Using device:', device)\n",
        "print()\n",
        "\n",
        "#Additional Info when using cuda\n",
        "if device.type == 'cuda':\n",
        "    print(torch.cuda.get_device_name(0))\n",
        "    print('Memory Usage:')\n",
        "    print('Allocated:', round(torch.cuda.memory_allocated(0)/1024**3,1), 'GB')\n",
        "    print('Cached:   ', round(torch.cuda.memory_cached(0)/1024**3,1), 'GB')"
      ],
      "execution_count": 250,
      "outputs": [
        {
          "output_type": "stream",
          "text": [
            "Using device: cpu\n",
            "\n"
          ],
          "name": "stdout"
        }
      ]
    },
    {
      "cell_type": "code",
      "metadata": {
        "id": "JLzLwFT0_0Mg"
      },
      "source": [
        "train_loader = torch.utils.data.DataLoader(train_dataset, batch_size = len(train_dataset),shuffle=True)\n",
        "test_loader = torch.utils.data.DataLoader(test_dataset, batch_size = len(test_dataset),shuffle=True)"
      ],
      "execution_count": 251,
      "outputs": []
    },
    {
      "cell_type": "code",
      "metadata": {
        "colab": {
          "base_uri": "https://localhost:8080/"
        },
        "id": "O1vxofpT_3YM",
        "outputId": "d167a099-2bcd-4c71-d99c-bbaa8bca51ce"
      },
      "source": [
        "dataiter = iter(train_loader)\n",
        "itr = dataiter.next()\n",
        "\n",
        "label = itr['class_name']\n",
        "dat = itr['data']\n",
        "print(\"Class name: {} Data: [Pregnancies: {} Glucose: {} BloodPressure: {} BMI: {} Age: {}]\".format(label[0], dat['Pregnancies'][0], dat['Glucose'][0], dat['BloodPressure'][0], dat['BMI'][0], dat['Age'][0]))"
      ],
      "execution_count": 252,
      "outputs": [
        {
          "output_type": "stream",
          "text": [
            "Class name: 0 Data: [Pregnancies: 16 Glucose: 82 BloodPressure: 84 BMI: 39.0 Age: 39]\n"
          ],
          "name": "stdout"
        }
      ]
    },
    {
      "cell_type": "code",
      "metadata": {
        "colab": {
          "base_uri": "https://localhost:8080/",
          "height": 1000
        },
        "id": "boQCZfH2Aukr",
        "outputId": "3f3b105f-4ce3-4e21-81eb-26e07c4f0cf3"
      },
      "source": [
        "def train(train_loader, test_loader, epoch_amount, save_checkpoint = 10):\n",
        "  network.eval()\n",
        "  train_loss_hist = []\n",
        "  acc_history = []\n",
        "\n",
        "  checkpoint = save_checkpoint\n",
        "  for epoch in range(epoch_amount):\n",
        "    num_data_train = 0\n",
        "\n",
        "    # TRAINING DATASET\n",
        "    correct = 0\n",
        "    wrong = 0\n",
        "    for data in train_loader:\n",
        "      labels = torch.from_numpy(np.array(data['class_name']))\n",
        "      dat = data['data']\n",
        "\n",
        "      lossSum = 0\n",
        "\n",
        "      parsedData = []\n",
        "      for dictIdx in range(len(labels)):\n",
        "        parsedData.append(\n",
        "            np.array([dat['Pregnancies'][dictIdx].float(), dat['Glucose'][dictIdx].float(), dat['BloodPressure'][dictIdx].float(), dat['BMI'][dictIdx].float(), dat['Age'][dictIdx].float()])\n",
        "            )\n",
        "\n",
        "      for idx in range(len(labels)):\n",
        "        optimizer.zero_grad()\n",
        "\n",
        "        outputs = network(torch.Tensor(parsedData[idx].flatten()))\n",
        "        realAnswer = [0, 0]\n",
        "        realAnswer[labels[idx]] = 1\n",
        "\n",
        "        loss = criterion(outputs, torch.Tensor(realAnswer))\n",
        "          \n",
        "        loss.backward()\n",
        "\n",
        "        lossSum += loss.item()\n",
        "        train_loss_hist.append(lossSum)\n",
        "\n",
        "        optimizer.step()\n",
        "\n",
        "    # TESTING DATASET\n",
        "    for data in test_loader:\n",
        "      labels = torch.from_numpy(np.array(data['class_name']))\n",
        "      dat = data['data']\n",
        "\n",
        "      parsedData = []\n",
        "      for dictIdx in range(len(labels)):\n",
        "        parsedData.append(\n",
        "            np.array([dat['Pregnancies'][dictIdx].float(), dat['Glucose'][dictIdx].float(), dat['BloodPressure'][dictIdx].float(), dat['BMI'][dictIdx].float(), dat['Age'][dictIdx].float()])\n",
        "            )\n",
        "\n",
        "      for idx in range(len(labels)):\n",
        "        outputs = network(torch.Tensor(parsedData[idx].flatten()))\n",
        "\n",
        "        predicted = get_answer(outputs)\n",
        "        real_answer = labels[idx].item()\n",
        "\n",
        "        if predicted == real_answer:\n",
        "          correct += 1\n",
        "        else:\n",
        "          wrong += 1\n",
        "\n",
        "    acc_history.append(\n",
        "        correct/(correct+wrong)*100\n",
        "    )\n",
        "    print(\"Epoch: {} Training loss: {} Accuracy: {}\".format(epoch,train_loss_hist[len(train_loss_hist) - 1], acc_history[len(acc_history) - 1]))\n",
        "    \n",
        "    if(checkpoint == 0):\n",
        "      torch.save(network.state_dict(), '/content/results/model.pth')\n",
        "      torch.save(optimizer.state_dict(), '/content/results/optimizer.pth')\n",
        "\n",
        "      checkpoint = save_checkpoint\n",
        "    else:\n",
        "      checkpoint -= 1\n",
        "\n",
        "  plt.plot(np.arange(0, len(train_loss_hist), 1), train_loss_hist)\n",
        "  plt.show()\n",
        "\n",
        "  plt.plot(np.arange(0, len(acc_history), 1), acc_history)\n",
        "  plt.show()\n",
        "\n",
        "  avg_hist = []\n",
        "\n",
        "  for i in range(int(len(acc_history)/10)):\n",
        "    avg = 0\n",
        "    \n",
        "    for p in range(10):\n",
        "      avg += acc_history[i*10 + p]\n",
        "\n",
        "    avg_hist.append(avg/10)\n",
        "\n",
        "  plt.plot(np.arange(0, len(avg_hist)), avg_hist)\n",
        "  plt.grid()\n",
        "  plt.show()\n",
        "\n",
        "train(train_loader, test_loader, 250)\n"
      ],
      "execution_count": 253,
      "outputs": [
        {
          "output_type": "stream",
          "text": [
            "Epoch: 0 Training loss: 393.3898473394802 Accuracy: 68.63905325443787\n",
            "Epoch: 1 Training loss: 159.78425031353254 Accuracy: 65.68047337278107\n",
            "Epoch: 2 Training loss: 150.84483486809768 Accuracy: 63.905325443786985\n",
            "Epoch: 3 Training loss: 138.13934847372002 Accuracy: 71.00591715976331\n",
            "Epoch: 4 Training loss: 137.63898730679648 Accuracy: 69.8224852071006\n",
            "Epoch: 5 Training loss: 136.90267045644578 Accuracy: 72.7810650887574\n",
            "Epoch: 6 Training loss: 134.7861713867751 Accuracy: 68.63905325443787\n",
            "Epoch: 7 Training loss: 134.46744863537606 Accuracy: 69.8224852071006\n",
            "Epoch: 8 Training loss: 131.4454384362325 Accuracy: 68.04733727810651\n",
            "Epoch: 9 Training loss: 130.94051564927213 Accuracy: 69.23076923076923\n",
            "Epoch: 10 Training loss: 131.91785939785768 Accuracy: 69.23076923076923\n",
            "Epoch: 11 Training loss: 129.8676645677915 Accuracy: 71.00591715976331\n",
            "Epoch: 12 Training loss: 128.05248862097505 Accuracy: 69.8224852071006\n",
            "Epoch: 13 Training loss: 128.5669303550385 Accuracy: 69.8224852071006\n",
            "Epoch: 14 Training loss: 128.3524309671484 Accuracy: 71.00591715976331\n",
            "Epoch: 15 Training loss: 126.9269350587856 Accuracy: 69.23076923076923\n",
            "Epoch: 16 Training loss: 124.39486962603405 Accuracy: 69.23076923076923\n",
            "Epoch: 17 Training loss: 126.29134327499196 Accuracy: 73.37278106508876\n",
            "Epoch: 18 Training loss: 124.7856178083457 Accuracy: 70.41420118343196\n",
            "Epoch: 19 Training loss: 126.11148657416925 Accuracy: 71.00591715976331\n",
            "Epoch: 20 Training loss: 125.88705984968692 Accuracy: 71.59763313609467\n",
            "Epoch: 21 Training loss: 124.31114367069677 Accuracy: 72.7810650887574\n",
            "Epoch: 22 Training loss: 124.11361731076613 Accuracy: 69.8224852071006\n",
            "Epoch: 23 Training loss: 123.78441382502206 Accuracy: 72.18934911242604\n",
            "Epoch: 24 Training loss: 124.48014833172783 Accuracy: 73.37278106508876\n",
            "Epoch: 25 Training loss: 123.63279584678821 Accuracy: 71.59763313609467\n",
            "Epoch: 26 Training loss: 122.83259167685173 Accuracy: 68.63905325443787\n",
            "Epoch: 27 Training loss: 124.05585519457236 Accuracy: 71.59763313609467\n",
            "Epoch: 28 Training loss: 123.01587101723999 Accuracy: 68.63905325443787\n",
            "Epoch: 29 Training loss: 121.26175232185051 Accuracy: 72.7810650887574\n",
            "Epoch: 30 Training loss: 122.17818508693017 Accuracy: 69.8224852071006\n",
            "Epoch: 31 Training loss: 121.22929031425156 Accuracy: 70.41420118343196\n",
            "Epoch: 32 Training loss: 122.89848589990288 Accuracy: 68.63905325443787\n",
            "Epoch: 33 Training loss: 121.14226317619614 Accuracy: 72.7810650887574\n",
            "Epoch: 34 Training loss: 121.30591025186004 Accuracy: 71.59763313609467\n",
            "Epoch: 35 Training loss: 121.56682984530926 Accuracy: 72.18934911242604\n",
            "Epoch: 36 Training loss: 121.730292505119 Accuracy: 71.59763313609467\n",
            "Epoch: 37 Training loss: 122.32529315259308 Accuracy: 71.59763313609467\n",
            "Epoch: 38 Training loss: 121.36668886709958 Accuracy: 72.18934911242604\n",
            "Epoch: 39 Training loss: 120.11953098862432 Accuracy: 70.41420118343196\n",
            "Epoch: 40 Training loss: 121.12763557043218 Accuracy: 75.14792899408283\n",
            "Epoch: 41 Training loss: 122.35533529473469 Accuracy: 69.23076923076923\n",
            "Epoch: 42 Training loss: 121.5826714602299 Accuracy: 74.55621301775149\n",
            "Epoch: 43 Training loss: 120.92653505224735 Accuracy: 72.7810650887574\n",
            "Epoch: 44 Training loss: 120.04489756235853 Accuracy: 69.8224852071006\n",
            "Epoch: 45 Training loss: 119.65843833028339 Accuracy: 70.41420118343196\n",
            "Epoch: 46 Training loss: 120.29996457952075 Accuracy: 70.41420118343196\n",
            "Epoch: 47 Training loss: 120.2768328206148 Accuracy: 71.00591715976331\n",
            "Epoch: 48 Training loss: 119.42932155844755 Accuracy: 71.00591715976331\n",
            "Epoch: 49 Training loss: 119.38302748429123 Accuracy: 73.37278106508876\n",
            "Epoch: 50 Training loss: 118.64417187927756 Accuracy: 71.00591715976331\n",
            "Epoch: 51 Training loss: 120.548477539327 Accuracy: 71.59763313609467\n",
            "Epoch: 52 Training loss: 118.33117739204317 Accuracy: 70.41420118343196\n",
            "Epoch: 53 Training loss: 119.48590985592455 Accuracy: 70.41420118343196\n",
            "Epoch: 54 Training loss: 119.30513864794193 Accuracy: 69.8224852071006\n",
            "Epoch: 55 Training loss: 118.77994923415827 Accuracy: 72.7810650887574\n",
            "Epoch: 56 Training loss: 118.93664596782764 Accuracy: 70.41420118343196\n",
            "Epoch: 57 Training loss: 118.60163999150973 Accuracy: 72.7810650887574\n",
            "Epoch: 58 Training loss: 119.35187608678825 Accuracy: 71.59763313609467\n",
            "Epoch: 59 Training loss: 118.7064867860754 Accuracy: 70.41420118343196\n",
            "Epoch: 60 Training loss: 116.8978193916846 Accuracy: 71.59763313609467\n",
            "Epoch: 61 Training loss: 117.92283702880377 Accuracy: 69.23076923076923\n",
            "Epoch: 62 Training loss: 118.13247242855141 Accuracy: 72.18934911242604\n",
            "Epoch: 63 Training loss: 117.23214298009407 Accuracy: 70.41420118343196\n",
            "Epoch: 64 Training loss: 119.02107797435019 Accuracy: 70.41420118343196\n",
            "Epoch: 65 Training loss: 118.06412428899421 Accuracy: 73.96449704142012\n",
            "Epoch: 66 Training loss: 117.64043193879479 Accuracy: 69.23076923076923\n",
            "Epoch: 67 Training loss: 117.27644145768136 Accuracy: 69.8224852071006\n",
            "Epoch: 68 Training loss: 116.52915558498353 Accuracy: 71.00591715976331\n",
            "Epoch: 69 Training loss: 116.37829246860929 Accuracy: 73.37278106508876\n",
            "Epoch: 70 Training loss: 116.7173904418596 Accuracy: 70.41420118343196\n",
            "Epoch: 71 Training loss: 116.9582426371926 Accuracy: 73.37278106508876\n",
            "Epoch: 72 Training loss: 117.02907723210956 Accuracy: 70.41420118343196\n",
            "Epoch: 73 Training loss: 117.07835259547574 Accuracy: 72.18934911242604\n",
            "Epoch: 74 Training loss: 115.68102688653744 Accuracy: 73.96449704142012\n",
            "Epoch: 75 Training loss: 116.85064300033264 Accuracy: 72.18934911242604\n",
            "Epoch: 76 Training loss: 116.57477252010722 Accuracy: 72.7810650887574\n",
            "Epoch: 77 Training loss: 114.41183759769774 Accuracy: 71.00591715976331\n",
            "Epoch: 78 Training loss: 116.88752418960212 Accuracy: 72.18934911242604\n",
            "Epoch: 79 Training loss: 115.07883248967119 Accuracy: 71.00591715976331\n",
            "Epoch: 80 Training loss: 116.49883415456861 Accuracy: 74.55621301775149\n",
            "Epoch: 81 Training loss: 115.67873958509881 Accuracy: 74.55621301775149\n",
            "Epoch: 82 Training loss: 115.99498622457031 Accuracy: 71.00591715976331\n",
            "Epoch: 83 Training loss: 115.34850274413475 Accuracy: 70.41420118343196\n",
            "Epoch: 84 Training loss: 115.8463490281938 Accuracy: 71.00591715976331\n",
            "Epoch: 85 Training loss: 115.00162054496468 Accuracy: 71.00591715976331\n",
            "Epoch: 86 Training loss: 116.31738957436755 Accuracy: 72.7810650887574\n",
            "Epoch: 87 Training loss: 114.01653169759084 Accuracy: 70.41420118343196\n",
            "Epoch: 88 Training loss: 115.56590175104793 Accuracy: 71.59763313609467\n",
            "Epoch: 89 Training loss: 115.93234955702792 Accuracy: 72.18934911242604\n",
            "Epoch: 90 Training loss: 114.73022824694635 Accuracy: 75.7396449704142\n",
            "Epoch: 91 Training loss: 115.34467566886451 Accuracy: 73.96449704142012\n",
            "Epoch: 92 Training loss: 115.89316778595094 Accuracy: 72.7810650887574\n",
            "Epoch: 93 Training loss: 115.39181857911171 Accuracy: 73.96449704142012\n",
            "Epoch: 94 Training loss: 114.75844834320014 Accuracy: 71.59763313609467\n",
            "Epoch: 95 Training loss: 114.23490443843184 Accuracy: 71.00591715976331\n",
            "Epoch: 96 Training loss: 114.24284523216193 Accuracy: 73.37278106508876\n",
            "Epoch: 97 Training loss: 114.37944439408602 Accuracy: 69.8224852071006\n",
            "Epoch: 98 Training loss: 114.5578772132867 Accuracy: 75.7396449704142\n",
            "Epoch: 99 Training loss: 114.18476186617045 Accuracy: 71.59763313609467\n",
            "Epoch: 100 Training loss: 114.70521355557139 Accuracy: 73.37278106508876\n",
            "Epoch: 101 Training loss: 114.68409488076577 Accuracy: 74.55621301775149\n",
            "Epoch: 102 Training loss: 114.2424987825616 Accuracy: 72.7810650887574\n",
            "Epoch: 103 Training loss: 113.5721234936209 Accuracy: 72.18934911242604\n",
            "Epoch: 104 Training loss: 114.2968201241747 Accuracy: 71.00591715976331\n",
            "Epoch: 105 Training loss: 112.55670217139414 Accuracy: 73.37278106508876\n",
            "Epoch: 106 Training loss: 114.47611212613992 Accuracy: 73.96449704142012\n",
            "Epoch: 107 Training loss: 112.85086505051004 Accuracy: 72.7810650887574\n",
            "Epoch: 108 Training loss: 114.41676668968285 Accuracy: 70.41420118343196\n",
            "Epoch: 109 Training loss: 113.60332406518864 Accuracy: 72.18934911242604\n",
            "Epoch: 110 Training loss: 114.03194660274312 Accuracy: 72.7810650887574\n",
            "Epoch: 111 Training loss: 113.08913877833402 Accuracy: 72.18934911242604\n",
            "Epoch: 112 Training loss: 114.45173497401993 Accuracy: 73.96449704142012\n",
            "Epoch: 113 Training loss: 113.02912462720997 Accuracy: 73.96449704142012\n",
            "Epoch: 114 Training loss: 112.32888257747982 Accuracy: 73.96449704142012\n",
            "Epoch: 115 Training loss: 113.2148969633563 Accuracy: 72.7810650887574\n",
            "Epoch: 116 Training loss: 113.33594091154373 Accuracy: 73.96449704142012\n",
            "Epoch: 117 Training loss: 113.39035717552179 Accuracy: 75.14792899408283\n",
            "Epoch: 118 Training loss: 113.48473233636469 Accuracy: 72.18934911242604\n",
            "Epoch: 119 Training loss: 112.54270347736383 Accuracy: 73.96449704142012\n",
            "Epoch: 120 Training loss: 113.34493685502093 Accuracy: 72.18934911242604\n",
            "Epoch: 121 Training loss: 112.8639882432617 Accuracy: 70.41420118343196\n",
            "Epoch: 122 Training loss: 113.08592830039561 Accuracy: 73.96449704142012\n",
            "Epoch: 123 Training loss: 112.03615908534266 Accuracy: 73.37278106508876\n",
            "Epoch: 124 Training loss: 112.60245283355471 Accuracy: 75.7396449704142\n",
            "Epoch: 125 Training loss: 113.30618443911953 Accuracy: 71.59763313609467\n",
            "Epoch: 126 Training loss: 112.80766602425138 Accuracy: 73.37278106508876\n",
            "Epoch: 127 Training loss: 111.30892112618312 Accuracy: 71.59763313609467\n",
            "Epoch: 128 Training loss: 112.72768724993512 Accuracy: 73.37278106508876\n",
            "Epoch: 129 Training loss: 111.81733483407879 Accuracy: 75.14792899408283\n",
            "Epoch: 130 Training loss: 111.61246592880798 Accuracy: 72.18934911242604\n",
            "Epoch: 131 Training loss: 111.857432313147 Accuracy: 73.96449704142012\n",
            "Epoch: 132 Training loss: 110.86391397193074 Accuracy: 72.7810650887574\n",
            "Epoch: 133 Training loss: 111.37165077633108 Accuracy: 72.18934911242604\n",
            "Epoch: 134 Training loss: 110.8371653406648 Accuracy: 73.37278106508876\n",
            "Epoch: 135 Training loss: 112.30703418763733 Accuracy: 73.37278106508876\n",
            "Epoch: 136 Training loss: 111.30118683667388 Accuracy: 72.7810650887574\n",
            "Epoch: 137 Training loss: 111.19989009725396 Accuracy: 72.18934911242604\n",
            "Epoch: 138 Training loss: 112.04027187038446 Accuracy: 72.18934911242604\n",
            "Epoch: 139 Training loss: 112.15065887689707 Accuracy: 72.7810650887574\n",
            "Epoch: 140 Training loss: 112.03979491366772 Accuracy: 75.14792899408283\n",
            "Epoch: 141 Training loss: 111.25038742032484 Accuracy: 73.37278106508876\n",
            "Epoch: 142 Training loss: 110.58461001567775 Accuracy: 75.7396449704142\n",
            "Epoch: 143 Training loss: 111.08871899780934 Accuracy: 73.37278106508876\n",
            "Epoch: 144 Training loss: 110.46595690830145 Accuracy: 74.55621301775149\n",
            "Epoch: 145 Training loss: 110.78811402832207 Accuracy: 71.00591715976331\n",
            "Epoch: 146 Training loss: 109.82136572879972 Accuracy: 71.59763313609467\n",
            "Epoch: 147 Training loss: 111.75751330220373 Accuracy: 71.59763313609467\n",
            "Epoch: 148 Training loss: 109.53171168919653 Accuracy: 72.7810650887574\n",
            "Epoch: 149 Training loss: 111.28326708108943 Accuracy: 73.37278106508876\n",
            "Epoch: 150 Training loss: 109.98839535558363 Accuracy: 76.92307692307693\n",
            "Epoch: 151 Training loss: 110.35267376553384 Accuracy: 72.7810650887574\n",
            "Epoch: 152 Training loss: 110.7045522059052 Accuracy: 75.7396449704142\n",
            "Epoch: 153 Training loss: 109.88652817037655 Accuracy: 74.55621301775149\n",
            "Epoch: 154 Training loss: 110.64423773252201 Accuracy: 73.96449704142012\n",
            "Epoch: 155 Training loss: 109.74980270373635 Accuracy: 74.55621301775149\n",
            "Epoch: 156 Training loss: 110.39710704813479 Accuracy: 72.18934911242604\n",
            "Epoch: 157 Training loss: 110.3565127688671 Accuracy: 72.18934911242604\n",
            "Epoch: 158 Training loss: 109.66612644231645 Accuracy: 75.14792899408283\n",
            "Epoch: 159 Training loss: 110.12065526515653 Accuracy: 74.55621301775149\n",
            "Epoch: 160 Training loss: 109.25787046726327 Accuracy: 77.51479289940828\n",
            "Epoch: 161 Training loss: 110.49178251845296 Accuracy: 71.59763313609467\n",
            "Epoch: 162 Training loss: 109.83501856704243 Accuracy: 74.55621301775149\n",
            "Epoch: 163 Training loss: 109.7800790432957 Accuracy: 71.00591715976331\n",
            "Epoch: 164 Training loss: 109.9387658198466 Accuracy: 73.96449704142012\n",
            "Epoch: 165 Training loss: 108.71116921091743 Accuracy: 69.23076923076923\n",
            "Epoch: 166 Training loss: 110.33106817397493 Accuracy: 72.7810650887574\n",
            "Epoch: 167 Training loss: 109.03022266349035 Accuracy: 74.55621301775149\n",
            "Epoch: 168 Training loss: 109.2102186777629 Accuracy: 76.92307692307693\n",
            "Epoch: 169 Training loss: 108.98742875810422 Accuracy: 72.7810650887574\n",
            "Epoch: 170 Training loss: 108.96163246802712 Accuracy: 72.18934911242604\n",
            "Epoch: 171 Training loss: 109.84737465792568 Accuracy: 72.7810650887574\n",
            "Epoch: 172 Training loss: 108.24635395602672 Accuracy: 75.14792899408283\n",
            "Epoch: 173 Training loss: 108.22336093022022 Accuracy: 76.33136094674556\n",
            "Epoch: 174 Training loss: 108.70918559233542 Accuracy: 75.7396449704142\n",
            "Epoch: 175 Training loss: 107.24250292627403 Accuracy: 74.55621301775149\n",
            "Epoch: 176 Training loss: 108.09400080279102 Accuracy: 72.18934911242604\n",
            "Epoch: 177 Training loss: 107.91615103036747 Accuracy: 74.55621301775149\n",
            "Epoch: 178 Training loss: 108.914313762667 Accuracy: 75.14792899408283\n",
            "Epoch: 179 Training loss: 109.09019613428973 Accuracy: 76.92307692307693\n",
            "Epoch: 180 Training loss: 108.20996589012793 Accuracy: 72.18934911242604\n",
            "Epoch: 181 Training loss: 108.25600731431769 Accuracy: 74.55621301775149\n",
            "Epoch: 182 Training loss: 108.48803745149053 Accuracy: 73.96449704142012\n",
            "Epoch: 183 Training loss: 107.73073193366145 Accuracy: 78.10650887573965\n",
            "Epoch: 184 Training loss: 108.70793504209723 Accuracy: 72.18934911242604\n",
            "Epoch: 185 Training loss: 109.14778085323633 Accuracy: 73.37278106508876\n",
            "Epoch: 186 Training loss: 109.02499277931929 Accuracy: 73.37278106508876\n",
            "Epoch: 187 Training loss: 107.5815391758224 Accuracy: 73.96449704142012\n",
            "Epoch: 188 Training loss: 108.60320115255308 Accuracy: 74.55621301775149\n",
            "Epoch: 189 Training loss: 107.94494230062992 Accuracy: 72.18934911242604\n",
            "Epoch: 190 Training loss: 107.57189747065422 Accuracy: 75.7396449704142\n",
            "Epoch: 191 Training loss: 108.7061265957309 Accuracy: 73.37278106508876\n",
            "Epoch: 192 Training loss: 107.94903707504272 Accuracy: 74.55621301775149\n",
            "Epoch: 193 Training loss: 108.790963618565 Accuracy: 73.96449704142012\n",
            "Epoch: 194 Training loss: 107.78039542515762 Accuracy: 76.92307692307693\n",
            "Epoch: 195 Training loss: 108.25554035307141 Accuracy: 72.18934911242604\n",
            "Epoch: 196 Training loss: 108.27593418845208 Accuracy: 71.59763313609467\n",
            "Epoch: 197 Training loss: 107.64737748372136 Accuracy: 75.7396449704142\n",
            "Epoch: 198 Training loss: 107.40001493136515 Accuracy: 73.37278106508876\n",
            "Epoch: 199 Training loss: 108.04023315187078 Accuracy: 75.7396449704142\n",
            "Epoch: 200 Training loss: 107.92767987429397 Accuracy: 75.7396449704142\n",
            "Epoch: 201 Training loss: 107.56530379681499 Accuracy: 78.69822485207101\n",
            "Epoch: 202 Training loss: 108.20788013623678 Accuracy: 74.55621301775149\n",
            "Epoch: 203 Training loss: 106.7640912754905 Accuracy: 76.92307692307693\n",
            "Epoch: 204 Training loss: 108.69371149605286 Accuracy: 74.55621301775149\n",
            "Epoch: 205 Training loss: 107.47258949398383 Accuracy: 72.7810650887574\n",
            "Epoch: 206 Training loss: 107.0331308079476 Accuracy: 73.37278106508876\n",
            "Epoch: 207 Training loss: 106.39124416075902 Accuracy: 75.7396449704142\n",
            "Epoch: 208 Training loss: 107.23414522246458 Accuracy: 78.10650887573965\n",
            "Epoch: 209 Training loss: 106.9166145362251 Accuracy: 71.59763313609467\n",
            "Epoch: 210 Training loss: 107.58525683387415 Accuracy: 73.96449704142012\n",
            "Epoch: 211 Training loss: 107.32602414072608 Accuracy: 74.55621301775149\n",
            "Epoch: 212 Training loss: 107.76491176962736 Accuracy: 73.96449704142012\n",
            "Epoch: 213 Training loss: 106.93425787394517 Accuracy: 75.14792899408283\n",
            "Epoch: 214 Training loss: 107.36366307368735 Accuracy: 76.33136094674556\n",
            "Epoch: 215 Training loss: 106.46257279715792 Accuracy: 74.55621301775149\n",
            "Epoch: 216 Training loss: 106.33235082775286 Accuracy: 73.37278106508876\n",
            "Epoch: 217 Training loss: 106.92703712045477 Accuracy: 74.55621301775149\n",
            "Epoch: 218 Training loss: 106.03022943835822 Accuracy: 77.51479289940828\n",
            "Epoch: 219 Training loss: 106.80993012699764 Accuracy: 72.18934911242604\n",
            "Epoch: 220 Training loss: 106.681898934723 Accuracy: 76.33136094674556\n",
            "Epoch: 221 Training loss: 106.73934084243228 Accuracy: 73.37278106508876\n",
            "Epoch: 222 Training loss: 106.26307763511431 Accuracy: 73.96449704142012\n",
            "Epoch: 223 Training loss: 107.36659642505401 Accuracy: 75.14792899408283\n",
            "Epoch: 224 Training loss: 107.58275378344115 Accuracy: 76.92307692307693\n",
            "Epoch: 225 Training loss: 107.39675204900414 Accuracy: 74.55621301775149\n",
            "Epoch: 226 Training loss: 106.57230789837195 Accuracy: 75.7396449704142\n",
            "Epoch: 227 Training loss: 105.5256856464257 Accuracy: 75.14792899408283\n",
            "Epoch: 228 Training loss: 107.11283930643549 Accuracy: 72.18934911242604\n",
            "Epoch: 229 Training loss: 106.51403193290571 Accuracy: 75.14792899408283\n",
            "Epoch: 230 Training loss: 106.89451826389995 Accuracy: 75.14792899408283\n",
            "Epoch: 231 Training loss: 106.2317567615828 Accuracy: 79.28994082840237\n",
            "Epoch: 232 Training loss: 105.93257422361057 Accuracy: 75.7396449704142\n",
            "Epoch: 233 Training loss: 107.02325744404516 Accuracy: 76.33136094674556\n",
            "Epoch: 234 Training loss: 105.84614314191276 Accuracy: 76.33136094674556\n",
            "Epoch: 235 Training loss: 106.81420721235918 Accuracy: 75.7396449704142\n",
            "Epoch: 236 Training loss: 105.93681726336945 Accuracy: 73.37278106508876\n",
            "Epoch: 237 Training loss: 106.18911622432597 Accuracy: 73.37278106508876\n",
            "Epoch: 238 Training loss: 107.26188333705068 Accuracy: 75.7396449704142\n",
            "Epoch: 239 Training loss: 104.52744090426131 Accuracy: 73.96449704142012\n",
            "Epoch: 240 Training loss: 106.09552301488293 Accuracy: 76.33136094674556\n",
            "Epoch: 241 Training loss: 106.00141903189069 Accuracy: 75.14792899408283\n",
            "Epoch: 242 Training loss: 106.5889846568898 Accuracy: 75.7396449704142\n",
            "Epoch: 243 Training loss: 104.77056143764639 Accuracy: 72.7810650887574\n",
            "Epoch: 244 Training loss: 105.32605942190276 Accuracy: 72.18934911242604\n",
            "Epoch: 245 Training loss: 105.2008372326236 Accuracy: 72.7810650887574\n",
            "Epoch: 246 Training loss: 105.49354404467886 Accuracy: 77.51479289940828\n",
            "Epoch: 247 Training loss: 104.94645366383338 Accuracy: 78.10650887573965\n",
            "Epoch: 248 Training loss: 105.7290626874601 Accuracy: 72.7810650887574\n",
            "Epoch: 249 Training loss: 105.96229860676249 Accuracy: 72.18934911242604\n"
          ],
          "name": "stdout"
        },
        {
          "output_type": "display_data",
          "data": {
            "image/png": "[encoded data removed]",
            "text/plain": [
              "<Figure size 432x288 with 1 Axes>"
            ]
          },
          "metadata": {
            "tags": [],
            "needs_background": "light"
          }
        },
        {
          "output_type": "display_data",
          "data": {
            "image/png": "[encoded data removed]",
            "text/plain": [
              "<Figure size 432x288 with 1 Axes>"
            ]
          },
          "metadata": {
            "tags": [],
            "needs_background": "light"
          }
        },
        {
          "output_type": "display_data",
          "data": {
            "image/png": "[encoded data removed]",
            "text/plain": [
              "<Figure size 432x288 with 1 Axes>"
            ]
          },
          "metadata": {
            "tags": [],
            "needs_background": "light"
          }
        }
      ]
    },
    {
      "cell_type": "markdown",
      "metadata": {
        "id": "CXsvm2d6AVLh"
      },
      "source": [
        "Palieka tik tie duomenys iš training_set, kurie yra teisingai atsakyti"
      ]
    },
    {
      "cell_type": "code",
      "metadata": {
        "id": "QrsJroN047Sm",
        "colab": {
          "base_uri": "https://localhost:8080/"
        },
        "outputId": "609e3870-c2fb-4e5e-a027-b5007b914b93"
      },
      "source": [
        "increaseValues = [0, 0, 0, 0, 0]\n",
        "dataIdx = [0, 0, 0, 0, 0]\n",
        "\n",
        "for data in train_loader:\n",
        "      labels = torch.from_numpy(np.array(data['class_name']))\n",
        "      dat = data['data']\n",
        "\n",
        "      parsedData = []\n",
        "      for dictIdx in range(len(labels)):\n",
        "        parsedData.append(\n",
        "            np.array([dat['Pregnancies'][dictIdx].float(), dat['Glucose'][dictIdx].float(), dat['BloodPressure'][dictIdx].float(), dat['BMI'][dictIdx].float(), dat['Age'][dictIdx].float()])\n",
        "            )\n",
        "\n",
        "      for idx in range(len(labels)):\n",
        "        outputs = network(torch.Tensor(parsedData[idx].flatten()))\n",
        "        \n",
        "        predicted = get_answer(outputs)\n",
        "        real_answer = labels[idx].item()\n",
        "\n",
        "        collumnIdx = 0\n",
        "        for collumnIdx in range(5):\n",
        "\n",
        "          # Sutampa duomenys, vykdoma tolimesne analize\n",
        "          if(predicted == real_answer):\n",
        "            epsilon = 0.1\n",
        "            increase = 0\n",
        "            dataIdx[collumnIdx] += 1\n",
        "\n",
        "            while(predicted == real_answer and increase < 100):\n",
        "              tempData = parsedData[idx].flatten()\n",
        "              increase += epsilon\n",
        "              tempData[0] += increase\n",
        "\n",
        "              outputs = network(torch.Tensor(tempData))\n",
        "\n",
        "              predicted = get_answer(outputs)\n",
        "              real_answer = labels[idx].item()\n",
        "\n",
        "            increaseValues[collumnIdx] += increase\n",
        "\n",
        "for i in range(5):\n",
        "  if dataIdx[i] == 0:\n",
        "    dataIdx[i] = 1\n",
        "\n",
        "  print(\"{}th collumn maximum epsilon: {}\".format(i, increaseValues[i]/dataIdx[i]))\n",
        "\n",
        "s = 0\n",
        "for i in range(5):\n",
        "  s += increaseValues[i]/dataIdx[i]\n",
        "\n",
        "print(\"Model maximum epsilon: {}\".format(s/5))"
      ],
      "execution_count": 254,
      "outputs": [
        {
          "output_type": "stream",
          "text": [
            "0th collumn maximum epsilon: 93.82499999999872\n",
            "1th collumn maximum epsilon: 100.09999999999856\n",
            "2th collumn maximum epsilon: 100.09999999999856\n",
            "3th collumn maximum epsilon: 100.09999999999856\n",
            "4th collumn maximum epsilon: 100.09999999999856\n",
            "Model maximum epsilon: 98.84499999999858\n"
          ],
          "name": "stdout"
        }
      ]
    }
  ]
}