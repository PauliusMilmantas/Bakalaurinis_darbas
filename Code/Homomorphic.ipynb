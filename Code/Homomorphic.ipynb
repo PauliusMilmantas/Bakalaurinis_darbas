{
  "nbformat": 4,
  "nbformat_minor": 0,
  "metadata": {
    "colab": {
      "name": "Untitled1.ipynb",
      "provenance": []
    },
    "kernelspec": {
      "name": "python3",
      "display_name": "Python 3"
    }
  },
  "cells": [
    {
      "cell_type": "code",
      "metadata": {
        "colab": {
          "base_uri": "https://localhost:8080/"
        },
        "id": "iGUGlEX1fJVU",
        "outputId": "8b4daad4-fa34-44ba-c776-42a1d05e5bac"
      },
      "source": [
        "!pip install pysyft\n",
        "!pip install syft"
      ],
      "execution_count": 10,
      "outputs": [
        {
          "output_type": "stream",
          "text": [
            "Requirement already satisfied: pysyft in /usr/local/lib/python3.6/dist-packages (0.0.1)\n",
            "Requirement already satisfied: syft in /usr/local/lib/python3.6/dist-packages (0.3.0)\n",
            "Requirement already satisfied: aiortc in /usr/local/lib/python3.6/dist-packages (from syft) (1.0.0)\n",
            "Requirement already satisfied: nest-asyncio in /usr/local/lib/python3.6/dist-packages (from syft) (1.4.3)\n",
            "Requirement already satisfied: flask in /usr/local/lib/python3.6/dist-packages (from syft) (1.1.2)\n",
            "Requirement already satisfied: forbiddenfruit>=0.1.3 in /usr/local/lib/python3.6/dist-packages (from syft) (0.1.3)\n",
            "Requirement already satisfied: PyNaCl in /usr/local/lib/python3.6/dist-packages (from syft) (1.4.0)\n",
            "Requirement already satisfied: sqlitedict in /usr/local/lib/python3.6/dist-packages (from syft) (1.7.0)\n",
            "Requirement already satisfied: torch>=1.5 in /usr/local/lib/python3.6/dist-packages (from syft) (1.7.0+cu101)\n",
            "Requirement already satisfied: loguru in /usr/local/lib/python3.6/dist-packages (from syft) (0.5.3)\n",
            "Requirement already satisfied: packaging in /usr/local/lib/python3.6/dist-packages (from syft) (20.8)\n",
            "Requirement already satisfied: pandas in /usr/local/lib/python3.6/dist-packages (from syft) (1.1.5)\n",
            "Requirement already satisfied: typeguard in /usr/local/lib/python3.6/dist-packages (from syft) (2.7.1)\n",
            "Requirement already satisfied: dataclasses in /usr/local/lib/python3.6/dist-packages (from syft) (0.8)\n",
            "Requirement already satisfied: websockets in /usr/local/lib/python3.6/dist-packages (from syft) (8.1)\n",
            "Requirement already satisfied: dpcontracts in /usr/local/lib/python3.6/dist-packages (from syft) (0.6.0)\n",
            "Requirement already satisfied: typing-extensions in /usr/local/lib/python3.6/dist-packages (from syft) (3.7.4.3)\n",
            "Requirement already satisfied: requests in /usr/local/lib/python3.6/dist-packages (from syft) (2.23.0)\n",
            "Requirement already satisfied: torchvision in /usr/local/lib/python3.6/dist-packages (from syft) (0.8.1+cu101)\n",
            "Requirement already satisfied: protobuf in /usr/local/lib/python3.6/dist-packages (from syft) (3.12.4)\n",
            "Requirement already satisfied: crc32c in /usr/local/lib/python3.6/dist-packages (from aiortc->syft) (2.2)\n",
            "Requirement already satisfied: cffi>=1.0.0 in /usr/local/lib/python3.6/dist-packages (from aiortc->syft) (1.14.4)\n",
            "Requirement already satisfied: pylibsrtp>=0.5.6 in /usr/local/lib/python3.6/dist-packages (from aiortc->syft) (0.6.7)\n",
            "Requirement already satisfied: av<9.0.0,>=8.0.0 in /usr/local/lib/python3.6/dist-packages (from aiortc->syft) (8.0.2)\n",
            "Requirement already satisfied: aioice<0.7.0,>=0.6.17 in /usr/local/lib/python3.6/dist-packages (from aiortc->syft) (0.6.18)\n",
            "Requirement already satisfied: pyee>=6.0.0 in /usr/local/lib/python3.6/dist-packages (from aiortc->syft) (8.1.0)\n",
            "Requirement already satisfied: cryptography>=2.2 in /usr/local/lib/python3.6/dist-packages (from aiortc->syft) (3.3.1)\n",
            "Requirement already satisfied: itsdangerous>=0.24 in /usr/local/lib/python3.6/dist-packages (from flask->syft) (1.1.0)\n",
            "Requirement already satisfied: Werkzeug>=0.15 in /usr/local/lib/python3.6/dist-packages (from flask->syft) (1.0.1)\n",
            "Requirement already satisfied: Jinja2>=2.10.1 in /usr/local/lib/python3.6/dist-packages (from flask->syft) (2.11.2)\n",
            "Requirement already satisfied: click>=5.1 in /usr/local/lib/python3.6/dist-packages (from flask->syft) (7.1.2)\n",
            "Requirement already satisfied: six in /usr/local/lib/python3.6/dist-packages (from PyNaCl->syft) (1.15.0)\n",
            "Requirement already satisfied: future in /usr/local/lib/python3.6/dist-packages (from torch>=1.5->syft) (0.16.0)\n",
            "Requirement already satisfied: numpy in /usr/local/lib/python3.6/dist-packages (from torch>=1.5->syft) (1.19.4)\n",
            "Requirement already satisfied: aiocontextvars>=0.2.0; python_version < \"3.7\" in /usr/local/lib/python3.6/dist-packages (from loguru->syft) (0.2.2)\n",
            "Requirement already satisfied: pyparsing>=2.0.2 in /usr/local/lib/python3.6/dist-packages (from packaging->syft) (2.4.7)\n",
            "Requirement already satisfied: pytz>=2017.2 in /usr/local/lib/python3.6/dist-packages (from pandas->syft) (2018.9)\n",
            "Requirement already satisfied: python-dateutil>=2.7.3 in /usr/local/lib/python3.6/dist-packages (from pandas->syft) (2.8.1)\n",
            "Requirement already satisfied: urllib3!=1.25.0,!=1.25.1,<1.26,>=1.21.1 in /usr/local/lib/python3.6/dist-packages (from requests->syft) (1.24.3)\n",
            "Requirement already satisfied: certifi>=2017.4.17 in /usr/local/lib/python3.6/dist-packages (from requests->syft) (2020.12.5)\n",
            "Requirement already satisfied: chardet<4,>=3.0.2 in /usr/local/lib/python3.6/dist-packages (from requests->syft) (3.0.4)\n",
            "Requirement already satisfied: idna<3,>=2.5 in /usr/local/lib/python3.6/dist-packages (from requests->syft) (2.10)\n",
            "Requirement already satisfied: pillow>=4.1.1 in /usr/local/lib/python3.6/dist-packages (from torchvision->syft) (7.0.0)\n",
            "Requirement already satisfied: setuptools in /usr/local/lib/python3.6/dist-packages (from protobuf->syft) (50.3.2)\n",
            "Requirement already satisfied: pycparser in /usr/local/lib/python3.6/dist-packages (from cffi>=1.0.0->aiortc->syft) (2.20)\n",
            "Requirement already satisfied: netifaces in /usr/local/lib/python3.6/dist-packages (from aioice<0.7.0,>=0.6.17->aiortc->syft) (0.10.9)\n",
            "Requirement already satisfied: MarkupSafe>=0.23 in /usr/local/lib/python3.6/dist-packages (from Jinja2>=2.10.1->flask->syft) (1.1.1)\n",
            "Requirement already satisfied: contextvars==2.4; python_version < \"3.7\" in /usr/local/lib/python3.6/dist-packages (from aiocontextvars>=0.2.0; python_version < \"3.7\"->loguru->syft) (2.4)\n",
            "Requirement already satisfied: immutables>=0.9 in /usr/local/lib/python3.6/dist-packages (from contextvars==2.4; python_version < \"3.7\"->aiocontextvars>=0.2.0; python_version < \"3.7\"->loguru->syft) (0.14)\n"
          ],
          "name": "stdout"
        }
      ]
    },
    {
      "cell_type": "code",
      "metadata": {
        "colab": {
          "base_uri": "https://localhost:8080/",
          "height": 178
        },
        "id": "iMyXmKFkgGsM",
        "outputId": "613d701b-7a37-4ff6-accf-17d2811fb844"
      },
      "source": [
        "syft-network"
      ],
      "execution_count": 11,
      "outputs": [
        {
          "output_type": "error",
          "ename": "NameError",
          "evalue": "ignored",
          "traceback": [
            "\u001b[0;31m---------------------------------------------------------------------------\u001b[0m",
            "\u001b[0;31mNameError\u001b[0m                                 Traceback (most recent call last)",
            "\u001b[0;32m<ipython-input-11-e1b3b0c8b69d>\u001b[0m in \u001b[0;36m<module>\u001b[0;34m()\u001b[0m\n\u001b[0;32m----> 1\u001b[0;31m \u001b[0msyft\u001b[0m\u001b[0;34m-\u001b[0m\u001b[0mnetwork\u001b[0m\u001b[0;34m\u001b[0m\u001b[0;34m\u001b[0m\u001b[0m\n\u001b[0m",
            "\u001b[0;31mNameError\u001b[0m: name 'syft' is not defined"
          ]
        }
      ]
    },
    {
      "cell_type": "code",
      "metadata": {
        "id": "AyDLVzqkewHP"
      },
      "source": [
        "import syft as sy\n",
        "import torch as th\n",
        "import syft.frameworks.tenseal as ts\n",
        "import numpy as np\n",
        "\n",
        "# hook PyTorch to add extra functionalities like the ability to encrypt torch tensors\n",
        "hook = sy.TorchHook(th)\n",
        "\n",
        "# Generate CKKS public and secret keys\n",
        "public_keys, secret_key = ts.generate_ckks_keys()\n"
      ],
      "execution_count": null,
      "outputs": []
    },
    {
      "cell_type": "code",
      "metadata": {
        "id": "QcdQO9EBfGyb"
      },
      "source": [
        "matrix = th.tensor([[10.5, 73, 65.2], [13.33, 22, 81]])\n"
      ],
      "execution_count": null,
      "outputs": []
    }
  ]
}