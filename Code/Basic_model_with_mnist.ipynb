{
  "nbformat": 4,
  "nbformat_minor": 0,
  "metadata": {
    "colab": {
      "name": "Basic_model_with_mnist.ipynb",
      "provenance": [],
      "collapsed_sections": []
    },
    "kernelspec": {
      "name": "python3",
      "display_name": "Python 3"
    }
  },
  "cells": [
    {
      "cell_type": "code",
      "metadata": {
        "id": "mIzgXJHW-I2k"
      },
      "source": [
        "from __future__ import print_function, division\n",
        "import os\n",
        "import torch\n",
        "from torch.optim.optimizer import Optimizer\n",
        "from skimage import io, transform\n",
        "import numpy as np\n",
        "import matplotlib.pyplot as plt\n",
        "from matplotlib import pyplot\n",
        "from torch.utils.data import Dataset, DataLoader\n",
        "from torchvision import transforms, utils\n",
        "from skimage import io\n",
        "import torch.nn as nn\n",
        "import torch.nn.functional as F\n",
        "\n",
        "from skimage.color import rgb2gray\n",
        "\n",
        "from torch.utils.tensorboard import SummaryWriter\n",
        "\n",
        "import PIL\n",
        "from PIL import Image\n",
        "\n",
        "from keras.datasets import mnist\n",
        "\n",
        "from google.colab import output"
      ],
      "execution_count": 259,
      "outputs": []
    },
    {
      "cell_type": "code",
      "metadata": {
        "id": "YO-RWJe7aLIf"
      },
      "source": [
        "(train_X, train_y), (test_X, test_y) = mnist.load_data()"
      ],
      "execution_count": 260,
      "outputs": []
    },
    {
      "cell_type": "code",
      "metadata": {
        "colab": {
          "base_uri": "https://localhost:8080/"
        },
        "id": "pVoJW6fWaTxz",
        "outputId": "02a89263-5414-4157-f8f5-9eb838140c39"
      },
      "source": [
        "print('X_train: ' + str(train_X.shape))\r\n",
        "print('Y_train: ' + str(train_y.shape))\r\n",
        "print('X_test:  '  + str(test_X.shape))\r\n",
        "print('Y_test:  '  + str(test_y.shape))"
      ],
      "execution_count": 261,
      "outputs": [
        {
          "output_type": "stream",
          "text": [
            "X_train: (60000, 28, 28)\n",
            "Y_train: (60000,)\n",
            "X_test:  (10000, 28, 28)\n",
            "Y_test:  (10000,)\n"
          ],
          "name": "stdout"
        }
      ]
    },
    {
      "cell_type": "code",
      "metadata": {
        "colab": {
          "base_uri": "https://localhost:8080/",
          "height": 299
        },
        "id": "cfMZ6asnaU-c",
        "outputId": "4246356e-406b-474d-9b3e-5d7db89bfdc1"
      },
      "source": [
        "pyplot.imshow(train_X[0], cmap=pyplot.get_cmap('gray'))\r\n",
        "pyplot.show()\r\n",
        "\r\n",
        "print(\"Label: {}\".format(train_y[0]))\r\n",
        "print(\"Flatten size: {}\".format(len(train_X[0].flatten())))"
      ],
      "execution_count": 262,
      "outputs": [
        {
          "output_type": "display_data",
          "data": {
            "image/png": "[encoded data removed]",
            "text/plain": [
              "<Figure size 432x288 with 1 Axes>"
            ]
          },
          "metadata": {
            "tags": [],
            "needs_background": "light"
          }
        },
        {
          "output_type": "stream",
          "text": [
            "Label: 5\n",
            "Flatten size: 784\n"
          ],
          "name": "stdout"
        }
      ]
    },
    {
      "cell_type": "code",
      "metadata": {
        "id": "6CzjepVFB0B6",
        "colab": {
          "base_uri": "https://localhost:8080/"
        },
        "outputId": "132eeeae-b5f3-4975-ba73-bdea7f479166"
      },
      "source": [
        "%mkdir results"
      ],
      "execution_count": 263,
      "outputs": [
        {
          "output_type": "stream",
          "text": [
            "mkdir: cannot create directory ‘results’: File exists\n"
          ],
          "name": "stdout"
        }
      ]
    },
    {
      "cell_type": "code",
      "metadata": {
        "colab": {
          "base_uri": "https://localhost:8080/"
        },
        "id": "UV6gHHYJ8KoT",
        "outputId": "a6e5ccd8-0cbb-42ea-b66c-8b5d7da079f8"
      },
      "source": [
        "!git clone https://github.com/PauliusMilmantas/Bakalaurinis_darbas"
      ],
      "execution_count": 264,
      "outputs": [
        {
          "output_type": "stream",
          "text": [
            "fatal: destination path 'Bakalaurinis_darbas' already exists and is not an empty directory.\n"
          ],
          "name": "stdout"
        }
      ]
    },
    {
      "cell_type": "code",
      "metadata": {
        "colab": {
          "base_uri": "https://localhost:8080/"
        },
        "id": "0MUJunKO8RWp",
        "outputId": "f8927049-bfa1-493c-9847-fb44c3239d26"
      },
      "source": [
        "%cd /content/Bakalaurinis_darbas/Code"
      ],
      "execution_count": 265,
      "outputs": [
        {
          "output_type": "stream",
          "text": [
            "/content/Bakalaurinis_darbas/Code\n"
          ],
          "name": "stdout"
        }
      ]
    },
    {
      "cell_type": "code",
      "metadata": {
        "id": "3gAQdhKZLiSR"
      },
      "source": [
        "def get_answer(output):\n",
        "  if output[0] > output[1]:\n",
        "    return 0\n",
        "  else:\n",
        "    return 1"
      ],
      "execution_count": 266,
      "outputs": []
    },
    {
      "cell_type": "code",
      "metadata": {
        "id": "Do-l7YQn-Qrt"
      },
      "source": [
        "import pandas as pd\n",
        "\n",
        "class ORCDataset(Dataset):\n",
        "  def __init__(self, root):\n",
        "    self.root = root\n",
        "    self.data = pd.read_csv(root)\n",
        "\n",
        "  def __len__(self):\n",
        "    return len(self.data)\n",
        "\n",
        "  def __getitem__(self, idx):\n",
        "    dat = {}\n",
        "    dat['Pregnancies'] = self.data['Pregnancies'][idx]\n",
        "    dat['Glucose'] = self.data['Glucose'][idx]\n",
        "    dat['BloodPressure'] = self.data['BloodPressure'][idx]\n",
        "    dat['BMI'] = self.data['BMI'][idx]\n",
        "    dat['Age'] = self.data['Age'][idx]\n",
        "    found_type = self.data['Outcome'][idx]\n",
        "\n",
        "    return {'data': dat, 'class_name': found_type}\n",
        "\n",
        "class MNISTDataset(Dataset):\n",
        "  def __init__(self, root):\n",
        "    self.root = root\n",
        "    self.data = { \"train_X\": train_X, \"train_y\": train_y, \"test_X\": test_X, \"test_y\": test_y }\n",
        "\n",
        "  def __len__(self):\n",
        "    if self.root == 'test':\n",
        "      return len(self.data[\"test_X\"])\n",
        "    else:\n",
        "      return len(self.data[\"train_X\"])\n",
        "\n",
        "  def __getitem__(self, idx):\n",
        "    if self.root == 'test':\n",
        "      return {'data': test_X[idx], 'class_name': test_y[idx]}\n",
        "    else:\n",
        "      return {'data': train_X[idx], 'class_name': train_y[idx]}\n",
        "\n",
        "train_dataset = MNISTDataset('test')\n",
        "test_dataset = MNISTDataset('train')"
      ],
      "execution_count": 267,
      "outputs": []
    },
    {
      "cell_type": "code",
      "metadata": {
        "id": "DEY-Wb1z98SD"
      },
      "source": [
        "class Net(nn.Module):\n",
        "    def __init__(self, input_size, hidden1_size, hidden2_size, num_classes):\n",
        "        super(Net, self).__init__()\n",
        "        self.fc1 = nn.Linear(input_size, hidden1_size)\n",
        "        self.relu1 = nn.ReLU()\n",
        "        self.fc2 = nn.Linear(hidden1_size, hidden2_size)\n",
        "        self.relu2 = nn.ReLU()\n",
        "        self.fc3 = nn.Linear(hidden2_size, num_classes)  \n",
        "    \n",
        "    def forward(self, x):\n",
        "        out = self.fc1(x)\n",
        "        out = self.relu1(out)\n",
        "        out = self.fc2(out)        \n",
        "        out = self.relu2(out)     \n",
        "        out = self.fc3(out)\n",
        "        return out"
      ],
      "execution_count": 268,
      "outputs": []
    },
    {
      "cell_type": "markdown",
      "metadata": {
        "id": "BLcbrZyj_hXT"
      },
      "source": [
        "2 <- 7 <- 15 <- 5"
      ]
    },
    {
      "cell_type": "code",
      "metadata": {
        "colab": {
          "base_uri": "https://localhost:8080/"
        },
        "id": "o3GzBs6t_X0g",
        "outputId": "a6635fb9-2425-432c-a457-54d79d18c30d"
      },
      "source": [
        "network = Net(784, 394, 196, 10)\n",
        "optimizer = torch.optim.SGD(network.parameters(), lr=0.0001, momentum=0.6)\n",
        "criterion = nn.MSELoss().cuda()\n",
        "\n",
        "print(network)"
      ],
      "execution_count": 269,
      "outputs": [
        {
          "output_type": "stream",
          "text": [
            "Net(\n",
            "  (fc1): Linear(in_features=784, out_features=394, bias=True)\n",
            "  (relu1): ReLU()\n",
            "  (fc2): Linear(in_features=394, out_features=196, bias=True)\n",
            "  (relu2): ReLU()\n",
            "  (fc3): Linear(in_features=196, out_features=10, bias=True)\n",
            ")\n"
          ],
          "name": "stdout"
        }
      ]
    },
    {
      "cell_type": "code",
      "metadata": {
        "colab": {
          "base_uri": "https://localhost:8080/"
        },
        "id": "1MnOqoUK_vGx",
        "outputId": "ce4118e6-8bf0-48ed-b40a-a0f629a4e692"
      },
      "source": [
        "dev = torch.device(\"cuda\") if torch.cuda.is_available() else torch.device(\"cpu\")\n",
        "network.to(dev)\n",
        "criterion.to(dev)\n",
        "dev"
      ],
      "execution_count": 270,
      "outputs": [
        {
          "output_type": "execute_result",
          "data": {
            "text/plain": [
              "device(type='cpu')"
            ]
          },
          "metadata": {
            "tags": []
          },
          "execution_count": 270
        }
      ]
    },
    {
      "cell_type": "code",
      "metadata": {
        "colab": {
          "base_uri": "https://localhost:8080/"
        },
        "id": "-SQxeSmA_xaj",
        "outputId": "c4545f59-1bc0-4818-edb1-9d8b0bfe5c11"
      },
      "source": [
        "device = torch.device('cuda' if torch.cuda.is_available() else 'cpu')\n",
        "print('Using device:', device)\n",
        "print()\n",
        "\n",
        "#Additional Info when using cuda\n",
        "if device.type == 'cuda':\n",
        "    print(torch.cuda.get_device_name(0))\n",
        "    print('Memory Usage:')\n",
        "    print('Allocated:', round(torch.cuda.memory_allocated(0)/1024**3,1), 'GB')\n",
        "    print('Cached:   ', round(torch.cuda.memory_cached(0)/1024**3,1), 'GB')"
      ],
      "execution_count": 271,
      "outputs": [
        {
          "output_type": "stream",
          "text": [
            "Using device: cpu\n",
            "\n"
          ],
          "name": "stdout"
        }
      ]
    },
    {
      "cell_type": "code",
      "metadata": {
        "id": "JLzLwFT0_0Mg"
      },
      "source": [
        "train_loader = torch.utils.data.DataLoader(train_dataset, batch_size = len(train_dataset),shuffle=True)\n",
        "test_loader = torch.utils.data.DataLoader(test_dataset, batch_size = len(test_dataset),shuffle=True)"
      ],
      "execution_count": 272,
      "outputs": []
    },
    {
      "cell_type": "code",
      "metadata": {
        "colab": {
          "base_uri": "https://localhost:8080/",
          "height": 282
        },
        "id": "O1vxofpT_3YM",
        "outputId": "0b9bf92c-c6e0-4d1a-ea22-7912d4201cd2"
      },
      "source": [
        "dataiter = iter(train_loader)\n",
        "itr = dataiter.next()\n",
        "\n",
        "label = itr['class_name']\n",
        "dat = itr['data']\n",
        "\n",
        "pyplot.imshow(dat[0], cmap=pyplot.get_cmap('gray'))\n",
        "pyplot.show()\n",
        "\n",
        "print(label[0])"
      ],
      "execution_count": 273,
      "outputs": [
        {
          "output_type": "display_data",
          "data": {
            "image/png": "[encoded data removed]",
            "text/plain": [
              "<Figure size 432x288 with 1 Axes>"
            ]
          },
          "metadata": {
            "tags": [],
            "needs_background": "light"
          }
        },
        {
          "output_type": "stream",
          "text": [
            "tensor(3, dtype=torch.uint8)\n"
          ],
          "name": "stdout"
        }
      ]
    },
    {
      "cell_type": "code",
      "metadata": {
        "colab": {
          "base_uri": "https://localhost:8080/",
          "height": 391
        },
        "id": "boQCZfH2Aukr",
        "outputId": "a84c3d7b-9ac7-4304-a66d-83dfa02175ad"
      },
      "source": [
        "def train(train_loader, test_loader, epoch_amount, save_checkpoint = 10):\n",
        "  network.eval()\n",
        "  train_loss_hist = []\n",
        "  acc_history = []\n",
        "\n",
        "  checkpoint = save_checkpoint\n",
        "  for epoch in range(epoch_amount):\n",
        "    num_data_train = 0\n",
        "\n",
        "    # TRAINING DATASET\n",
        "    correct = 0\n",
        "    wrong = 0\n",
        "    for data in train_loader:\n",
        "      labels = torch.from_numpy(np.array(data['class_name']))\n",
        "      dat = data['data']\n",
        "\n",
        "      lossSum = 0\n",
        "\n",
        "      parsedData = []\n",
        "      '''\n",
        "      for dictIdx in range(len(labels)):\n",
        "        parsedData.append(\n",
        "            np.array([dat['Pregnancies'][dictIdx].float(), dat['Glucose'][dictIdx].float(), dat['BloodPressure'][dictIdx].float(), dat['BMI'][dictIdx].float(), dat['Age'][dictIdx].float()])\n",
        "            )\n",
        "      '''\n",
        "\n",
        "      for idx in range(len(labels)):\n",
        "        optimizer.zero_grad()\n",
        "        \n",
        "        outputs = network(torch.Tensor(dat[idx].flatten().float()))\n",
        "        realAnswer = np.zeros(10)\n",
        "        realAnswer[labels[idx]] = 1\n",
        "\n",
        "        loss = criterion(outputs, torch.Tensor(realAnswer))\n",
        "          \n",
        "        loss.backward()\n",
        "\n",
        "        lossSum += loss.item()\n",
        "        train_loss_hist.append(lossSum)\n",
        "\n",
        "        optimizer.step()\n",
        "    '''\n",
        "    # TESTING DATASET\n",
        "    for data in test_loader:\n",
        "      labels = torch.from_numpy(np.array(data['class_name']))\n",
        "      dat = data['data']\n",
        "\n",
        "      for idx in range(len(labels)):\n",
        "        outputs = network(torch.Tensor(dat[idx].flatten().float()))\n",
        "\n",
        "        predicted = get_answer(outputs)\n",
        "        real_answer = labels[idx].item()\n",
        "\n",
        "        if predicted == real_answer:\n",
        "          correct += 1\n",
        "        else:\n",
        "          wrong += 1\n",
        "\n",
        "    acc_history.append(\n",
        "        correct/(correct+wrong)*100\n",
        "    )\n",
        "    '''\n",
        "    #print(\"Epoch: {} Training loss: {} Accuracy: {}\".format(epoch,train_loss_hist[len(train_loss_hist) - 1], acc_history[len(acc_history) - 1]))\n",
        "    print(\"Epoch: {} Training loss: {}\".format(epoch,train_loss_hist[len(train_loss_hist) - 1]))\n",
        "\n",
        "    if(checkpoint == 0):\n",
        "      torch.save(network.state_dict(), '/content/results/model.pth')\n",
        "      torch.save(optimizer.state_dict(), '/content/results/optimizer.pth')\n",
        "\n",
        "      checkpoint = save_checkpoint\n",
        "    else:\n",
        "      checkpoint -= 1\n",
        "\n",
        "  plt.plot(np.arange(0, len(train_loss_hist), 1), train_loss_hist)\n",
        "  plt.show()\n",
        "\n",
        "  plt.plot(np.arange(0, len(acc_history), 1), acc_history)\n",
        "  plt.show()\n",
        "\n",
        "  avg_hist = []\n",
        "\n",
        "  for i in range(int(len(acc_history)/10)):\n",
        "    avg = 0\n",
        "    \n",
        "    for p in range(10):\n",
        "      avg += acc_history[i*10 + p]\n",
        "\n",
        "    avg_hist.append(avg/10)\n",
        "\n",
        "  plt.plot(np.arange(0, len(avg_hist)), avg_hist)\n",
        "  plt.grid()\n",
        "  plt.show()\n",
        "\n",
        "train(train_loader, test_loader, 20)\n"
      ],
      "execution_count": 276,
      "outputs": [
        {
          "output_type": "stream",
          "text": [
            "Epoch: 0 Training loss: 866.0762541648\n",
            "Epoch: 1 Training loss: 813.7256100410304\n",
            "Epoch: 2 Training loss: 779.2987110129034\n"
          ],
          "name": "stdout"
        },
        {
          "output_type": "error",
          "ename": "KeyboardInterrupt",
          "evalue": "ignored",
          "traceback": [
            "\u001b[0;31m---------------------------------------------------------------------------\u001b[0m",
            "\u001b[0;31mKeyboardInterrupt\u001b[0m                         Traceback (most recent call last)",
            "\u001b[0;32m<ipython-input-276-7829da6a0260>\u001b[0m in \u001b[0;36m<module>\u001b[0;34m()\u001b[0m\n\u001b[1;32m     92\u001b[0m   \u001b[0mplt\u001b[0m\u001b[0;34m.\u001b[0m\u001b[0mshow\u001b[0m\u001b[0;34m(\u001b[0m\u001b[0;34m)\u001b[0m\u001b[0;34m\u001b[0m\u001b[0;34m\u001b[0m\u001b[0m\n\u001b[1;32m     93\u001b[0m \u001b[0;34m\u001b[0m\u001b[0m\n\u001b[0;32m---> 94\u001b[0;31m \u001b[0mtrain\u001b[0m\u001b[0;34m(\u001b[0m\u001b[0mtrain_loader\u001b[0m\u001b[0;34m,\u001b[0m \u001b[0mtest_loader\u001b[0m\u001b[0;34m,\u001b[0m \u001b[0;36m20\u001b[0m\u001b[0;34m)\u001b[0m\u001b[0;34m\u001b[0m\u001b[0;34m\u001b[0m\u001b[0m\n\u001b[0m",
            "\u001b[0;32m<ipython-input-276-7829da6a0260>\u001b[0m in \u001b[0;36mtrain\u001b[0;34m(train_loader, test_loader, epoch_amount, save_checkpoint)\u001b[0m\n\u001b[1;32m     39\u001b[0m         \u001b[0mtrain_loss_hist\u001b[0m\u001b[0;34m.\u001b[0m\u001b[0mappend\u001b[0m\u001b[0;34m(\u001b[0m\u001b[0mlossSum\u001b[0m\u001b[0;34m)\u001b[0m\u001b[0;34m\u001b[0m\u001b[0;34m\u001b[0m\u001b[0m\n\u001b[1;32m     40\u001b[0m \u001b[0;34m\u001b[0m\u001b[0m\n\u001b[0;32m---> 41\u001b[0;31m         \u001b[0moptimizer\u001b[0m\u001b[0;34m.\u001b[0m\u001b[0mstep\u001b[0m\u001b[0;34m(\u001b[0m\u001b[0;34m)\u001b[0m\u001b[0;34m\u001b[0m\u001b[0;34m\u001b[0m\u001b[0m\n\u001b[0m\u001b[1;32m     42\u001b[0m     '''\n\u001b[1;32m     43\u001b[0m     \u001b[0;31m# TESTING DATASET\u001b[0m\u001b[0;34m\u001b[0m\u001b[0;34m\u001b[0m\u001b[0;34m\u001b[0m\u001b[0m\n",
            "\u001b[0;32m/usr/local/lib/python3.7/dist-packages/torch/autograd/grad_mode.py\u001b[0m in \u001b[0;36mdecorate_context\u001b[0;34m(*args, **kwargs)\u001b[0m\n\u001b[1;32m     24\u001b[0m         \u001b[0;32mdef\u001b[0m \u001b[0mdecorate_context\u001b[0m\u001b[0;34m(\u001b[0m\u001b[0;34m*\u001b[0m\u001b[0margs\u001b[0m\u001b[0;34m,\u001b[0m \u001b[0;34m**\u001b[0m\u001b[0mkwargs\u001b[0m\u001b[0;34m)\u001b[0m\u001b[0;34m:\u001b[0m\u001b[0;34m\u001b[0m\u001b[0;34m\u001b[0m\u001b[0m\n\u001b[1;32m     25\u001b[0m             \u001b[0;32mwith\u001b[0m \u001b[0mself\u001b[0m\u001b[0;34m.\u001b[0m\u001b[0m__class__\u001b[0m\u001b[0;34m(\u001b[0m\u001b[0;34m)\u001b[0m\u001b[0;34m:\u001b[0m\u001b[0;34m\u001b[0m\u001b[0;34m\u001b[0m\u001b[0m\n\u001b[0;32m---> 26\u001b[0;31m                 \u001b[0;32mreturn\u001b[0m \u001b[0mfunc\u001b[0m\u001b[0;34m(\u001b[0m\u001b[0;34m*\u001b[0m\u001b[0margs\u001b[0m\u001b[0;34m,\u001b[0m \u001b[0;34m**\u001b[0m\u001b[0mkwargs\u001b[0m\u001b[0;34m)\u001b[0m\u001b[0;34m\u001b[0m\u001b[0;34m\u001b[0m\u001b[0m\n\u001b[0m\u001b[1;32m     27\u001b[0m         \u001b[0;32mreturn\u001b[0m \u001b[0mcast\u001b[0m\u001b[0;34m(\u001b[0m\u001b[0mF\u001b[0m\u001b[0;34m,\u001b[0m \u001b[0mdecorate_context\u001b[0m\u001b[0;34m)\u001b[0m\u001b[0;34m\u001b[0m\u001b[0;34m\u001b[0m\u001b[0m\n\u001b[1;32m     28\u001b[0m \u001b[0;34m\u001b[0m\u001b[0m\n",
            "\u001b[0;32m/usr/local/lib/python3.7/dist-packages/torch/optim/sgd.py\u001b[0m in \u001b[0;36mstep\u001b[0;34m(self, closure)\u001b[0m\n\u001b[1;32m    110\u001b[0m                         \u001b[0md_p\u001b[0m \u001b[0;34m=\u001b[0m \u001b[0mbuf\u001b[0m\u001b[0;34m\u001b[0m\u001b[0;34m\u001b[0m\u001b[0m\n\u001b[1;32m    111\u001b[0m \u001b[0;34m\u001b[0m\u001b[0m\n\u001b[0;32m--> 112\u001b[0;31m                 \u001b[0mp\u001b[0m\u001b[0;34m.\u001b[0m\u001b[0madd_\u001b[0m\u001b[0;34m(\u001b[0m\u001b[0md_p\u001b[0m\u001b[0;34m,\u001b[0m \u001b[0malpha\u001b[0m\u001b[0;34m=\u001b[0m\u001b[0;34m-\u001b[0m\u001b[0mgroup\u001b[0m\u001b[0;34m[\u001b[0m\u001b[0;34m'lr'\u001b[0m\u001b[0;34m]\u001b[0m\u001b[0;34m)\u001b[0m\u001b[0;34m\u001b[0m\u001b[0;34m\u001b[0m\u001b[0m\n\u001b[0m\u001b[1;32m    113\u001b[0m \u001b[0;34m\u001b[0m\u001b[0m\n\u001b[1;32m    114\u001b[0m         \u001b[0;32mreturn\u001b[0m \u001b[0mloss\u001b[0m\u001b[0;34m\u001b[0m\u001b[0;34m\u001b[0m\u001b[0m\n",
            "\u001b[0;31mKeyboardInterrupt\u001b[0m: "
          ]
        }
      ]
    },
    {
      "cell_type": "markdown",
      "metadata": {
        "id": "CXsvm2d6AVLh"
      },
      "source": [
        "Palieka tik tie duomenys iš training_set, kurie yra teisingai atsakyti"
      ]
    },
    {
      "cell_type": "code",
      "metadata": {
        "id": "QrsJroN047Sm"
      },
      "source": [
        "increaseValues = [0, 0, 0, 0, 0]\n",
        "dataIdx = [0, 0, 0, 0, 0]\n",
        "\n",
        "for data in train_loader:\n",
        "      labels = torch.from_numpy(np.array(data['class_name']))\n",
        "      dat = data['data']\n",
        "\n",
        "      parsedData = []\n",
        "      for dictIdx in range(len(labels)):\n",
        "        parsedData.append(\n",
        "            np.array([dat['Pregnancies'][dictIdx].float(), dat['Glucose'][dictIdx].float(), dat['BloodPressure'][dictIdx].float(), dat['BMI'][dictIdx].float(), dat['Age'][dictIdx].float()])\n",
        "            )\n",
        "\n",
        "      for idx in range(len(labels)):\n",
        "        outputs = network(torch.Tensor(parsedData[idx].flatten()))\n",
        "        \n",
        "        predicted = get_answer(outputs)\n",
        "        real_answer = labels[idx].item()\n",
        "\n",
        "        collumnIdx = 0\n",
        "        for collumnIdx in range(5):\n",
        "\n",
        "          # Sutampa duomenys, vykdoma tolimesne analize\n",
        "          if(predicted == real_answer):\n",
        "            epsilon = 0.1\n",
        "            increase = 0\n",
        "            dataIdx[collumnIdx] += 1\n",
        "\n",
        "            while(predicted == real_answer and increase < 100):\n",
        "              tempData = parsedData[idx].flatten()\n",
        "              increase += epsilon\n",
        "              tempData[0] += increase\n",
        "\n",
        "              outputs = network(torch.Tensor(tempData))\n",
        "\n",
        "              predicted = get_answer(outputs)\n",
        "              real_answer = labels[idx].item()\n",
        "\n",
        "            increaseValues[collumnIdx] += increase\n",
        "\n",
        "for i in range(5):\n",
        "  if dataIdx[i] == 0:\n",
        "    dataIdx[i] = 1\n",
        "\n",
        "  print(\"{}th collumn maximum epsilon: {}\".format(i, increaseValues[i]/dataIdx[i]))\n",
        "\n",
        "s = 0\n",
        "for i in range(5):\n",
        "  s += increaseValues[i]/dataIdx[i]\n",
        "\n",
        "print(\"Model maximum epsilon: {}\".format(s/5))"
      ],
      "execution_count": null,
      "outputs": []
    }
  ]
}