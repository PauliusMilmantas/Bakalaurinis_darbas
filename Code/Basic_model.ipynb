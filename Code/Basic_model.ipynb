{
  "nbformat": 4,
  "nbformat_minor": 0,
  "metadata": {
    "colab": {
      "name": "Basic_model.ipynb",
      "provenance": [],
      "collapsed_sections": []
    },
    "kernelspec": {
      "name": "python3",
      "display_name": "Python 3"
    }
  },
  "cells": [
    {
      "cell_type": "code",
      "metadata": {
        "id": "mIzgXJHW-I2k"
      },
      "source": [
        "from __future__ import print_function, division\n",
        "import os\n",
        "import torch\n",
        "from torch.optim.optimizer import Optimizer\n",
        "from skimage import io, transform\n",
        "import numpy as np\n",
        "import matplotlib.pyplot as plt\n",
        "from torch.utils.data import Dataset, DataLoader\n",
        "from torchvision import transforms, utils\n",
        "from skimage import io\n",
        "import torch.nn as nn\n",
        "import torch.nn.functional as F\n",
        "\n",
        "from skimage.color import rgb2gray\n",
        "\n",
        "from torch.utils.tensorboard import SummaryWriter\n",
        "\n",
        "import PIL\n",
        "from PIL import Image\n",
        "\n",
        "from google.colab import output"
      ],
      "execution_count": 1,
      "outputs": []
    },
    {
      "cell_type": "code",
      "metadata": {
        "id": "6CzjepVFB0B6"
      },
      "source": [
        "%mkdir results"
      ],
      "execution_count": 2,
      "outputs": []
    },
    {
      "cell_type": "code",
      "metadata": {
        "colab": {
          "base_uri": "https://localhost:8080/"
        },
        "id": "UV6gHHYJ8KoT",
        "outputId": "e5d02067-36d9-4636-eeef-5a4b3766743a"
      },
      "source": [
        "!git clone https://github.com/PauliusMilmantas/Bakalaurinis_darbas"
      ],
      "execution_count": 3,
      "outputs": [
        {
          "output_type": "stream",
          "text": [
            "Cloning into 'Bakalaurinis_darbas'...\n",
            "remote: Enumerating objects: 137, done.\u001b[K\n",
            "remote: Counting objects: 100% (137/137), done.\u001b[K\n",
            "remote: Compressing objects: 100% (100/100), done.\u001b[K\n",
            "remote: Total 137 (delta 56), reused 116 (delta 35), pack-reused 0\u001b[K\n",
            "Receiving objects: 100% (137/137), 1.80 MiB | 5.43 MiB/s, done.\n",
            "Resolving deltas: 100% (56/56), done.\n"
          ],
          "name": "stdout"
        }
      ]
    },
    {
      "cell_type": "code",
      "metadata": {
        "colab": {
          "base_uri": "https://localhost:8080/"
        },
        "id": "0MUJunKO8RWp",
        "outputId": "b67ce9a7-d472-49aa-ba95-fb989f15c2d3"
      },
      "source": [
        "%cd /content/Bakalaurinis_darbas/Code"
      ],
      "execution_count": 4,
      "outputs": [
        {
          "output_type": "stream",
          "text": [
            "/content/Bakalaurinis_darbas/Code\n"
          ],
          "name": "stdout"
        }
      ]
    },
    {
      "cell_type": "code",
      "metadata": {
        "id": "3gAQdhKZLiSR"
      },
      "source": [
        "def get_answer(output):\n",
        "  if output[0] > output[1]:\n",
        "    return 0\n",
        "  else:\n",
        "    return 1"
      ],
      "execution_count": 5,
      "outputs": []
    },
    {
      "cell_type": "code",
      "metadata": {
        "id": "Do-l7YQn-Qrt"
      },
      "source": [
        "import pandas as pd\n",
        "\n",
        "class ORCDataset(Dataset):\n",
        "  def __init__(self, root):\n",
        "    self.root = root\n",
        "    self.data = pd.read_csv(root)\n",
        "\n",
        "  def __len__(self):\n",
        "    return len(self.data)\n",
        "\n",
        "  def __getitem__(self, idx):\n",
        "    dat = {}\n",
        "    dat['Pregnancies'] = self.data['Pregnancies'][idx]\n",
        "    dat['Glucose'] = self.data['Glucose'][idx]\n",
        "    dat['BloodPressure'] = self.data['BloodPressure'][idx]\n",
        "    dat['BMI'] = self.data['BMI'][idx]\n",
        "    dat['Age'] = self.data['Age'][idx]\n",
        "    found_type = self.data['Outcome'][idx]\n",
        "\n",
        "    return {'data': dat, 'class_name': found_type}\n",
        "\n",
        "train_dataset = ORCDataset('/content/Bakalaurinis_darbas/Code/train.csv')\n",
        "test_dataset = ORCDataset('/content/Bakalaurinis_darbas/Code/test.csv')"
      ],
      "execution_count": 6,
      "outputs": []
    },
    {
      "cell_type": "code",
      "metadata": {
        "id": "DEY-Wb1z98SD"
      },
      "source": [
        "class Net(nn.Module):\n",
        "    def __init__(self, input_size, hidden1_size, hidden2_size, num_classes):\n",
        "        super(Net, self).__init__()\n",
        "        self.fc1 = nn.Linear(input_size, hidden1_size)\n",
        "        self.relu1 = nn.ReLU()\n",
        "        self.fc2 = nn.Linear(hidden1_size, hidden2_size)\n",
        "        self.relu2 = nn.ReLU()\n",
        "        self.fc3 = nn.Linear(hidden2_size, num_classes)  \n",
        "    \n",
        "    def forward(self, x):\n",
        "        out = self.fc1(x)\n",
        "        out = self.relu1(out)\n",
        "        out = self.fc2(out)        \n",
        "        out = self.relu2(out)     \n",
        "        out = self.fc3(out)\n",
        "        return out"
      ],
      "execution_count": 7,
      "outputs": []
    },
    {
      "cell_type": "markdown",
      "metadata": {
        "id": "BLcbrZyj_hXT"
      },
      "source": [
        "2 <- 7 <- 15 <- 5"
      ]
    },
    {
      "cell_type": "code",
      "metadata": {
        "colab": {
          "base_uri": "https://localhost:8080/"
        },
        "id": "o3GzBs6t_X0g",
        "outputId": "230b6056-0894-4335-ca32-ebfdb472faf8"
      },
      "source": [
        "network = Net(5, 15, 7, 2)\n",
        "optimizer = torch.optim.SGD(network.parameters(), lr=0.0001, momentum=0.6)\n",
        "criterion = nn.MSELoss().cuda()\n",
        "\n",
        "print(network)"
      ],
      "execution_count": 8,
      "outputs": [
        {
          "output_type": "stream",
          "text": [
            "Net(\n",
            "  (fc1): Linear(in_features=5, out_features=15, bias=True)\n",
            "  (relu1): ReLU()\n",
            "  (fc2): Linear(in_features=15, out_features=7, bias=True)\n",
            "  (relu2): ReLU()\n",
            "  (fc3): Linear(in_features=7, out_features=2, bias=True)\n",
            ")\n"
          ],
          "name": "stdout"
        }
      ]
    },
    {
      "cell_type": "code",
      "metadata": {
        "colab": {
          "base_uri": "https://localhost:8080/"
        },
        "id": "1MnOqoUK_vGx",
        "outputId": "4c6b0f1f-cda3-4107-b381-dcaddc5f96cd"
      },
      "source": [
        "dev = torch.device(\"cuda\") if torch.cuda.is_available() else torch.device(\"cpu\")\n",
        "network.to(dev)\n",
        "criterion.to(dev)\n",
        "dev"
      ],
      "execution_count": 9,
      "outputs": [
        {
          "output_type": "execute_result",
          "data": {
            "text/plain": [
              "device(type='cpu')"
            ]
          },
          "metadata": {
            "tags": []
          },
          "execution_count": 9
        }
      ]
    },
    {
      "cell_type": "code",
      "metadata": {
        "colab": {
          "base_uri": "https://localhost:8080/"
        },
        "id": "-SQxeSmA_xaj",
        "outputId": "0db1c9ca-aef4-487b-8a90-ff037cd59bc5"
      },
      "source": [
        "device = torch.device('cuda' if torch.cuda.is_available() else 'cpu')\n",
        "print('Using device:', device)\n",
        "print()\n",
        "\n",
        "#Additional Info when using cuda\n",
        "if device.type == 'cuda':\n",
        "    print(torch.cuda.get_device_name(0))\n",
        "    print('Memory Usage:')\n",
        "    print('Allocated:', round(torch.cuda.memory_allocated(0)/1024**3,1), 'GB')\n",
        "    print('Cached:   ', round(torch.cuda.memory_cached(0)/1024**3,1), 'GB')"
      ],
      "execution_count": 10,
      "outputs": [
        {
          "output_type": "stream",
          "text": [
            "Using device: cpu\n",
            "\n"
          ],
          "name": "stdout"
        }
      ]
    },
    {
      "cell_type": "code",
      "metadata": {
        "id": "JLzLwFT0_0Mg"
      },
      "source": [
        "train_loader = torch.utils.data.DataLoader(train_dataset, batch_size = len(train_dataset),shuffle=True)\n",
        "test_loader = torch.utils.data.DataLoader(test_dataset, batch_size = len(test_dataset),shuffle=True)"
      ],
      "execution_count": 11,
      "outputs": []
    },
    {
      "cell_type": "code",
      "metadata": {
        "colab": {
          "base_uri": "https://localhost:8080/"
        },
        "id": "O1vxofpT_3YM",
        "outputId": "aa6dca2e-8bfb-4f5c-b042-798585050899"
      },
      "source": [
        "dataiter = iter(train_loader)\n",
        "itr = dataiter.next()\n",
        "\n",
        "label = itr['class_name']\n",
        "dat = itr['data']\n",
        "print(\"Class name: {} Data: [Pregnancies: {} Glucose: {} BloodPressure: {} BMI: {} Age: {}]\".format(label[0], dat['Pregnancies'][0], dat['Glucose'][0], dat['BloodPressure'][0], dat['BMI'][0], dat['Age'][0]))"
      ],
      "execution_count": 12,
      "outputs": [
        {
          "output_type": "stream",
          "text": [
            "Class name: 0 Data: [Pregnancies: 5 Glucose: 114 BloodPressure: 74 BMI: 24.9 Age: 57]\n"
          ],
          "name": "stdout"
        }
      ]
    },
    {
      "cell_type": "code",
      "metadata": {
        "colab": {
          "base_uri": "https://localhost:8080/",
          "height": 1000
        },
        "id": "boQCZfH2Aukr",
        "outputId": "24083f8e-fa12-4427-bedf-4effdcd0402d"
      },
      "source": [
        "def train(train_loader, test_loader, epoch_amount, save_checkpoint = 10):\n",
        "  network.eval()\n",
        "  train_loss_hist = []\n",
        "  acc_history = []\n",
        "\n",
        "  checkpoint = save_checkpoint\n",
        "  for epoch in range(epoch_amount):\n",
        "    num_data_train = 0\n",
        "\n",
        "    # TRAINING DATASET\n",
        "    correct = 0\n",
        "    wrong = 0\n",
        "    for data in train_loader:\n",
        "      labels = torch.from_numpy(np.array(data['class_name']))\n",
        "      dat = data['data']\n",
        "\n",
        "      lossSum = 0\n",
        "\n",
        "      parsedData = []\n",
        "      for dictIdx in range(len(labels)):\n",
        "        parsedData.append(\n",
        "            np.array([dat['Pregnancies'][dictIdx].float(), dat['Glucose'][dictIdx].float(), dat['BloodPressure'][dictIdx].float(), dat['BMI'][dictIdx].float(), dat['Age'][dictIdx].float()])\n",
        "            )\n",
        "\n",
        "      for idx in range(len(labels)):\n",
        "        optimizer.zero_grad()\n",
        "\n",
        "        outputs = network(torch.Tensor(parsedData[idx].flatten()))\n",
        "        realAnswer = [0, 0]\n",
        "        realAnswer[labels[idx]] = 1\n",
        "\n",
        "        loss = criterion(outputs, torch.Tensor(realAnswer))\n",
        "          \n",
        "        loss.backward()\n",
        "\n",
        "        lossSum += loss.item()\n",
        "        train_loss_hist.append(lossSum)\n",
        "\n",
        "        optimizer.step()\n",
        "\n",
        "    # TESTING DATASET\n",
        "    for data in test_loader:\n",
        "      labels = torch.from_numpy(np.array(data['class_name']))\n",
        "      dat = data['data']\n",
        "\n",
        "      parsedData = []\n",
        "      for dictIdx in range(len(labels)):\n",
        "        parsedData.append(\n",
        "            np.array([dat['Pregnancies'][dictIdx].float(), dat['Glucose'][dictIdx].float(), dat['BloodPressure'][dictIdx].float(), dat['BMI'][dictIdx].float(), dat['Age'][dictIdx].float()])\n",
        "            )\n",
        "\n",
        "      for idx in range(len(labels)):\n",
        "        outputs = network(torch.Tensor(parsedData[idx].flatten()))\n",
        "\n",
        "        predicted = get_answer(outputs)\n",
        "        real_answer = labels[idx].item()\n",
        "\n",
        "        if predicted == real_answer:\n",
        "          correct += 1\n",
        "        else:\n",
        "          wrong += 1\n",
        "\n",
        "    acc_history.append(\n",
        "        correct/(correct+wrong)*100\n",
        "    )\n",
        "    print(\"Epoch: {} Training loss: {} Accuracy: {}\".format(epoch,train_loss_hist[len(train_loss_hist) - 1], acc_history[len(acc_history) - 1]))\n",
        "    \n",
        "    if(checkpoint == 0):\n",
        "      torch.save(network.state_dict(), '/content/results/model.pth')\n",
        "      torch.save(optimizer.state_dict(), '/content/results/optimizer.pth')\n",
        "\n",
        "      checkpoint = save_checkpoint\n",
        "    else:\n",
        "      checkpoint -= 1\n",
        "\n",
        "  plt.plot(np.arange(0, len(train_loss_hist), 1), train_loss_hist)\n",
        "  plt.show()\n",
        "\n",
        "  plt.plot(np.arange(0, len(acc_history), 1), acc_history)\n",
        "  plt.show()\n",
        "\n",
        "  avg_hist = []\n",
        "\n",
        "  for i in range(int(len(acc_history)/10)):\n",
        "    avg = 0\n",
        "    \n",
        "    for p in range(10):\n",
        "      avg += acc_history[i*10 + p]\n",
        "\n",
        "    avg_hist.append(avg/10)\n",
        "\n",
        "  plt.plot(np.arange(0, len(avg_hist)), avg_hist)\n",
        "  plt.grid()\n",
        "  plt.show()\n",
        "\n",
        "train(train_loader, test_loader, 250)\n"
      ],
      "execution_count": 13,
      "outputs": [
        {
          "output_type": "stream",
          "text": [
            "Epoch: 0 Training loss: 321.93927558814175 Accuracy: 64.49704142011834\n",
            "Epoch: 1 Training loss: 202.8902275358996 Accuracy: 63.905325443786985\n",
            "Epoch: 2 Training loss: 185.5209742009174 Accuracy: 63.905325443786985\n",
            "Epoch: 3 Training loss: 170.18973704369273 Accuracy: 39.64497041420118\n",
            "Epoch: 4 Training loss: 169.7053333830554 Accuracy: 63.905325443786985\n",
            "Epoch: 5 Training loss: 163.44630118482746 Accuracy: 65.08875739644971\n",
            "Epoch: 6 Training loss: 157.61601634230465 Accuracy: 66.86390532544378\n",
            "Epoch: 7 Training loss: 156.96602679241914 Accuracy: 63.905325443786985\n",
            "Epoch: 8 Training loss: 154.61634092684835 Accuracy: 68.63905325443787\n",
            "Epoch: 9 Training loss: 152.74354718226823 Accuracy: 66.27218934911244\n",
            "Epoch: 10 Training loss: 150.452846680535 Accuracy: 69.8224852071006\n",
            "Epoch: 11 Training loss: 149.0799198068853 Accuracy: 63.905325443786985\n",
            "Epoch: 12 Training loss: 147.79318115935894 Accuracy: 66.86390532544378\n",
            "Epoch: 13 Training loss: 142.88203734951094 Accuracy: 65.08875739644971\n",
            "Epoch: 14 Training loss: 145.64934007800184 Accuracy: 69.23076923076923\n",
            "Epoch: 15 Training loss: 144.00850174669176 Accuracy: 70.41420118343196\n",
            "Epoch: 16 Training loss: 143.65813643787988 Accuracy: 69.23076923076923\n",
            "Epoch: 17 Training loss: 143.17117574159056 Accuracy: 72.7810650887574\n",
            "Epoch: 18 Training loss: 140.30469313636422 Accuracy: 65.68047337278107\n",
            "Epoch: 19 Training loss: 141.07378157880157 Accuracy: 66.27218934911244\n",
            "Epoch: 20 Training loss: 140.2295356001705 Accuracy: 66.86390532544378\n",
            "Epoch: 21 Training loss: 137.4967396054417 Accuracy: 66.27218934911244\n",
            "Epoch: 22 Training loss: 138.7334051746875 Accuracy: 65.08875739644971\n",
            "Epoch: 23 Training loss: 137.20549826789647 Accuracy: 71.00591715976331\n",
            "Epoch: 24 Training loss: 137.14843909349293 Accuracy: 66.86390532544378\n",
            "Epoch: 25 Training loss: 136.2137471609749 Accuracy: 71.59763313609467\n",
            "Epoch: 26 Training loss: 135.52468109247275 Accuracy: 68.04733727810651\n",
            "Epoch: 27 Training loss: 134.86764801247045 Accuracy: 71.00591715976331\n",
            "Epoch: 28 Training loss: 135.2175014722161 Accuracy: 71.00591715976331\n",
            "Epoch: 29 Training loss: 133.84232678357512 Accuracy: 67.45562130177515\n",
            "Epoch: 30 Training loss: 133.93272283487022 Accuracy: 71.00591715976331\n",
            "Epoch: 31 Training loss: 133.45909302588552 Accuracy: 66.86390532544378\n",
            "Epoch: 32 Training loss: 133.77151320595294 Accuracy: 70.41420118343196\n",
            "Epoch: 33 Training loss: 133.34017419465818 Accuracy: 66.86390532544378\n",
            "Epoch: 34 Training loss: 131.6409734096378 Accuracy: 65.08875739644971\n",
            "Epoch: 35 Training loss: 131.65926730050705 Accuracy: 72.18934911242604\n",
            "Epoch: 36 Training loss: 131.0942527023144 Accuracy: 66.86390532544378\n",
            "Epoch: 37 Training loss: 129.93604555539787 Accuracy: 71.00591715976331\n",
            "Epoch: 38 Training loss: 130.8178881215863 Accuracy: 73.96449704142012\n",
            "Epoch: 39 Training loss: 130.44412005972117 Accuracy: 68.04733727810651\n",
            "Epoch: 40 Training loss: 129.5209423158085 Accuracy: 68.63905325443787\n",
            "Epoch: 41 Training loss: 128.9953870105346 Accuracy: 70.41420118343196\n",
            "Epoch: 42 Training loss: 129.1495746546425 Accuracy: 70.41420118343196\n",
            "Epoch: 43 Training loss: 127.95244527270552 Accuracy: 68.63905325443787\n",
            "Epoch: 44 Training loss: 128.49214279896114 Accuracy: 70.41420118343196\n",
            "Epoch: 45 Training loss: 127.837549676653 Accuracy: 66.86390532544378\n",
            "Epoch: 46 Training loss: 127.42476937174797 Accuracy: 71.00591715976331\n",
            "Epoch: 47 Training loss: 126.53108490258455 Accuracy: 71.00591715976331\n",
            "Epoch: 48 Training loss: 126.07751814369112 Accuracy: 71.00591715976331\n",
            "Epoch: 49 Training loss: 125.59763802122325 Accuracy: 68.63905325443787\n",
            "Epoch: 50 Training loss: 124.53069067560136 Accuracy: 72.7810650887574\n",
            "Epoch: 51 Training loss: 124.99324795324355 Accuracy: 73.96449704142012\n",
            "Epoch: 52 Training loss: 125.44903759565204 Accuracy: 71.00591715976331\n",
            "Epoch: 53 Training loss: 124.2786256459076 Accuracy: 69.23076923076923\n",
            "Epoch: 54 Training loss: 124.29615185852163 Accuracy: 71.00591715976331\n",
            "Epoch: 55 Training loss: 123.79112859605812 Accuracy: 75.14792899408283\n",
            "Epoch: 56 Training loss: 123.97197965113446 Accuracy: 70.41420118343196\n",
            "Epoch: 57 Training loss: 123.26769773638807 Accuracy: 73.37278106508876\n",
            "Epoch: 58 Training loss: 123.56394284055568 Accuracy: 69.8224852071006\n",
            "Epoch: 59 Training loss: 122.89872368052602 Accuracy: 73.37278106508876\n",
            "Epoch: 60 Training loss: 123.25685667991638 Accuracy: 69.23076923076923\n",
            "Epoch: 61 Training loss: 122.92086758930236 Accuracy: 69.8224852071006\n",
            "Epoch: 62 Training loss: 122.19440164417028 Accuracy: 71.00591715976331\n",
            "Epoch: 63 Training loss: 122.32850321533624 Accuracy: 68.63905325443787\n",
            "Epoch: 64 Training loss: 122.23188583436422 Accuracy: 71.00591715976331\n",
            "Epoch: 65 Training loss: 120.94375038624275 Accuracy: 74.55621301775149\n",
            "Epoch: 66 Training loss: 122.36340654990636 Accuracy: 73.37278106508876\n",
            "Epoch: 67 Training loss: 121.38983835303225 Accuracy: 71.00591715976331\n",
            "Epoch: 68 Training loss: 121.50029328698292 Accuracy: 71.00591715976331\n",
            "Epoch: 69 Training loss: 120.75680199696217 Accuracy: 74.55621301775149\n",
            "Epoch: 70 Training loss: 119.87642907258123 Accuracy: 68.63905325443787\n",
            "Epoch: 71 Training loss: 120.96341629314702 Accuracy: 75.14792899408283\n",
            "Epoch: 72 Training loss: 119.38935358205345 Accuracy: 75.14792899408283\n",
            "Epoch: 73 Training loss: 120.75591059762519 Accuracy: 69.23076923076923\n",
            "Epoch: 74 Training loss: 120.1141313239932 Accuracy: 73.96449704142012\n",
            "Epoch: 75 Training loss: 119.744491730351 Accuracy: 70.41420118343196\n",
            "Epoch: 76 Training loss: 119.5862022965448 Accuracy: 75.14792899408283\n",
            "Epoch: 77 Training loss: 119.39910189399961 Accuracy: 72.18934911242604\n",
            "Epoch: 78 Training loss: 119.21540293213911 Accuracy: 70.41420118343196\n",
            "Epoch: 79 Training loss: 119.0388394468464 Accuracy: 71.00591715976331\n",
            "Epoch: 80 Training loss: 118.78273238119436 Accuracy: 75.14792899408283\n",
            "Epoch: 81 Training loss: 118.8350447237026 Accuracy: 76.33136094674556\n",
            "Epoch: 82 Training loss: 119.06204335903749 Accuracy: 76.33136094674556\n",
            "Epoch: 83 Training loss: 118.55748908524401 Accuracy: 77.51479289940828\n",
            "Epoch: 84 Training loss: 118.18637528346153 Accuracy: 73.37278106508876\n",
            "Epoch: 85 Training loss: 117.52716662315652 Accuracy: 75.7396449704142\n",
            "Epoch: 86 Training loss: 117.81125879683532 Accuracy: 71.00591715976331\n",
            "Epoch: 87 Training loss: 117.65032296045683 Accuracy: 73.37278106508876\n",
            "Epoch: 88 Training loss: 116.74447333242279 Accuracy: 76.92307692307693\n",
            "Epoch: 89 Training loss: 116.99456493795151 Accuracy: 73.37278106508876\n",
            "Epoch: 90 Training loss: 117.26317633956205 Accuracy: 70.41420118343196\n",
            "Epoch: 91 Training loss: 117.44639035702858 Accuracy: 75.7396449704142\n",
            "Epoch: 92 Training loss: 117.29914661502698 Accuracy: 78.10650887573965\n",
            "Epoch: 93 Training loss: 117.06827680277638 Accuracy: 73.37278106508876\n",
            "Epoch: 94 Training loss: 116.4153504082933 Accuracy: 70.41420118343196\n",
            "Epoch: 95 Training loss: 115.66823435772676 Accuracy: 77.51479289940828\n",
            "Epoch: 96 Training loss: 115.68612363455759 Accuracy: 73.37278106508876\n",
            "Epoch: 97 Training loss: 116.58474805951118 Accuracy: 76.92307692307693\n",
            "Epoch: 98 Training loss: 115.61855317710433 Accuracy: 78.10650887573965\n",
            "Epoch: 99 Training loss: 115.44423467398155 Accuracy: 77.51479289940828\n",
            "Epoch: 100 Training loss: 115.70053988840664 Accuracy: 75.14792899408283\n",
            "Epoch: 101 Training loss: 114.85719416802749 Accuracy: 75.14792899408283\n",
            "Epoch: 102 Training loss: 115.63064367765037 Accuracy: 76.92307692307693\n",
            "Epoch: 103 Training loss: 114.42345542018302 Accuracy: 71.00591715976331\n",
            "Epoch: 104 Training loss: 114.56172831356525 Accuracy: 72.7810650887574\n",
            "Epoch: 105 Training loss: 114.5041050590371 Accuracy: 72.18934911242604\n",
            "Epoch: 106 Training loss: 114.04940438471385 Accuracy: 72.18934911242604\n",
            "Epoch: 107 Training loss: 114.45681029453408 Accuracy: 70.41420118343196\n",
            "Epoch: 108 Training loss: 114.80052589793922 Accuracy: 76.92307692307693\n",
            "Epoch: 109 Training loss: 114.72538001055364 Accuracy: 77.51479289940828\n",
            "Epoch: 110 Training loss: 114.26615944487276 Accuracy: 71.59763313609467\n",
            "Epoch: 111 Training loss: 114.03498035927623 Accuracy: 72.18934911242604\n",
            "Epoch: 112 Training loss: 114.1177529207198 Accuracy: 77.51479289940828\n",
            "Epoch: 113 Training loss: 114.41897416388383 Accuracy: 71.00591715976331\n",
            "Epoch: 114 Training loss: 113.84081334533403 Accuracy: 71.59763313609467\n",
            "Epoch: 115 Training loss: 113.96059866505675 Accuracy: 77.51479289940828\n",
            "Epoch: 116 Training loss: 113.55663712666137 Accuracy: 78.69822485207101\n",
            "Epoch: 117 Training loss: 113.12070223406772 Accuracy: 78.10650887573965\n",
            "Epoch: 118 Training loss: 113.14870935460203 Accuracy: 71.59763313609467\n",
            "Epoch: 119 Training loss: 113.9418164792005 Accuracy: 74.55621301775149\n",
            "Epoch: 120 Training loss: 112.17129848613695 Accuracy: 77.51479289940828\n",
            "Epoch: 121 Training loss: 113.09392397601914 Accuracy: 72.18934911242604\n",
            "Epoch: 122 Training loss: 112.49855431634933 Accuracy: 72.7810650887574\n",
            "Epoch: 123 Training loss: 111.61122508789413 Accuracy: 69.23076923076923\n",
            "Epoch: 124 Training loss: 113.56285779294558 Accuracy: 72.7810650887574\n",
            "Epoch: 125 Training loss: 112.75777650411328 Accuracy: 72.7810650887574\n",
            "Epoch: 126 Training loss: 112.5850724055199 Accuracy: 76.92307692307693\n",
            "Epoch: 127 Training loss: 112.03261426562676 Accuracy: 79.88165680473372\n",
            "Epoch: 128 Training loss: 111.91505896700255 Accuracy: 76.92307692307693\n",
            "Epoch: 129 Training loss: 112.86760186759057 Accuracy: 75.14792899408283\n",
            "Epoch: 130 Training loss: 111.31873234922386 Accuracy: 75.14792899408283\n",
            "Epoch: 131 Training loss: 112.32861834962387 Accuracy: 79.88165680473372\n",
            "Epoch: 132 Training loss: 111.34365258349862 Accuracy: 70.41420118343196\n",
            "Epoch: 133 Training loss: 112.27884801095934 Accuracy: 74.55621301775149\n",
            "Epoch: 134 Training loss: 111.55431280465564 Accuracy: 76.33136094674556\n",
            "Epoch: 135 Training loss: 111.2545800130465 Accuracy: 74.55621301775149\n",
            "Epoch: 136 Training loss: 110.48078029701719 Accuracy: 79.28994082840237\n",
            "Epoch: 137 Training loss: 111.55292304628529 Accuracy: 79.28994082840237\n",
            "Epoch: 138 Training loss: 111.06300941720838 Accuracy: 74.55621301775149\n",
            "Epoch: 139 Training loss: 111.28399620763958 Accuracy: 75.7396449704142\n",
            "Epoch: 140 Training loss: 110.38120576561778 Accuracy: 78.69822485207101\n",
            "Epoch: 141 Training loss: 111.04475544781599 Accuracy: 73.96449704142012\n",
            "Epoch: 142 Training loss: 110.77027811508742 Accuracy: 74.55621301775149\n",
            "Epoch: 143 Training loss: 110.79184705996886 Accuracy: 77.51479289940828\n",
            "Epoch: 144 Training loss: 110.64742191100959 Accuracy: 79.88165680473372\n",
            "Epoch: 145 Training loss: 110.27827629580861 Accuracy: 75.14792899408283\n",
            "Epoch: 146 Training loss: 111.17130649171304 Accuracy: 71.59763313609467\n",
            "Epoch: 147 Training loss: 109.71433464903384 Accuracy: 73.37278106508876\n",
            "Epoch: 148 Training loss: 110.8972285133932 Accuracy: 75.7396449704142\n",
            "Epoch: 149 Training loss: 110.29673874599393 Accuracy: 70.41420118343196\n",
            "Epoch: 150 Training loss: 109.91663470263302 Accuracy: 71.00591715976331\n",
            "Epoch: 151 Training loss: 109.19129018278909 Accuracy: 77.51479289940828\n",
            "Epoch: 152 Training loss: 109.21994706732221 Accuracy: 69.23076923076923\n",
            "Epoch: 153 Training loss: 109.80699372033996 Accuracy: 79.88165680473372\n",
            "Epoch: 154 Training loss: 109.37066068479908 Accuracy: 79.28994082840237\n",
            "Epoch: 155 Training loss: 109.48389913685241 Accuracy: 72.7810650887574\n",
            "Epoch: 156 Training loss: 109.5938334477105 Accuracy: 78.69822485207101\n",
            "Epoch: 157 Training loss: 107.81743756582728 Accuracy: 71.00591715976331\n",
            "Epoch: 158 Training loss: 109.2247783024286 Accuracy: 75.14792899408283\n",
            "Epoch: 159 Training loss: 109.21569111762801 Accuracy: 75.14792899408283\n",
            "Epoch: 160 Training loss: 109.43875427659805 Accuracy: 75.14792899408283\n",
            "Epoch: 161 Training loss: 109.9367573276395 Accuracy: 71.00591715976331\n",
            "Epoch: 162 Training loss: 109.69532447197707 Accuracy: 75.14792899408283\n",
            "Epoch: 163 Training loss: 109.58999040926574 Accuracy: 79.88165680473372\n",
            "Epoch: 164 Training loss: 109.20846516385791 Accuracy: 69.8224852071006\n",
            "Epoch: 165 Training loss: 106.57765678060241 Accuracy: 72.7810650887574\n",
            "Epoch: 166 Training loss: 109.62285438156687 Accuracy: 80.4733727810651\n",
            "Epoch: 167 Training loss: 107.98078526384779 Accuracy: 71.00591715976331\n",
            "Epoch: 168 Training loss: 108.55283223449078 Accuracy: 69.8224852071006\n",
            "Epoch: 169 Training loss: 107.60379595380073 Accuracy: 80.4733727810651\n",
            "Epoch: 170 Training loss: 107.76916632286884 Accuracy: 70.41420118343196\n",
            "Epoch: 171 Training loss: 107.4461025170749 Accuracy: 70.41420118343196\n",
            "Epoch: 172 Training loss: 107.99616696572775 Accuracy: 78.69822485207101\n",
            "Epoch: 173 Training loss: 107.84575157234212 Accuracy: 79.28994082840237\n",
            "Epoch: 174 Training loss: 108.15135943015048 Accuracy: 80.4733727810651\n",
            "Epoch: 175 Training loss: 108.34015890327282 Accuracy: 76.33136094674556\n",
            "Epoch: 176 Training loss: 107.00996017219222 Accuracy: 73.96449704142012\n",
            "Epoch: 177 Training loss: 107.95186729829584 Accuracy: 76.33136094674556\n",
            "Epoch: 178 Training loss: 107.80442126810522 Accuracy: 81.06508875739645\n",
            "Epoch: 179 Training loss: 107.4527278159876 Accuracy: 74.55621301775149\n",
            "Epoch: 180 Training loss: 108.02064013644122 Accuracy: 75.7396449704142\n",
            "Epoch: 181 Training loss: 108.03199547767872 Accuracy: 79.88165680473372\n",
            "Epoch: 182 Training loss: 108.21244800466229 Accuracy: 74.55621301775149\n",
            "Epoch: 183 Training loss: 108.08811503931065 Accuracy: 71.59763313609467\n",
            "Epoch: 184 Training loss: 107.97958506492432 Accuracy: 74.55621301775149\n",
            "Epoch: 185 Training loss: 108.05796715646284 Accuracy: 74.55621301775149\n",
            "Epoch: 186 Training loss: 106.83520854474045 Accuracy: 76.92307692307693\n",
            "Epoch: 187 Training loss: 107.22848050691391 Accuracy: 71.00591715976331\n",
            "Epoch: 188 Training loss: 107.12308517019846 Accuracy: 75.14792899408283\n",
            "Epoch: 189 Training loss: 107.89733787991281 Accuracy: 74.55621301775149\n",
            "Epoch: 190 Training loss: 105.27300884378201 Accuracy: 74.55621301775149\n",
            "Epoch: 191 Training loss: 106.47796365860268 Accuracy: 72.18934911242604\n",
            "Epoch: 192 Training loss: 108.05083921732148 Accuracy: 75.14792899408283\n",
            "Epoch: 193 Training loss: 106.88011809465024 Accuracy: 78.69822485207101\n",
            "Epoch: 194 Training loss: 107.03458218381274 Accuracy: 78.69822485207101\n",
            "Epoch: 195 Training loss: 107.17717747206916 Accuracy: 80.4733727810651\n",
            "Epoch: 196 Training loss: 107.27157827699557 Accuracy: 75.14792899408283\n",
            "Epoch: 197 Training loss: 106.98174806177849 Accuracy: 74.55621301775149\n",
            "Epoch: 198 Training loss: 106.15800896796281 Accuracy: 79.28994082840237\n",
            "Epoch: 199 Training loss: 105.43492501858782 Accuracy: 75.14792899408283\n",
            "Epoch: 200 Training loss: 106.96490635220835 Accuracy: 74.55621301775149\n",
            "Epoch: 201 Training loss: 104.85015825789014 Accuracy: 75.14792899408283\n",
            "Epoch: 202 Training loss: 106.2280004747663 Accuracy: 71.59763313609467\n",
            "Epoch: 203 Training loss: 105.49855695498991 Accuracy: 70.41420118343196\n",
            "Epoch: 204 Training loss: 106.18305511684594 Accuracy: 78.69822485207101\n",
            "Epoch: 205 Training loss: 104.96858179740957 Accuracy: 69.8224852071006\n",
            "Epoch: 206 Training loss: 106.82436006504577 Accuracy: 81.06508875739645\n",
            "Epoch: 207 Training loss: 106.82759513569181 Accuracy: 81.06508875739645\n",
            "Epoch: 208 Training loss: 106.8946869300562 Accuracy: 81.06508875739645\n",
            "Epoch: 209 Training loss: 105.85151835944362 Accuracy: 72.7810650887574\n",
            "Epoch: 210 Training loss: 105.85179355781293 Accuracy: 73.37278106508876\n",
            "Epoch: 211 Training loss: 105.70489182551682 Accuracy: 72.7810650887574\n",
            "Epoch: 212 Training loss: 105.79094591589819 Accuracy: 73.96449704142012\n",
            "Epoch: 213 Training loss: 104.8531012937674 Accuracy: 81.06508875739645\n",
            "Epoch: 214 Training loss: 105.98750616823236 Accuracy: 74.55621301775149\n",
            "Epoch: 215 Training loss: 105.11078068480128 Accuracy: 76.33136094674556\n",
            "Epoch: 216 Training loss: 106.41441858292092 Accuracy: 79.88165680473372\n",
            "Epoch: 217 Training loss: 104.94234997726744 Accuracy: 80.4733727810651\n",
            "Epoch: 218 Training loss: 105.31922471133294 Accuracy: 77.51479289940828\n",
            "Epoch: 219 Training loss: 106.29000738711329 Accuracy: 69.23076923076923\n",
            "Epoch: 220 Training loss: 104.92918378947434 Accuracy: 74.55621301775149\n",
            "Epoch: 221 Training loss: 105.27365750487661 Accuracy: 78.69822485207101\n",
            "Epoch: 222 Training loss: 105.51379184774123 Accuracy: 73.37278106508876\n",
            "Epoch: 223 Training loss: 105.37333096492512 Accuracy: 76.92307692307693\n",
            "Epoch: 224 Training loss: 105.1834315596534 Accuracy: 74.55621301775149\n",
            "Epoch: 225 Training loss: 105.66241901941248 Accuracy: 73.96449704142012\n",
            "Epoch: 226 Training loss: 105.0440147670597 Accuracy: 81.65680473372781\n",
            "Epoch: 227 Training loss: 105.3379936752026 Accuracy: 75.7396449704142\n",
            "Epoch: 228 Training loss: 104.79354500901536 Accuracy: 81.06508875739645\n",
            "Epoch: 229 Training loss: 105.64635903380986 Accuracy: 76.33136094674556\n",
            "Epoch: 230 Training loss: 105.03396072857868 Accuracy: 72.7810650887574\n",
            "Epoch: 231 Training loss: 104.79348544973254 Accuracy: 71.59763313609467\n",
            "Epoch: 232 Training loss: 105.26181916010682 Accuracy: 73.37278106508876\n",
            "Epoch: 233 Training loss: 105.10961423547269 Accuracy: 73.37278106508876\n",
            "Epoch: 234 Training loss: 105.20052292475884 Accuracy: 75.7396449704142\n",
            "Epoch: 235 Training loss: 104.55156162788626 Accuracy: 71.59763313609467\n",
            "Epoch: 236 Training loss: 104.43990045243845 Accuracy: 81.06508875739645\n",
            "Epoch: 237 Training loss: 105.34257974702632 Accuracy: 78.69822485207101\n",
            "Epoch: 238 Training loss: 103.94680702484402 Accuracy: 73.96449704142012\n",
            "Epoch: 239 Training loss: 104.03498680240955 Accuracy: 74.55621301775149\n",
            "Epoch: 240 Training loss: 105.14178164665645 Accuracy: 77.51479289940828\n",
            "Epoch: 241 Training loss: 105.10281976220722 Accuracy: 81.06508875739645\n",
            "Epoch: 242 Training loss: 103.58756642887602 Accuracy: 81.06508875739645\n",
            "Epoch: 243 Training loss: 104.96864483557874 Accuracy: 78.10650887573965\n",
            "Epoch: 244 Training loss: 104.51198490525712 Accuracy: 79.88165680473372\n",
            "Epoch: 245 Training loss: 104.44098382916127 Accuracy: 75.7396449704142\n",
            "Epoch: 246 Training loss: 102.77806705227704 Accuracy: 82.24852071005917\n",
            "Epoch: 247 Training loss: 103.99864821300434 Accuracy: 75.7396449704142\n",
            "Epoch: 248 Training loss: 104.31703944358742 Accuracy: 76.92307692307693\n",
            "Epoch: 249 Training loss: 103.98378136067186 Accuracy: 81.06508875739645\n"
          ],
          "name": "stdout"
        },
        {
          "output_type": "display_data",
          "data": {
            "image/png": "[encoded data removed]",
            "text/plain": [
              "<Figure size 432x288 with 1 Axes>"
            ]
          },
          "metadata": {
            "tags": [],
            "needs_background": "light"
          }
        },
        {
          "output_type": "display_data",
          "data": {
            "image/png": "[encoded data removed]",
            "text/plain": [
              "<Figure size 432x288 with 1 Axes>"
            ]
          },
          "metadata": {
            "tags": [],
            "needs_background": "light"
          }
        },
        {
          "output_type": "display_data",
          "data": {
            "image/png": "[encoded data removed]",
            "text/plain": [
              "<Figure size 432x288 with 1 Axes>"
            ]
          },
          "metadata": {
            "tags": [],
            "needs_background": "light"
          }
        }
      ]
    },
    {
      "cell_type": "markdown",
      "metadata": {
        "id": "CXsvm2d6AVLh"
      },
      "source": [
        "Palieka tik tie duomenys iš training_set, kurie yra teisingai atsakyti"
      ]
    },
    {
      "cell_type": "code",
      "metadata": {
        "id": "QrsJroN047Sm",
        "colab": {
          "base_uri": "https://localhost:8080/"
        },
        "outputId": "9739c07c-a40c-4454-9094-3aeceb4dd254"
      },
      "source": [
        "increaseValues = [0, 0, 0, 0, 0]\n",
        "dataIdx = [0, 0, 0, 0, 0]\n",
        "\n",
        "for data in train_loader:\n",
        "      labels = torch.from_numpy(np.array(data['class_name']))\n",
        "      dat = data['data']\n",
        "\n",
        "      parsedData = []\n",
        "      for dictIdx in range(len(labels)):\n",
        "        parsedData.append(\n",
        "            np.array([dat['Pregnancies'][dictIdx].float(), dat['Glucose'][dictIdx].float(), dat['BloodPressure'][dictIdx].float(), dat['BMI'][dictIdx].float(), dat['Age'][dictIdx].float()])\n",
        "            )\n",
        "\n",
        "      for idx in range(len(labels)):\n",
        "        outputs = network(torch.Tensor(parsedData[idx].flatten()))\n",
        "        \n",
        "        predicted = get_answer(outputs)\n",
        "        real_answer = labels[idx].item()\n",
        "\n",
        "        collumnIdx = 0\n",
        "        for collumnIdx in range(5):\n",
        "\n",
        "          # Sutampa duomenys, vykdoma tolimesne analize\n",
        "          if(predicted == real_answer):\n",
        "            epsilon = 0.1\n",
        "            increase = 0\n",
        "            dataIdx[collumnIdx] += 1\n",
        "\n",
        "            while(predicted == real_answer and increase < 100):\n",
        "              tempData = parsedData[idx].flatten()\n",
        "              increase += epsilon\n",
        "              tempData[0] += increase\n",
        "\n",
        "              outputs = network(torch.Tensor(tempData))\n",
        "\n",
        "              predicted = get_answer(outputs)\n",
        "              real_answer = labels[idx].item()\n",
        "\n",
        "            increaseValues[collumnIdx] += increase\n",
        "\n",
        "for i in range(5):\n",
        "  if dataIdx[i] == 0:\n",
        "    dataIdx[i] = 1\n",
        "\n",
        "  print(\"{}th collumn maximum epsilon: {}\".format(i, increaseValues[i]/dataIdx[i]))\n",
        "\n",
        "s = 0\n",
        "for i in range(5):\n",
        "  s += increaseValues[i]/dataIdx[i]\n",
        "\n",
        "print(\"Model maximum epsilon: {}\".format(s/5))"
      ],
      "execution_count": 14,
      "outputs": [
        {
          "output_type": "stream",
          "text": [
            "0th collumn maximum epsilon: 36.69711751662934\n",
            "1th collumn maximum epsilon: 100.09999999999856\n",
            "2th collumn maximum epsilon: 100.09999999999856\n",
            "3th collumn maximum epsilon: 100.09999999999856\n",
            "4th collumn maximum epsilon: 100.09999999999856\n",
            "Model maximum epsilon: 87.41942350332471\n"
          ],
          "name": "stdout"
        }
      ]
    }
  ]
}