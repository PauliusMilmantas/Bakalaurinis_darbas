{
  "nbformat": 4,
  "nbformat_minor": 0,
  "metadata": {
    "colab": {
      "name": "Basic_model.ipynb",
      "provenance": [],
      "collapsed_sections": []
    },
    "kernelspec": {
      "name": "python3",
      "display_name": "Python 3"
    }
  },
  "cells": [
    {
      "cell_type": "code",
      "metadata": {
        "id": "mIzgXJHW-I2k"
      },
      "source": [
        "from __future__ import print_function, division\n",
        "import os\n",
        "import torch\n",
        "from torch.optim.optimizer import Optimizer\n",
        "from skimage import io, transform\n",
        "import numpy as np\n",
        "import matplotlib.pyplot as plt\n",
        "from torch.utils.data import Dataset, DataLoader\n",
        "from torchvision import transforms, utils\n",
        "from skimage import io\n",
        "import torch.nn as nn\n",
        "import torch.nn.functional as F\n",
        "\n",
        "from skimage.color import rgb2gray\n",
        "\n",
        "from torch.utils.tensorboard import SummaryWriter\n",
        "\n",
        "import PIL\n",
        "from PIL import Image\n",
        "\n",
        "from google.colab import output"
      ],
      "execution_count": 14,
      "outputs": []
    },
    {
      "cell_type": "code",
      "metadata": {
        "id": "6CzjepVFB0B6"
      },
      "source": [
        "%mkdir results"
      ],
      "execution_count": 15,
      "outputs": []
    },
    {
      "cell_type": "code",
      "metadata": {
        "colab": {
          "base_uri": "https://localhost:8080/"
        },
        "id": "UV6gHHYJ8KoT",
        "outputId": "240c70e2-5853-4d22-8e7f-0d5ec90120ef"
      },
      "source": [
        "!git clone https://github.com/PauliusMilmantas/Bakalaurinis_darbas"
      ],
      "execution_count": 16,
      "outputs": [
        {
          "output_type": "stream",
          "text": [
            "Cloning into 'Bakalaurinis_darbas'...\n",
            "remote: Enumerating objects: 133, done.\u001b[K\n",
            "remote: Counting objects: 100% (133/133), done.\u001b[K\n",
            "remote: Compressing objects: 100% (97/97), done.\u001b[K\n",
            "remote: Total 133 (delta 55), reused 112 (delta 34), pack-reused 0\u001b[K\n",
            "Receiving objects: 100% (133/133), 1.76 MiB | 12.68 MiB/s, done.\n",
            "Resolving deltas: 100% (55/55), done.\n"
          ],
          "name": "stdout"
        }
      ]
    },
    {
      "cell_type": "code",
      "metadata": {
        "colab": {
          "base_uri": "https://localhost:8080/"
        },
        "id": "0MUJunKO8RWp",
        "outputId": "af734b81-6838-4056-9459-aefb372f6977"
      },
      "source": [
        "%cd /content/Bakalaurinis_darbas/Code"
      ],
      "execution_count": 17,
      "outputs": [
        {
          "output_type": "stream",
          "text": [
            "/content/Bakalaurinis_darbas/Code\n"
          ],
          "name": "stdout"
        }
      ]
    },
    {
      "cell_type": "code",
      "metadata": {
        "id": "3gAQdhKZLiSR"
      },
      "source": [
        "def get_answer(output):\n",
        "  if output[0] > output[1]:\n",
        "    return 0\n",
        "  else:\n",
        "    return 1"
      ],
      "execution_count": 18,
      "outputs": []
    },
    {
      "cell_type": "code",
      "metadata": {
        "id": "Do-l7YQn-Qrt"
      },
      "source": [
        "import pandas as pd\n",
        "\n",
        "class ORCDataset(Dataset):\n",
        "  def __init__(self, root):\n",
        "    self.root = root\n",
        "    self.data = pd.read_csv(root)\n",
        "\n",
        "  def __len__(self):\n",
        "    return len(self.data)\n",
        "\n",
        "  def __getitem__(self, idx):\n",
        "    dat = {}\n",
        "    dat['Pregnancies'] = self.data['Pregnancies'][idx]\n",
        "    dat['Glucose'] = self.data['Glucose'][idx]\n",
        "    dat['BloodPressure'] = self.data['BloodPressure'][idx]\n",
        "    dat['BMI'] = self.data['BMI'][idx]\n",
        "    dat['Age'] = self.data['Age'][idx]\n",
        "    found_type = self.data['Outcome'][idx]\n",
        "\n",
        "    return {'data': dat, 'class_name': found_type}\n",
        "\n",
        "train_dataset = ORCDataset('/content/Bakalaurinis_darbas/Code/train.csv')\n",
        "test_dataset = ORCDataset('/content/Bakalaurinis_darbas/Code/test.csv')"
      ],
      "execution_count": 19,
      "outputs": []
    },
    {
      "cell_type": "code",
      "metadata": {
        "id": "DEY-Wb1z98SD"
      },
      "source": [
        "class Net(nn.Module):\n",
        "    def __init__(self, input_size, hidden1_size, hidden2_size, num_classes):\n",
        "        super(Net, self).__init__()\n",
        "        self.fc1 = nn.Linear(input_size, hidden1_size)\n",
        "        self.relu1 = nn.ReLU()\n",
        "        self.fc2 = nn.Linear(hidden1_size, hidden2_size)\n",
        "        self.relu2 = nn.ReLU()\n",
        "        self.fc3 = nn.Linear(hidden2_size, num_classes)  \n",
        "    \n",
        "    def forward(self, x):\n",
        "        out = self.fc1(x)\n",
        "        out = self.relu1(out)\n",
        "        out = self.fc2(out)        \n",
        "        out = self.relu2(out)     \n",
        "        out = self.fc3(out)\n",
        "        return out"
      ],
      "execution_count": 20,
      "outputs": []
    },
    {
      "cell_type": "markdown",
      "metadata": {
        "id": "BLcbrZyj_hXT"
      },
      "source": [
        "2 <- 7 <- 15 <- 5"
      ]
    },
    {
      "cell_type": "code",
      "metadata": {
        "colab": {
          "base_uri": "https://localhost:8080/"
        },
        "id": "o3GzBs6t_X0g",
        "outputId": "11f93c8e-775e-4de7-ed8c-c291c40b16f7"
      },
      "source": [
        "network = Net(5, 15, 7, 2)\n",
        "optimizer = torch.optim.SGD(network.parameters(), lr=0.0001, momentum=0.6)\n",
        "criterion = nn.MSELoss().cuda()\n",
        "\n",
        "print(network)"
      ],
      "execution_count": 21,
      "outputs": [
        {
          "output_type": "stream",
          "text": [
            "Net(\n",
            "  (fc1): Linear(in_features=5, out_features=15, bias=True)\n",
            "  (relu1): ReLU()\n",
            "  (fc2): Linear(in_features=15, out_features=7, bias=True)\n",
            "  (relu2): ReLU()\n",
            "  (fc3): Linear(in_features=7, out_features=2, bias=True)\n",
            ")\n"
          ],
          "name": "stdout"
        }
      ]
    },
    {
      "cell_type": "code",
      "metadata": {
        "colab": {
          "base_uri": "https://localhost:8080/"
        },
        "id": "1MnOqoUK_vGx",
        "outputId": "b4f9c923-31b1-447a-96ec-5add2aa30ca0"
      },
      "source": [
        "dev = torch.device(\"cuda\") if torch.cuda.is_available() else torch.device(\"cpu\")\n",
        "network.to(dev)\n",
        "criterion.to(dev)\n",
        "dev"
      ],
      "execution_count": 22,
      "outputs": [
        {
          "output_type": "execute_result",
          "data": {
            "text/plain": [
              "device(type='cpu')"
            ]
          },
          "metadata": {
            "tags": []
          },
          "execution_count": 22
        }
      ]
    },
    {
      "cell_type": "code",
      "metadata": {
        "colab": {
          "base_uri": "https://localhost:8080/"
        },
        "id": "-SQxeSmA_xaj",
        "outputId": "8ea71166-aaf1-4a0c-cc16-7404d7178b10"
      },
      "source": [
        "device = torch.device('cuda' if torch.cuda.is_available() else 'cpu')\n",
        "print('Using device:', device)\n",
        "print()\n",
        "\n",
        "#Additional Info when using cuda\n",
        "if device.type == 'cuda':\n",
        "    print(torch.cuda.get_device_name(0))\n",
        "    print('Memory Usage:')\n",
        "    print('Allocated:', round(torch.cuda.memory_allocated(0)/1024**3,1), 'GB')\n",
        "    print('Cached:   ', round(torch.cuda.memory_cached(0)/1024**3,1), 'GB')"
      ],
      "execution_count": 23,
      "outputs": [
        {
          "output_type": "stream",
          "text": [
            "Using device: cpu\n",
            "\n"
          ],
          "name": "stdout"
        }
      ]
    },
    {
      "cell_type": "code",
      "metadata": {
        "id": "JLzLwFT0_0Mg"
      },
      "source": [
        "train_loader = torch.utils.data.DataLoader(train_dataset, batch_size = len(train_dataset),shuffle=True)\n",
        "test_loader = torch.utils.data.DataLoader(test_dataset, batch_size = len(test_dataset),shuffle=True)"
      ],
      "execution_count": 24,
      "outputs": []
    },
    {
      "cell_type": "code",
      "metadata": {
        "colab": {
          "base_uri": "https://localhost:8080/"
        },
        "id": "O1vxofpT_3YM",
        "outputId": "77323e5b-812a-4b28-b022-8b227872f325"
      },
      "source": [
        "dataiter = iter(train_loader)\n",
        "itr = dataiter.next()\n",
        "\n",
        "label = itr['class_name']\n",
        "dat = itr['data']\n",
        "print(\"Class name: {} Data: [Pregnancies: {} Glucose: {} BloodPressure: {} BMI: {} Age: {}]\".format(label[0], dat['Pregnancies'][0], dat['Glucose'][0], dat['BloodPressure'][0], dat['BMI'][0], dat['Age'][0]))"
      ],
      "execution_count": 25,
      "outputs": [
        {
          "output_type": "stream",
          "text": [
            "Class name: 1 Data: [Pregnancies: 8 Glucose: 133 BloodPressure: 72 BMI: 32.9 Age: 39]\n"
          ],
          "name": "stdout"
        }
      ]
    },
    {
      "cell_type": "code",
      "metadata": {
        "colab": {
          "base_uri": "https://localhost:8080/",
          "height": 1000
        },
        "id": "boQCZfH2Aukr",
        "outputId": "d2bd847d-2b0b-441c-c882-ce0d326480f3"
      },
      "source": [
        "def train(train_loader, test_loader, epoch_amount, save_checkpoint = 10):\n",
        "  network.eval()\n",
        "  train_loss_hist = []\n",
        "  acc_history = []\n",
        "\n",
        "  checkpoint = save_checkpoint\n",
        "  for epoch in range(epoch_amount):\n",
        "    num_data_train = 0\n",
        "\n",
        "    # TRAINING DATASET\n",
        "    correct = 0\n",
        "    wrong = 0\n",
        "    for data in train_loader:\n",
        "      labels = torch.from_numpy(np.array(data['class_name']))\n",
        "      dat = data['data']\n",
        "\n",
        "      lossSum = 0\n",
        "\n",
        "      parsedData = []\n",
        "      for dictIdx in range(len(labels)):\n",
        "        parsedData.append(\n",
        "            np.array([dat['Pregnancies'][dictIdx].float(), dat['Glucose'][dictIdx].float(), dat['BloodPressure'][dictIdx].float(), dat['BMI'][dictIdx].float(), dat['Age'][dictIdx].float()])\n",
        "            )\n",
        "\n",
        "      for idx in range(len(labels)):\n",
        "        optimizer.zero_grad()\n",
        "\n",
        "        outputs = network(torch.Tensor(parsedData[idx].flatten()))\n",
        "        realAnswer = [0, 0]\n",
        "        realAnswer[labels[idx]] = 1\n",
        "\n",
        "        loss = criterion(outputs, torch.Tensor(realAnswer))\n",
        "          \n",
        "        loss.backward()\n",
        "\n",
        "        lossSum += loss.item()\n",
        "        train_loss_hist.append(lossSum)\n",
        "\n",
        "        optimizer.step()\n",
        "\n",
        "    # TESTING DATASET\n",
        "    for data in test_loader:\n",
        "      labels = torch.from_numpy(np.array(data['class_name']))\n",
        "      dat = data['data']\n",
        "\n",
        "      parsedData = []\n",
        "      for dictIdx in range(len(labels)):\n",
        "        parsedData.append(\n",
        "            np.array([dat['Pregnancies'][dictIdx].float(), dat['Glucose'][dictIdx].float(), dat['BloodPressure'][dictIdx].float(), dat['BMI'][dictIdx].float(), dat['Age'][dictIdx].float()])\n",
        "            )\n",
        "\n",
        "      for idx in range(len(labels)):\n",
        "        outputs = network(torch.Tensor(parsedData[idx].flatten()))\n",
        "\n",
        "        predicted = get_answer(outputs)\n",
        "        real_answer = labels[idx].item()\n",
        "\n",
        "        if predicted == real_answer:\n",
        "          correct += 1\n",
        "        else:\n",
        "          wrong += 1\n",
        "\n",
        "    acc_history.append(\n",
        "        correct/(correct+wrong)*100\n",
        "    )\n",
        "    print(\"Epoch: {} Training loss: {} Accuracy: {}\".format(epoch,train_loss_hist[len(train_loss_hist) - 1], acc_history[len(acc_history) - 1]))\n",
        "    \n",
        "    if(checkpoint == 0):\n",
        "      torch.save(network.state_dict(), '/content/results/model.pth')\n",
        "      torch.save(optimizer.state_dict(), '/content/results/optimizer.pth')\n",
        "\n",
        "      checkpoint = save_checkpoint\n",
        "    else:\n",
        "      checkpoint -= 1\n",
        "\n",
        "  plt.plot(np.arange(0, len(train_loss_hist), 1), train_loss_hist)\n",
        "  plt.show()\n",
        "\n",
        "  plt.plot(np.arange(0, len(acc_history), 1), acc_history)\n",
        "  plt.show()\n",
        "\n",
        "train(train_loader, test_loader, 250)\n"
      ],
      "execution_count": 26,
      "outputs": [
        {
          "output_type": "stream",
          "text": [
            "Epoch: 0 Training loss: 283.53615614573937 Accuracy: 62.1301775147929\n",
            "Epoch: 1 Training loss: 151.5022628523875 Accuracy: 72.7810650887574\n",
            "Epoch: 2 Training loss: 146.81283864798024 Accuracy: 64.49704142011834\n",
            "Epoch: 3 Training loss: 146.2591282054782 Accuracy: 67.45562130177515\n",
            "Epoch: 4 Training loss: 141.48267836868763 Accuracy: 64.49704142011834\n",
            "Epoch: 5 Training loss: 136.98226611688733 Accuracy: 64.49704142011834\n",
            "Epoch: 6 Training loss: 133.0907999612391 Accuracy: 64.49704142011834\n",
            "Epoch: 7 Training loss: 131.55926341935992 Accuracy: 68.04733727810651\n",
            "Epoch: 8 Training loss: 128.30643608048558 Accuracy: 70.41420118343196\n",
            "Epoch: 9 Training loss: 128.41302498616278 Accuracy: 68.04733727810651\n",
            "Epoch: 10 Training loss: 127.84257553331554 Accuracy: 71.00591715976331\n",
            "Epoch: 11 Training loss: 127.20801666378975 Accuracy: 68.04733727810651\n",
            "Epoch: 12 Training loss: 125.52316834265366 Accuracy: 68.04733727810651\n",
            "Epoch: 13 Training loss: 125.51642179489136 Accuracy: 71.00591715976331\n",
            "Epoch: 14 Training loss: 126.18270517792553 Accuracy: 68.04733727810651\n",
            "Epoch: 15 Training loss: 123.4764322321862 Accuracy: 71.00591715976331\n",
            "Epoch: 16 Training loss: 124.51145702693611 Accuracy: 68.04733727810651\n",
            "Epoch: 17 Training loss: 124.63491258583963 Accuracy: 70.41420118343196\n",
            "Epoch: 18 Training loss: 124.35092098079622 Accuracy: 67.45562130177515\n",
            "Epoch: 19 Training loss: 123.8415949717164 Accuracy: 69.8224852071006\n",
            "Epoch: 20 Training loss: 123.12516425724607 Accuracy: 68.04733727810651\n",
            "Epoch: 21 Training loss: 123.58815637975931 Accuracy: 69.8224852071006\n",
            "Epoch: 22 Training loss: 124.09144347626716 Accuracy: 68.63905325443787\n",
            "Epoch: 23 Training loss: 122.82724019698799 Accuracy: 71.00591715976331\n",
            "Epoch: 24 Training loss: 122.36855133622885 Accuracy: 69.23076923076923\n",
            "Epoch: 25 Training loss: 122.47034274972975 Accuracy: 71.00591715976331\n",
            "Epoch: 26 Training loss: 121.28778813476674 Accuracy: 69.8224852071006\n",
            "Epoch: 27 Training loss: 120.44178584590554 Accuracy: 69.8224852071006\n",
            "Epoch: 28 Training loss: 120.85810316354036 Accuracy: 68.63905325443787\n",
            "Epoch: 29 Training loss: 120.40725866612047 Accuracy: 71.00591715976331\n",
            "Epoch: 30 Training loss: 121.16376897785813 Accuracy: 68.63905325443787\n",
            "Epoch: 31 Training loss: 120.01994233764708 Accuracy: 71.00591715976331\n",
            "Epoch: 32 Training loss: 120.47340080235153 Accuracy: 69.8224852071006\n",
            "Epoch: 33 Training loss: 118.63925640564412 Accuracy: 68.63905325443787\n",
            "Epoch: 34 Training loss: 119.7706340495497 Accuracy: 71.59763313609467\n",
            "Epoch: 35 Training loss: 119.28656188864261 Accuracy: 71.00591715976331\n",
            "Epoch: 36 Training loss: 119.34074682369828 Accuracy: 68.63905325443787\n",
            "Epoch: 37 Training loss: 118.7131381900981 Accuracy: 72.18934911242604\n",
            "Epoch: 38 Training loss: 118.78021446242929 Accuracy: 69.23076923076923\n",
            "Epoch: 39 Training loss: 118.80312357097864 Accuracy: 72.7810650887574\n",
            "Epoch: 40 Training loss: 116.96366321621463 Accuracy: 69.8224852071006\n",
            "Epoch: 41 Training loss: 118.43755352310836 Accuracy: 72.18934911242604\n",
            "Epoch: 42 Training loss: 117.69777650479227 Accuracy: 68.63905325443787\n",
            "Epoch: 43 Training loss: 117.43776852171868 Accuracy: 73.96449704142012\n",
            "Epoch: 44 Training loss: 116.75407989416271 Accuracy: 69.23076923076923\n",
            "Epoch: 45 Training loss: 117.32900641299784 Accuracy: 70.41420118343196\n",
            "Epoch: 46 Training loss: 117.40137264691293 Accuracy: 72.7810650887574\n",
            "Epoch: 47 Training loss: 117.32282113935798 Accuracy: 72.18934911242604\n",
            "Epoch: 48 Training loss: 117.17421788908541 Accuracy: 73.96449704142012\n",
            "Epoch: 49 Training loss: 116.38527856743895 Accuracy: 69.23076923076923\n",
            "Epoch: 50 Training loss: 116.36885602073744 Accuracy: 69.23076923076923\n",
            "Epoch: 51 Training loss: 116.01041708607227 Accuracy: 73.37278106508876\n",
            "Epoch: 52 Training loss: 115.86042455583811 Accuracy: 68.63905325443787\n",
            "Epoch: 53 Training loss: 116.22636409197003 Accuracy: 72.18934911242604\n",
            "Epoch: 54 Training loss: 116.05644647404552 Accuracy: 72.18934911242604\n",
            "Epoch: 55 Training loss: 114.98433831613511 Accuracy: 72.18934911242604\n",
            "Epoch: 56 Training loss: 115.51223067007959 Accuracy: 69.8224852071006\n",
            "Epoch: 57 Training loss: 115.08195354882628 Accuracy: 68.63905325443787\n",
            "Epoch: 58 Training loss: 115.29117827583104 Accuracy: 73.96449704142012\n",
            "Epoch: 59 Training loss: 114.42023271718062 Accuracy: 74.55621301775149\n",
            "Epoch: 60 Training loss: 114.56020976603031 Accuracy: 71.59763313609467\n",
            "Epoch: 61 Training loss: 113.9556179989595 Accuracy: 72.18934911242604\n",
            "Epoch: 62 Training loss: 115.07459092698991 Accuracy: 74.55621301775149\n",
            "Epoch: 63 Training loss: 114.30898768315092 Accuracy: 72.18934911242604\n",
            "Epoch: 64 Training loss: 110.92648611776531 Accuracy: 75.7396449704142\n",
            "Epoch: 65 Training loss: 113.59736546734348 Accuracy: 69.23076923076923\n",
            "Epoch: 66 Training loss: 114.49890898074955 Accuracy: 73.37278106508876\n",
            "Epoch: 67 Training loss: 113.72457672655582 Accuracy: 77.51479289940828\n",
            "Epoch: 68 Training loss: 113.56964838597924 Accuracy: 74.55621301775149\n",
            "Epoch: 69 Training loss: 112.75174354249611 Accuracy: 75.7396449704142\n",
            "Epoch: 70 Training loss: 112.57023316039704 Accuracy: 69.8224852071006\n",
            "Epoch: 71 Training loss: 113.27366678509861 Accuracy: 72.18934911242604\n",
            "Epoch: 72 Training loss: 113.0303318919614 Accuracy: 75.7396449704142\n",
            "Epoch: 73 Training loss: 112.47745508234948 Accuracy: 74.55621301775149\n",
            "Epoch: 74 Training loss: 112.78005305537954 Accuracy: 76.33136094674556\n",
            "Epoch: 75 Training loss: 112.85626099049114 Accuracy: 72.18934911242604\n",
            "Epoch: 76 Training loss: 113.37029452295974 Accuracy: 71.59763313609467\n",
            "Epoch: 77 Training loss: 110.43798143323511 Accuracy: 69.23076923076923\n",
            "Epoch: 78 Training loss: 113.35145507880952 Accuracy: 71.59763313609467\n",
            "Epoch: 79 Training loss: 112.37172698706854 Accuracy: 72.18934911242604\n",
            "Epoch: 80 Training loss: 112.74236671102699 Accuracy: 71.59763313609467\n",
            "Epoch: 81 Training loss: 111.92384464666247 Accuracy: 74.55621301775149\n",
            "Epoch: 82 Training loss: 112.0578501985874 Accuracy: 69.8224852071006\n",
            "Epoch: 83 Training loss: 112.23863776866347 Accuracy: 77.51479289940828\n",
            "Epoch: 84 Training loss: 111.3796712369658 Accuracy: 72.7810650887574\n",
            "Epoch: 85 Training loss: 112.1066794032231 Accuracy: 73.96449704142012\n",
            "Epoch: 86 Training loss: 111.02505330834538 Accuracy: 71.59763313609467\n",
            "Epoch: 87 Training loss: 111.38797724829055 Accuracy: 71.59763313609467\n",
            "Epoch: 88 Training loss: 110.53271798545029 Accuracy: 70.41420118343196\n",
            "Epoch: 89 Training loss: 111.14492591843009 Accuracy: 72.18934911242604\n",
            "Epoch: 90 Training loss: 111.7187165627256 Accuracy: 73.37278106508876\n",
            "Epoch: 91 Training loss: 110.61770321102813 Accuracy: 78.10650887573965\n",
            "Epoch: 92 Training loss: 109.98278834670782 Accuracy: 69.8224852071006\n",
            "Epoch: 93 Training loss: 111.41341805527918 Accuracy: 75.7396449704142\n",
            "Epoch: 94 Training loss: 111.05250189872459 Accuracy: 71.59763313609467\n",
            "Epoch: 95 Training loss: 109.77778941486031 Accuracy: 76.33136094674556\n",
            "Epoch: 96 Training loss: 111.51716570666758 Accuracy: 72.18934911242604\n",
            "Epoch: 97 Training loss: 108.93486247910187 Accuracy: 76.92307692307693\n",
            "Epoch: 98 Training loss: 110.91902785538696 Accuracy: 72.18934911242604\n",
            "Epoch: 99 Training loss: 107.95397433021571 Accuracy: 69.23076923076923\n",
            "Epoch: 100 Training loss: 111.00205649668351 Accuracy: 72.18934911242604\n",
            "Epoch: 101 Training loss: 109.69255495071411 Accuracy: 77.51479289940828\n",
            "Epoch: 102 Training loss: 110.38174249534495 Accuracy: 71.59763313609467\n",
            "Epoch: 103 Training loss: 109.77409893507138 Accuracy: 73.37278106508876\n",
            "Epoch: 104 Training loss: 108.99873985396698 Accuracy: 73.37278106508876\n",
            "Epoch: 105 Training loss: 110.01166488649324 Accuracy: 75.14792899408283\n",
            "Epoch: 106 Training loss: 108.06122372043319 Accuracy: 72.7810650887574\n",
            "Epoch: 107 Training loss: 109.01819706417155 Accuracy: 72.18934911242604\n",
            "Epoch: 108 Training loss: 108.69240092171822 Accuracy: 72.7810650887574\n",
            "Epoch: 109 Training loss: 109.13230011798441 Accuracy: 72.18934911242604\n",
            "Epoch: 110 Training loss: 109.92694977438077 Accuracy: 72.18934911242604\n",
            "Epoch: 111 Training loss: 109.36828235362191 Accuracy: 75.14792899408283\n",
            "Epoch: 112 Training loss: 110.41579778236337 Accuracy: 73.37278106508876\n",
            "Epoch: 113 Training loss: 109.7332478701137 Accuracy: 73.37278106508876\n",
            "Epoch: 114 Training loss: 107.24277143226936 Accuracy: 72.7810650887574\n",
            "Epoch: 115 Training loss: 109.42533407278825 Accuracy: 72.7810650887574\n",
            "Epoch: 116 Training loss: 108.55597953591496 Accuracy: 72.7810650887574\n",
            "Epoch: 117 Training loss: 109.08179277589079 Accuracy: 71.00591715976331\n",
            "Epoch: 118 Training loss: 108.87824442282727 Accuracy: 72.18934911242604\n",
            "Epoch: 119 Training loss: 109.01659301598556 Accuracy: 72.18934911242604\n",
            "Epoch: 120 Training loss: 108.274059386109 Accuracy: 73.37278106508876\n",
            "Epoch: 121 Training loss: 107.88966372224968 Accuracy: 72.7810650887574\n",
            "Epoch: 122 Training loss: 108.75327227046364 Accuracy: 71.59763313609467\n",
            "Epoch: 123 Training loss: 108.85349774593487 Accuracy: 72.7810650887574\n",
            "Epoch: 124 Training loss: 108.52783257642295 Accuracy: 72.18934911242604\n",
            "Epoch: 125 Training loss: 108.70015355641954 Accuracy: 73.37278106508876\n",
            "Epoch: 126 Training loss: 107.10030457668472 Accuracy: 78.69822485207101\n",
            "Epoch: 127 Training loss: 108.38346255081706 Accuracy: 73.96449704142012\n",
            "Epoch: 128 Training loss: 108.14696705481037 Accuracy: 76.92307692307693\n",
            "Epoch: 129 Training loss: 108.67372800363228 Accuracy: 73.96449704142012\n",
            "Epoch: 130 Training loss: 106.61957957397681 Accuracy: 78.10650887573965\n",
            "Epoch: 131 Training loss: 108.08439344679937 Accuracy: 69.8224852071006\n",
            "Epoch: 132 Training loss: 107.92511052952614 Accuracy: 73.37278106508876\n",
            "Epoch: 133 Training loss: 108.47909180412535 Accuracy: 77.51479289940828\n",
            "Epoch: 134 Training loss: 107.95723789278418 Accuracy: 77.51479289940828\n",
            "Epoch: 135 Training loss: 108.27145333343651 Accuracy: 79.88165680473372\n",
            "Epoch: 136 Training loss: 107.1156581438845 Accuracy: 76.33136094674556\n",
            "Epoch: 137 Training loss: 107.4633342338202 Accuracy: 76.92307692307693\n",
            "Epoch: 138 Training loss: 107.72947254928295 Accuracy: 76.92307692307693\n",
            "Epoch: 139 Training loss: 108.09846218966413 Accuracy: 78.10650887573965\n",
            "Epoch: 140 Training loss: 108.14871184562799 Accuracy: 73.37278106508876\n",
            "Epoch: 141 Training loss: 107.49146095907781 Accuracy: 71.00591715976331\n",
            "Epoch: 142 Training loss: 106.34407114016358 Accuracy: 78.69822485207101\n",
            "Epoch: 143 Training loss: 105.99812574440148 Accuracy: 69.8224852071006\n",
            "Epoch: 144 Training loss: 107.46137393999379 Accuracy: 78.69822485207101\n",
            "Epoch: 145 Training loss: 107.47558133653365 Accuracy: 74.55621301775149\n",
            "Epoch: 146 Training loss: 107.46611090260558 Accuracy: 79.88165680473372\n",
            "Epoch: 147 Training loss: 107.63231276976876 Accuracy: 77.51479289940828\n",
            "Epoch: 148 Training loss: 107.29234594010632 Accuracy: 74.55621301775149\n",
            "Epoch: 149 Training loss: 106.76780930985115 Accuracy: 74.55621301775149\n",
            "Epoch: 150 Training loss: 107.22704224195331 Accuracy: 78.69822485207101\n",
            "Epoch: 151 Training loss: 106.68849527073326 Accuracy: 73.37278106508876\n",
            "Epoch: 152 Training loss: 106.33193998818751 Accuracy: 74.55621301775149\n",
            "Epoch: 153 Training loss: 106.25272705347743 Accuracy: 73.96449704142012\n",
            "Epoch: 154 Training loss: 106.35899336857256 Accuracy: 78.10650887573965\n",
            "Epoch: 155 Training loss: 107.1039851080277 Accuracy: 78.10650887573965\n",
            "Epoch: 156 Training loss: 105.84511279128492 Accuracy: 71.00591715976331\n",
            "Epoch: 157 Training loss: 105.0164437222993 Accuracy: 79.88165680473372\n",
            "Epoch: 158 Training loss: 106.3828107284462 Accuracy: 78.69822485207101\n",
            "Epoch: 159 Training loss: 105.90553269471275 Accuracy: 74.55621301775149\n",
            "Epoch: 160 Training loss: 106.48897890932858 Accuracy: 77.51479289940828\n",
            "Epoch: 161 Training loss: 106.00352848146576 Accuracy: 79.88165680473372\n",
            "Epoch: 162 Training loss: 105.89868600247428 Accuracy: 75.14792899408283\n",
            "Epoch: 163 Training loss: 106.69714110705536 Accuracy: 73.96449704142012\n",
            "Epoch: 164 Training loss: 105.86752132023685 Accuracy: 73.96449704142012\n",
            "Epoch: 165 Training loss: 103.90663249354111 Accuracy: 79.28994082840237\n",
            "Epoch: 166 Training loss: 105.44528540642932 Accuracy: 73.96449704142012\n",
            "Epoch: 167 Training loss: 104.81538408924825 Accuracy: 77.51479289940828\n",
            "Epoch: 168 Training loss: 104.83177567389794 Accuracy: 71.00591715976331\n",
            "Epoch: 169 Training loss: 105.93381300824694 Accuracy: 74.55621301775149\n",
            "Epoch: 170 Training loss: 105.91076884046197 Accuracy: 74.55621301775149\n",
            "Epoch: 171 Training loss: 105.84583690366708 Accuracy: 75.7396449704142\n",
            "Epoch: 172 Training loss: 106.06340682544396 Accuracy: 69.8224852071006\n",
            "Epoch: 173 Training loss: 104.26293512899429 Accuracy: 74.55621301775149\n",
            "Epoch: 174 Training loss: 105.75748207725701 Accuracy: 74.55621301775149\n",
            "Epoch: 175 Training loss: 105.34003733709687 Accuracy: 71.00591715976331\n",
            "Epoch: 176 Training loss: 105.54685985355172 Accuracy: 73.96449704142012\n",
            "Epoch: 177 Training loss: 106.48026984202443 Accuracy: 78.69822485207101\n",
            "Epoch: 178 Training loss: 105.2053115523886 Accuracy: 71.00591715976331\n",
            "Epoch: 179 Training loss: 105.47223357670009 Accuracy: 75.14792899408283\n",
            "Epoch: 180 Training loss: 105.6896087997593 Accuracy: 78.69822485207101\n",
            "Epoch: 181 Training loss: 106.0486748117255 Accuracy: 75.14792899408283\n",
            "Epoch: 182 Training loss: 103.67528772877995 Accuracy: 74.55621301775149\n",
            "Epoch: 183 Training loss: 104.40753147762734 Accuracy: 75.14792899408283\n",
            "Epoch: 184 Training loss: 105.21021831966937 Accuracy: 74.55621301775149\n",
            "Epoch: 185 Training loss: 105.30472888175791 Accuracy: 79.88165680473372\n",
            "Epoch: 186 Training loss: 104.43001999007538 Accuracy: 80.4733727810651\n",
            "Epoch: 187 Training loss: 103.96673937969535 Accuracy: 76.92307692307693\n",
            "Epoch: 188 Training loss: 104.90153781452682 Accuracy: 75.14792899408283\n",
            "Epoch: 189 Training loss: 104.45845276466571 Accuracy: 79.28994082840237\n",
            "Epoch: 190 Training loss: 102.10611910268199 Accuracy: 74.55621301775149\n",
            "Epoch: 191 Training loss: 104.08064020681195 Accuracy: 68.04733727810651\n",
            "Epoch: 192 Training loss: 103.82981773046777 Accuracy: 76.92307692307693\n",
            "Epoch: 193 Training loss: 104.6810410185717 Accuracy: 74.55621301775149\n",
            "Epoch: 194 Training loss: 104.31095263897441 Accuracy: 75.7396449704142\n",
            "Epoch: 195 Training loss: 101.78290989785455 Accuracy: 72.18934911242604\n",
            "Epoch: 196 Training loss: 104.55586707199109 Accuracy: 77.51479289940828\n",
            "Epoch: 197 Training loss: 103.64773006970063 Accuracy: 75.7396449704142\n",
            "Epoch: 198 Training loss: 104.93166886724066 Accuracy: 75.14792899408283\n",
            "Epoch: 199 Training loss: 104.9598889038316 Accuracy: 74.55621301775149\n",
            "Epoch: 200 Training loss: 103.62820756578003 Accuracy: 73.37278106508876\n",
            "Epoch: 201 Training loss: 104.36955767101608 Accuracy: 77.51479289940828\n",
            "Epoch: 202 Training loss: 104.54408682475332 Accuracy: 73.96449704142012\n",
            "Epoch: 203 Training loss: 104.33584283082746 Accuracy: 74.55621301775149\n",
            "Epoch: 204 Training loss: 103.14036457892507 Accuracy: 71.00591715976331\n",
            "Epoch: 205 Training loss: 103.85841933314441 Accuracy: 74.55621301775149\n",
            "Epoch: 206 Training loss: 103.01494563569577 Accuracy: 68.63905325443787\n",
            "Epoch: 207 Training loss: 105.05795994168147 Accuracy: 75.14792899408283\n",
            "Epoch: 208 Training loss: 101.5262787664542 Accuracy: 68.63905325443787\n",
            "Epoch: 209 Training loss: 104.91417942469707 Accuracy: 75.7396449704142\n",
            "Epoch: 210 Training loss: 103.089311667718 Accuracy: 76.33136094674556\n",
            "Epoch: 211 Training loss: 102.7638755668886 Accuracy: 73.37278106508876\n",
            "Epoch: 212 Training loss: 103.32494333875366 Accuracy: 68.04733727810651\n",
            "Epoch: 213 Training loss: 103.41806026245467 Accuracy: 76.33136094674556\n",
            "Epoch: 214 Training loss: 103.4312633285299 Accuracy: 76.33136094674556\n",
            "Epoch: 215 Training loss: 103.2859478786122 Accuracy: 75.14792899408283\n",
            "Epoch: 216 Training loss: 103.37873717979528 Accuracy: 78.10650887573965\n",
            "Epoch: 217 Training loss: 103.32942585530691 Accuracy: 69.8224852071006\n",
            "Epoch: 218 Training loss: 102.21914013801143 Accuracy: 78.10650887573965\n",
            "Epoch: 219 Training loss: 103.67683550127549 Accuracy: 75.14792899408283\n",
            "Epoch: 220 Training loss: 103.86671983471751 Accuracy: 76.33136094674556\n",
            "Epoch: 221 Training loss: 103.44178076472599 Accuracy: 76.92307692307693\n",
            "Epoch: 222 Training loss: 103.07209657126805 Accuracy: 75.7396449704142\n",
            "Epoch: 223 Training loss: 103.24518402284593 Accuracy: 79.28994082840237\n",
            "Epoch: 224 Training loss: 103.15740338701289 Accuracy: 75.14792899408283\n",
            "Epoch: 225 Training loss: 103.81582310405793 Accuracy: 74.55621301775149\n",
            "Epoch: 226 Training loss: 101.72134871571325 Accuracy: 78.10650887573965\n",
            "Epoch: 227 Training loss: 102.52768393771112 Accuracy: 75.7396449704142\n",
            "Epoch: 228 Training loss: 102.72862006683135 Accuracy: 75.14792899408283\n",
            "Epoch: 229 Training loss: 102.37425214477116 Accuracy: 73.96449704142012\n",
            "Epoch: 230 Training loss: 103.17033701902255 Accuracy: 74.55621301775149\n",
            "Epoch: 231 Training loss: 101.80329218885163 Accuracy: 76.92307692307693\n",
            "Epoch: 232 Training loss: 102.47267812451173 Accuracy: 69.23076923076923\n",
            "Epoch: 233 Training loss: 102.92870169592788 Accuracy: 78.69822485207101\n",
            "Epoch: 234 Training loss: 102.59667345208072 Accuracy: 79.88165680473372\n",
            "Epoch: 235 Training loss: 101.48559818987269 Accuracy: 76.33136094674556\n",
            "Epoch: 236 Training loss: 102.32468609604985 Accuracy: 76.33136094674556\n",
            "Epoch: 237 Training loss: 101.48287178165629 Accuracy: 77.51479289940828\n",
            "Epoch: 238 Training loss: 102.99105569755193 Accuracy: 73.96449704142012\n",
            "Epoch: 239 Training loss: 102.53092978143832 Accuracy: 68.04733727810651\n",
            "Epoch: 240 Training loss: 101.6419367104827 Accuracy: 78.10650887573965\n",
            "Epoch: 241 Training loss: 103.24875430227257 Accuracy: 79.28994082840237\n",
            "Epoch: 242 Training loss: 100.94996909753536 Accuracy: 69.23076923076923\n",
            "Epoch: 243 Training loss: 99.81531578712747 Accuracy: 66.86390532544378\n",
            "Epoch: 244 Training loss: 102.8615655931062 Accuracy: 78.10650887573965\n",
            "Epoch: 245 Training loss: 102.20408305234741 Accuracy: 74.55621301775149\n",
            "Epoch: 246 Training loss: 101.01119881478371 Accuracy: 74.55621301775149\n",
            "Epoch: 247 Training loss: 102.31568792590406 Accuracy: 76.33136094674556\n",
            "Epoch: 248 Training loss: 101.90159217000473 Accuracy: 69.23076923076923\n",
            "Epoch: 249 Training loss: 101.94638890365604 Accuracy: 72.18934911242604\n"
          ],
          "name": "stdout"
        },
        {
          "output_type": "display_data",
          "data": {
            "image/png": "[encoded data removed]",
            "text/plain": [
              "<Figure size 432x288 with 1 Axes>"
            ]
          },
          "metadata": {
            "tags": [],
            "needs_background": "light"
          }
        },
        {
          "output_type": "display_data",
          "data": {
            "image/png": "[encoded data removed]",
            "text/plain": [
              "<Figure size 432x288 with 1 Axes>"
            ]
          },
          "metadata": {
            "tags": [],
            "needs_background": "light"
          }
        }
      ]
    },
    {
      "cell_type": "markdown",
      "metadata": {
        "id": "CXsvm2d6AVLh"
      },
      "source": [
        "Palieka tik tie duomenys iš training_set, kurie yra teisingai atsakyti"
      ]
    },
    {
      "cell_type": "code",
      "metadata": {
        "id": "QrsJroN047Sm",
        "colab": {
          "base_uri": "https://localhost:8080/"
        },
        "outputId": "aabc667e-1bb8-4877-b373-3afab6026a5d"
      },
      "source": [
        "increaseValues = [0, 0, 0, 0, 0]\n",
        "dataIdx = [0, 0, 0, 0, 0]\n",
        "\n",
        "for data in train_loader:\n",
        "      labels = torch.from_numpy(np.array(data['class_name']))\n",
        "      dat = data['data']\n",
        "\n",
        "      parsedData = []\n",
        "      for dictIdx in range(len(labels)):\n",
        "        parsedData.append(\n",
        "            np.array([dat['Pregnancies'][dictIdx].float(), dat['Glucose'][dictIdx].float(), dat['BloodPressure'][dictIdx].float(), dat['BMI'][dictIdx].float(), dat['Age'][dictIdx].float()])\n",
        "            )\n",
        "\n",
        "      for idx in range(len(labels)):\n",
        "        outputs = network(torch.Tensor(parsedData[idx].flatten()))\n",
        "        \n",
        "        predicted = get_answer(outputs)\n",
        "        real_answer = labels[idx].item()\n",
        "\n",
        "        collumnIdx = 0\n",
        "        for collumnIdx in range(5):\n",
        "\n",
        "          # Sutampa duomenys, vykdoma tolimesne analize\n",
        "          if(predicted == real_answer):\n",
        "            epsilon = 0.1\n",
        "            increase = 0\n",
        "            dataIdx[collumnIdx] += 1\n",
        "\n",
        "            while(predicted == real_answer and increase < 1000):\n",
        "              tempData = parsedData[idx].flatten()\n",
        "              increase += epsilon\n",
        "              tempData[0] += increase\n",
        "\n",
        "              outputs = network(torch.Tensor(tempData))\n",
        "\n",
        "              predicted = get_answer(outputs)\n",
        "              real_answer = labels[idx].item()\n",
        "\n",
        "            increaseValues[collumnIdx] += increase\n",
        "\n",
        "for i in range(5):\n",
        "  if dataIdx[i] == 0:\n",
        "    dataIdx[i] = 1\n",
        "\n",
        "  print(\"{}th collumn maximum epsilon: {}\".format(i, increaseValues[i]/dataIdx[i]))\n",
        "\n",
        "s = 0\n",
        "for i in range(5):\n",
        "  s += increaseValues[i]\n",
        "\n",
        "print(\"Model maximum epsilon: {}\".format(s/5))"
      ],
      "execution_count": 51,
      "outputs": [
        {
          "output_type": "stream",
          "text": [
            "0th collumn maximum epsilon: 232.36808035711942\n",
            "1th collumn maximum epsilon: 0.0\n",
            "2th collumn maximum epsilon: 0.0\n",
            "3th collumn maximum epsilon: 0.0\n",
            "4th collumn maximum epsilon: 0.0\n",
            "Model maximum epsilon: 20820.1799999979\n"
          ],
          "name": "stdout"
        }
      ]
    }
  ]
}