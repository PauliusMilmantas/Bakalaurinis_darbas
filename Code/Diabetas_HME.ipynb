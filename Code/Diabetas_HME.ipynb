{
  "nbformat": 4,
  "nbformat_minor": 0,
  "metadata": {
    "colab": {
      "name": "Diabetas HME.ipynb",
      "provenance": [],
      "collapsed_sections": []
    },
    "kernelspec": {
      "name": "python3",
      "display_name": "Python 3"
    }
  },
  "cells": [
    {
      "cell_type": "code",
      "metadata": {
        "id": "mIzgXJHW-I2k"
      },
      "source": [
        "from __future__ import print_function, division\n",
        "import os\n",
        "import torch\n",
        "from torch.optim.optimizer import Optimizer\n",
        "from skimage import io, transform\n",
        "import numpy as np\n",
        "import matplotlib.pyplot as plt\n",
        "from torch.utils.data import Dataset, DataLoader\n",
        "from torchvision import transforms, utils\n",
        "from skimage import io\n",
        "import torch.nn as nn\n",
        "import torch.nn.functional as F\n",
        "\n",
        "from skimage.color import rgb2gray\n",
        "\n",
        "from torch.utils.tensorboard import SummaryWriter\n",
        "\n",
        "import PIL\n",
        "from PIL import Image\n",
        "\n",
        "from google.colab import output"
      ],
      "execution_count": 171,
      "outputs": []
    },
    {
      "cell_type": "code",
      "metadata": {
        "id": "6CzjepVFB0B6",
        "colab": {
          "base_uri": "https://localhost:8080/"
        },
        "outputId": "d6704cbd-da33-46eb-def7-32e7c4fc1ae4"
      },
      "source": [
        "%mkdir results"
      ],
      "execution_count": 172,
      "outputs": [
        {
          "output_type": "stream",
          "text": [
            "mkdir: cannot create directory ‘results’: File exists\n"
          ],
          "name": "stdout"
        }
      ]
    },
    {
      "cell_type": "code",
      "metadata": {
        "colab": {
          "base_uri": "https://localhost:8080/"
        },
        "id": "UV6gHHYJ8KoT",
        "outputId": "e85abab3-30c8-4d42-fce3-f3c638f9502e"
      },
      "source": [
        "!git clone https://github.com/PauliusMilmantas/Bakalaurinis_darbas"
      ],
      "execution_count": 173,
      "outputs": [
        {
          "output_type": "stream",
          "text": [
            "fatal: destination path 'Bakalaurinis_darbas' already exists and is not an empty directory.\n"
          ],
          "name": "stdout"
        }
      ]
    },
    {
      "cell_type": "code",
      "metadata": {
        "colab": {
          "base_uri": "https://localhost:8080/"
        },
        "id": "0MUJunKO8RWp",
        "outputId": "8f77438d-b92f-4806-88f5-414723546748"
      },
      "source": [
        "%cd /content/Bakalaurinis_darbas/Code"
      ],
      "execution_count": 174,
      "outputs": [
        {
          "output_type": "stream",
          "text": [
            "/content/Bakalaurinis_darbas/Code\n"
          ],
          "name": "stdout"
        }
      ]
    },
    {
      "cell_type": "code",
      "metadata": {
        "colab": {
          "base_uri": "https://localhost:8080/",
          "height": 419
        },
        "id": "eqULQ5FN8WZZ",
        "outputId": "79d0f104-f02c-4b88-dc90-480cc54657f0"
      },
      "source": [
        "import pandas as pd\n",
        "\n",
        "duomenys = pd.read_csv('/content/Bakalaurinis_darbas/Code/diabetes.csv')\n",
        "duomenys"
      ],
      "execution_count": 175,
      "outputs": [
        {
          "output_type": "execute_result",
          "data": {
            "text/html": [
              "<div>\n",
              "<style scoped>\n",
              "    .dataframe tbody tr th:only-of-type {\n",
              "        vertical-align: middle;\n",
              "    }\n",
              "\n",
              "    .dataframe tbody tr th {\n",
              "        vertical-align: top;\n",
              "    }\n",
              "\n",
              "    .dataframe thead th {\n",
              "        text-align: right;\n",
              "    }\n",
              "</style>\n",
              "<table border=\"1\" class=\"dataframe\">\n",
              "  <thead>\n",
              "    <tr style=\"text-align: right;\">\n",
              "      <th></th>\n",
              "      <th>Pregnancies</th>\n",
              "      <th>Glucose</th>\n",
              "      <th>BloodPressure</th>\n",
              "      <th>SkinThickness</th>\n",
              "      <th>Insulin</th>\n",
              "      <th>BMI</th>\n",
              "      <th>DiabetesPedigreeFunction</th>\n",
              "      <th>Age</th>\n",
              "      <th>Outcome</th>\n",
              "    </tr>\n",
              "  </thead>\n",
              "  <tbody>\n",
              "    <tr>\n",
              "      <th>0</th>\n",
              "      <td>6</td>\n",
              "      <td>148</td>\n",
              "      <td>72</td>\n",
              "      <td>35</td>\n",
              "      <td>0</td>\n",
              "      <td>33.6</td>\n",
              "      <td>0.627</td>\n",
              "      <td>50</td>\n",
              "      <td>1</td>\n",
              "    </tr>\n",
              "    <tr>\n",
              "      <th>1</th>\n",
              "      <td>1</td>\n",
              "      <td>85</td>\n",
              "      <td>66</td>\n",
              "      <td>29</td>\n",
              "      <td>0</td>\n",
              "      <td>26.6</td>\n",
              "      <td>0.351</td>\n",
              "      <td>31</td>\n",
              "      <td>0</td>\n",
              "    </tr>\n",
              "    <tr>\n",
              "      <th>2</th>\n",
              "      <td>8</td>\n",
              "      <td>183</td>\n",
              "      <td>64</td>\n",
              "      <td>0</td>\n",
              "      <td>0</td>\n",
              "      <td>23.3</td>\n",
              "      <td>0.672</td>\n",
              "      <td>32</td>\n",
              "      <td>1</td>\n",
              "    </tr>\n",
              "    <tr>\n",
              "      <th>3</th>\n",
              "      <td>1</td>\n",
              "      <td>89</td>\n",
              "      <td>66</td>\n",
              "      <td>23</td>\n",
              "      <td>94</td>\n",
              "      <td>28.1</td>\n",
              "      <td>0.167</td>\n",
              "      <td>21</td>\n",
              "      <td>0</td>\n",
              "    </tr>\n",
              "    <tr>\n",
              "      <th>4</th>\n",
              "      <td>0</td>\n",
              "      <td>137</td>\n",
              "      <td>40</td>\n",
              "      <td>35</td>\n",
              "      <td>168</td>\n",
              "      <td>43.1</td>\n",
              "      <td>2.288</td>\n",
              "      <td>33</td>\n",
              "      <td>1</td>\n",
              "    </tr>\n",
              "    <tr>\n",
              "      <th>...</th>\n",
              "      <td>...</td>\n",
              "      <td>...</td>\n",
              "      <td>...</td>\n",
              "      <td>...</td>\n",
              "      <td>...</td>\n",
              "      <td>...</td>\n",
              "      <td>...</td>\n",
              "      <td>...</td>\n",
              "      <td>...</td>\n",
              "    </tr>\n",
              "    <tr>\n",
              "      <th>763</th>\n",
              "      <td>10</td>\n",
              "      <td>101</td>\n",
              "      <td>76</td>\n",
              "      <td>48</td>\n",
              "      <td>180</td>\n",
              "      <td>32.9</td>\n",
              "      <td>0.171</td>\n",
              "      <td>63</td>\n",
              "      <td>0</td>\n",
              "    </tr>\n",
              "    <tr>\n",
              "      <th>764</th>\n",
              "      <td>2</td>\n",
              "      <td>122</td>\n",
              "      <td>70</td>\n",
              "      <td>27</td>\n",
              "      <td>0</td>\n",
              "      <td>36.8</td>\n",
              "      <td>0.340</td>\n",
              "      <td>27</td>\n",
              "      <td>0</td>\n",
              "    </tr>\n",
              "    <tr>\n",
              "      <th>765</th>\n",
              "      <td>5</td>\n",
              "      <td>121</td>\n",
              "      <td>72</td>\n",
              "      <td>23</td>\n",
              "      <td>112</td>\n",
              "      <td>26.2</td>\n",
              "      <td>0.245</td>\n",
              "      <td>30</td>\n",
              "      <td>0</td>\n",
              "    </tr>\n",
              "    <tr>\n",
              "      <th>766</th>\n",
              "      <td>1</td>\n",
              "      <td>126</td>\n",
              "      <td>60</td>\n",
              "      <td>0</td>\n",
              "      <td>0</td>\n",
              "      <td>30.1</td>\n",
              "      <td>0.349</td>\n",
              "      <td>47</td>\n",
              "      <td>1</td>\n",
              "    </tr>\n",
              "    <tr>\n",
              "      <th>767</th>\n",
              "      <td>1</td>\n",
              "      <td>93</td>\n",
              "      <td>70</td>\n",
              "      <td>31</td>\n",
              "      <td>0</td>\n",
              "      <td>30.4</td>\n",
              "      <td>0.315</td>\n",
              "      <td>23</td>\n",
              "      <td>0</td>\n",
              "    </tr>\n",
              "  </tbody>\n",
              "</table>\n",
              "<p>768 rows × 9 columns</p>\n",
              "</div>"
            ],
            "text/plain": [
              "     Pregnancies  Glucose  ...  Age  Outcome\n",
              "0              6      148  ...   50        1\n",
              "1              1       85  ...   31        0\n",
              "2              8      183  ...   32        1\n",
              "3              1       89  ...   21        0\n",
              "4              0      137  ...   33        1\n",
              "..           ...      ...  ...  ...      ...\n",
              "763           10      101  ...   63        0\n",
              "764            2      122  ...   27        0\n",
              "765            5      121  ...   30        0\n",
              "766            1      126  ...   47        1\n",
              "767            1       93  ...   23        0\n",
              "\n",
              "[768 rows x 9 columns]"
            ]
          },
          "metadata": {
            "tags": []
          },
          "execution_count": 175
        }
      ]
    },
    {
      "cell_type": "code",
      "metadata": {
        "id": "Do-l7YQn-Qrt"
      },
      "source": [
        "import pandas as pd\n",
        "\n",
        "class ORCDataset(Dataset):\n",
        "  def __init__(self, root):\n",
        "    self.root = root\n",
        "    self.data = pd.read_csv(root)\n",
        "\n",
        "  def __len__(self):\n",
        "    return len(self.data)\n",
        "\n",
        "  def __getitem__(self, idx):\n",
        "    dat = {}\n",
        "    dat['Pregnancies'] = self.data['Pregnancies'][idx]\n",
        "    dat['Glucose'] = self.data['Glucose'][idx]\n",
        "    dat['BloodPressure'] = self.data['BloodPressure'][idx]\n",
        "    dat['BMI'] = self.data['BMI'][idx]\n",
        "    dat['Age'] = self.data['Age'][idx]\n",
        "    found_type = self.data['Outcome'][idx]\n",
        "\n",
        "    return {'data': dat, 'class_name': found_type}\n",
        "\n",
        "train_dataset = ORCDataset('/content/Bakalaurinis_darbas/Code/diabetes.csv')"
      ],
      "execution_count": 176,
      "outputs": []
    },
    {
      "cell_type": "code",
      "metadata": {
        "id": "DEY-Wb1z98SD"
      },
      "source": [
        "class Net(nn.Module):\n",
        "    def __init__(self, input_size, hidden1_size, hidden2_size, num_classes):\n",
        "        super(Net, self).__init__()\n",
        "        self.fc1 = nn.Linear(input_size, hidden1_size)\n",
        "        self.relu1 = nn.ReLU()\n",
        "        self.fc2 = nn.Linear(hidden1_size, hidden2_size)\n",
        "        self.relu2 = nn.ReLU()\n",
        "        self.fc3 = nn.Linear(hidden2_size, num_classes)  \n",
        "    \n",
        "    def forward(self, x):\n",
        "        out = self.fc1(x)\n",
        "        out = self.relu1(out)\n",
        "        out = self.fc2(out)        \n",
        "        out = self.relu2(out)     \n",
        "        out = self.fc3(out)\n",
        "        return out"
      ],
      "execution_count": 177,
      "outputs": []
    },
    {
      "cell_type": "markdown",
      "metadata": {
        "id": "BLcbrZyj_hXT"
      },
      "source": [
        "2 <- 7 <- 15 <- 5"
      ]
    },
    {
      "cell_type": "code",
      "metadata": {
        "colab": {
          "base_uri": "https://localhost:8080/"
        },
        "id": "o3GzBs6t_X0g",
        "outputId": "ae17ded3-502c-468d-b33a-27ebafb2f19c"
      },
      "source": [
        "network = Net(5, 15, 7, 2)\n",
        "optimizer = torch.optim.SGD(network.parameters(), lr=0.0001, momentum=0.6)\n",
        "criterion = nn.MSELoss().cuda()\n",
        "\n",
        "print(network)"
      ],
      "execution_count": 178,
      "outputs": [
        {
          "output_type": "stream",
          "text": [
            "Net(\n",
            "  (fc1): Linear(in_features=5, out_features=15, bias=True)\n",
            "  (relu1): ReLU()\n",
            "  (fc2): Linear(in_features=15, out_features=7, bias=True)\n",
            "  (relu2): ReLU()\n",
            "  (fc3): Linear(in_features=7, out_features=2, bias=True)\n",
            ")\n"
          ],
          "name": "stdout"
        }
      ]
    },
    {
      "cell_type": "code",
      "metadata": {
        "colab": {
          "base_uri": "https://localhost:8080/"
        },
        "id": "1MnOqoUK_vGx",
        "outputId": "2561df28-ba47-4eed-ee2d-e69cf31b1150"
      },
      "source": [
        "dev = torch.device(\"cuda\") if torch.cuda.is_available() else torch.device(\"cpu\")\n",
        "network.to(dev)\n",
        "criterion.to(dev)\n",
        "dev"
      ],
      "execution_count": 179,
      "outputs": [
        {
          "output_type": "execute_result",
          "data": {
            "text/plain": [
              "device(type='cpu')"
            ]
          },
          "metadata": {
            "tags": []
          },
          "execution_count": 179
        }
      ]
    },
    {
      "cell_type": "code",
      "metadata": {
        "colab": {
          "base_uri": "https://localhost:8080/"
        },
        "id": "-SQxeSmA_xaj",
        "outputId": "55ad7b33-21c2-4277-d233-387e7045f178"
      },
      "source": [
        "device = torch.device('cuda' if torch.cuda.is_available() else 'cpu')\n",
        "print('Using device:', device)\n",
        "print()\n",
        "\n",
        "#Additional Info when using cuda\n",
        "if device.type == 'cuda':\n",
        "    print(torch.cuda.get_device_name(0))\n",
        "    print('Memory Usage:')\n",
        "    print('Allocated:', round(torch.cuda.memory_allocated(0)/1024**3,1), 'GB')\n",
        "    print('Cached:   ', round(torch.cuda.memory_cached(0)/1024**3,1), 'GB')"
      ],
      "execution_count": 180,
      "outputs": [
        {
          "output_type": "stream",
          "text": [
            "Using device: cpu\n",
            "\n"
          ],
          "name": "stdout"
        }
      ]
    },
    {
      "cell_type": "code",
      "metadata": {
        "id": "JLzLwFT0_0Mg"
      },
      "source": [
        "train_loader = torch.utils.data.DataLoader(train_dataset, batch_size = len(train_dataset),shuffle=True)"
      ],
      "execution_count": 181,
      "outputs": []
    },
    {
      "cell_type": "code",
      "metadata": {
        "colab": {
          "base_uri": "https://localhost:8080/"
        },
        "id": "O1vxofpT_3YM",
        "outputId": "d1d88a16-fbf8-4a5f-80e5-d20b2c4d9ca4"
      },
      "source": [
        "dataiter = iter(train_loader)\n",
        "itr = dataiter.next()\n",
        "\n",
        "label = itr['class_name']\n",
        "dat = itr['data']\n",
        "print(\"Class name: {} Data: [Pregnancies: {} Glucose: {} BloodPressure: {} BMI: {} Age: {}]\".format(label[0], dat['Pregnancies'][0], dat['Glucose'][0], dat['BloodPressure'][0], dat['BMI'][0], dat['Age'][0]))"
      ],
      "execution_count": 182,
      "outputs": [
        {
          "output_type": "stream",
          "text": [
            "Class name: 0 Data: [Pregnancies: 2 Glucose: 100 BloodPressure: 64 BMI: 29.7 Age: 21]\n"
          ],
          "name": "stdout"
        }
      ]
    },
    {
      "cell_type": "code",
      "metadata": {
        "colab": {
          "base_uri": "https://localhost:8080/"
        },
        "id": "OzL6X9A1Ixyt",
        "outputId": "69d3c43f-e6a9-4c15-eba9-60361723b602"
      },
      "source": [
        "for data in train_loader:\n",
        "  parsedData = []\n",
        "  for dictIdx in range(len(dat)):\n",
        "    parsedData.append([dat['Pregnancies'][dictIdx], dat['Glucose'][dictIdx], dat['BloodPressure'][dictIdx], dat['BMI'][dictIdx], dat['Age'][dictIdx]])\n",
        "\n",
        "  print(torch.Tensor(parsedData))"
      ],
      "execution_count": 183,
      "outputs": [
        {
          "output_type": "stream",
          "text": [
            "tensor([[  2.0000, 100.0000,  64.0000,  29.7000,  21.0000],\n",
            "        [  1.0000, 196.0000,  76.0000,  36.5000,  29.0000],\n",
            "        [  3.0000, 112.0000,  74.0000,  31.6000,  25.0000],\n",
            "        [  3.0000, 169.0000,  74.0000,  29.9000,  31.0000],\n",
            "        [  9.0000, 145.0000,  80.0000,  37.9000,  40.0000]])\n"
          ],
          "name": "stdout"
        }
      ]
    },
    {
      "cell_type": "code",
      "metadata": {
        "colab": {
          "base_uri": "https://localhost:8080/",
          "height": 645
        },
        "id": "boQCZfH2Aukr",
        "outputId": "1147ebc2-e904-4e9b-a639-765c75ef71a1"
      },
      "source": [
        "def train(train_loader, epoch_amount, save_checkpoint = 10):\n",
        "  network.eval()\n",
        "  train_loss_hist = []\n",
        "\n",
        "  checkpoint = save_checkpoint\n",
        "  for epoch in range(epoch_amount):\n",
        "    num_data_train = 0\n",
        "\n",
        "    # TRAINING DATASET\n",
        "    correct = 0\n",
        "    for data in train_loader:\n",
        "      labels = torch.from_numpy(np.array(data['class_name']))\n",
        "      dat = data['data']\n",
        "\n",
        "      lossSum = 0\n",
        "      \n",
        "      parsedData = []\n",
        "      for dictIdx in range(len(labels)):\n",
        "        parsedData.append(\n",
        "            np.array([dat['Pregnancies'][dictIdx].float(), dat['Glucose'][dictIdx].float(), dat['BloodPressure'][dictIdx].float(), dat['BMI'][dictIdx].float(), dat['Age'][dictIdx].float()])\n",
        "            )\n",
        "\n",
        "      for idx in range(len(labels)):\n",
        "        optimizer.zero_grad()\n",
        "\n",
        "        outputs = network(torch.Tensor(parsedData[idx].flatten()))\n",
        "        realAnswer = [0, 0]\n",
        "        realAnswer[labels[idx]] = 1\n",
        "\n",
        "        loss = criterion(outputs, torch.Tensor(realAnswer))\n",
        "          \n",
        "        loss.backward()\n",
        "\n",
        "        lossSum += loss.item()\n",
        "        train_loss_hist.append(lossSum)\n",
        "\n",
        "        optimizer.step()\n",
        "\n",
        "    print(\"Epoch: {} Training loss: {}\".format(epoch,train_loss_hist[len(train_loss_hist) - 1]))\n",
        "    \n",
        "    if(checkpoint == 0):\n",
        "      torch.save(network.state_dict(), '/content/results/model.pth')\n",
        "      torch.save(optimizer.state_dict(), '/content/results/optimizer.pth')\n",
        "\n",
        "      checkpoint = save_checkpoint\n",
        "    else:\n",
        "      checkpoint -= 1\n",
        "\n",
        "  plt.plot(np.arange(0, len(train_loss_hist), 1), train_loss_hist)\n",
        "  plt.show()\n",
        "\n",
        "train(train_loader, 20)\n"
      ],
      "execution_count": 189,
      "outputs": [
        {
          "output_type": "stream",
          "text": [
            "Epoch: 0 Training loss: 122.233886654299\n",
            "Epoch: 1 Training loss: 120.85241040138862\n",
            "Epoch: 2 Training loss: 121.35908464640943\n",
            "Epoch: 3 Training loss: 118.31413004250953\n",
            "Epoch: 4 Training loss: 120.2616313997114\n",
            "Epoch: 5 Training loss: 120.62448369607364\n",
            "Epoch: 6 Training loss: 120.77594803312968\n",
            "Epoch: 7 Training loss: 120.0603860825031\n",
            "Epoch: 8 Training loss: 121.07719222256355\n",
            "Epoch: 9 Training loss: 120.48931637906207\n",
            "Epoch: 10 Training loss: 120.14098691336358\n",
            "Epoch: 11 Training loss: 120.3935873949415\n",
            "Epoch: 12 Training loss: 120.71107430059897\n",
            "Epoch: 13 Training loss: 120.2328748240252\n",
            "Epoch: 14 Training loss: 119.29734262689635\n",
            "Epoch: 15 Training loss: 120.4286990726232\n",
            "Epoch: 16 Training loss: 120.80641360536106\n",
            "Epoch: 17 Training loss: 119.39276361325938\n",
            "Epoch: 18 Training loss: 119.80506729770514\n",
            "Epoch: 19 Training loss: 120.86649559786201\n"
          ],
          "name": "stdout"
        },
        {
          "output_type": "display_data",
          "data": {
            "image/png": "[encoded data removed]",
            "text/plain": [
              "<Figure size 432x288 with 1 Axes>"
            ]
          },
          "metadata": {
            "tags": [],
            "needs_background": "light"
          }
        }
      ]
    }
  ]
}