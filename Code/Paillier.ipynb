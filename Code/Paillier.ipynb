{
  "nbformat": 4,
  "nbformat_minor": 0,
  "metadata": {
    "colab": {
      "name": "Paillier.ipynb",
      "provenance": [],
      "collapsed_sections": []
    },
    "kernelspec": {
      "name": "python3",
      "display_name": "Python 3"
    }
  },
  "cells": [
    {
      "cell_type": "code",
      "metadata": {
        "colab": {
          "base_uri": "https://localhost:8080/"
        },
        "id": "6Mrzx0bkRF-K",
        "outputId": "c675f909-2238-4736-fe33-e6497aede823"
      },
      "source": [
        "!git clone https://github.com/data61/python-paillier"
      ],
      "execution_count": 53,
      "outputs": [
        {
          "output_type": "stream",
          "text": [
            "fatal: destination path 'python-paillier' already exists and is not an empty directory.\n"
          ],
          "name": "stdout"
        }
      ]
    },
    {
      "cell_type": "code",
      "metadata": {
        "colab": {
          "base_uri": "https://localhost:8080/"
        },
        "id": "3I4WjPloTffW",
        "outputId": "f86d9548-83a3-47ff-ebe2-7cd82a0c7339"
      },
      "source": [
        "!apt-get install libgmp-dev\n",
        "!apt-get install libmpfr-dev\n",
        "!apt-get install libmpc-dev"
      ],
      "execution_count": 54,
      "outputs": [
        {
          "output_type": "stream",
          "text": [
            "Reading package lists... Done\n",
            "Building dependency tree       \n",
            "Reading state information... Done\n",
            "libgmp-dev is already the newest version (2:6.1.2+dfsg-2).\n",
            "0 upgraded, 0 newly installed, 0 to remove and 13 not upgraded.\n",
            "Reading package lists... Done\n",
            "Building dependency tree       \n",
            "Reading state information... Done\n",
            "libmpfr-dev is already the newest version (4.0.1-1).\n",
            "0 upgraded, 0 newly installed, 0 to remove and 13 not upgraded.\n",
            "Reading package lists... Done\n",
            "Building dependency tree       \n",
            "Reading state information... Done\n",
            "libmpc-dev is already the newest version (1.1.0-1).\n",
            "0 upgraded, 0 newly installed, 0 to remove and 13 not upgraded.\n"
          ],
          "name": "stdout"
        }
      ]
    },
    {
      "cell_type": "code",
      "metadata": {
        "colab": {
          "base_uri": "https://localhost:8080/"
        },
        "id": "IH6xcH13SfF0",
        "outputId": "1c36d0fd-98ec-4520-b539-dfd1311d7144"
      },
      "source": [
        "!pip3 install -r /content/python-paillier/requirements.txt"
      ],
      "execution_count": 55,
      "outputs": [
        {
          "output_type": "stream",
          "text": [
            "Requirement already satisfied: pycrypto>=2.6.1 in /usr/local/lib/python3.6/dist-packages (from -r /content/python-paillier/requirements.txt (line 1)) (2.6.1)\n",
            "Requirement already satisfied: gmpy2>=2.0.4 in /usr/local/lib/python3.6/dist-packages (from -r /content/python-paillier/requirements.txt (line 2)) (2.0.8)\n",
            "Requirement already satisfied: numpy>=1.9.1 in /usr/local/lib/python3.6/dist-packages (from -r /content/python-paillier/requirements.txt (line 3)) (1.19.5)\n",
            "Requirement already satisfied: nose>=1.3.4 in /usr/local/lib/python3.6/dist-packages (from -r /content/python-paillier/requirements.txt (line 4)) (1.3.7)\n",
            "Requirement already satisfied: click>=6.7 in /usr/local/lib/python3.6/dist-packages (from -r /content/python-paillier/requirements.txt (line 5)) (7.1.2)\n"
          ],
          "name": "stdout"
        }
      ]
    },
    {
      "cell_type": "code",
      "metadata": {
        "colab": {
          "base_uri": "https://localhost:8080/"
        },
        "id": "4YRUV2PzUJU8",
        "outputId": "8a855a70-81aa-4cf9-e65b-867ec2b25061"
      },
      "source": [
        "!python /content/python-paillier/setup.py build"
      ],
      "execution_count": 56,
      "outputs": [
        {
          "output_type": "stream",
          "text": [
            "/usr/local/lib/python3.6/dist-packages/setuptools/dist.py:461: UserWarning: Normalizing '1.4.1-dev0' to '1.4.1.dev0'\n",
            "  warnings.warn(tmpl.format(**locals()))\n",
            "running build\n",
            "running build_py\n"
          ],
          "name": "stdout"
        }
      ]
    },
    {
      "cell_type": "code",
      "metadata": {
        "colab": {
          "base_uri": "https://localhost:8080/"
        },
        "id": "AgsuBKuWUbqm",
        "outputId": "f24b8464-76b9-4895-c56d-0936f837bbc4"
      },
      "source": [
        "!python /content/python-paillier/setup.py install"
      ],
      "execution_count": 57,
      "outputs": [
        {
          "output_type": "stream",
          "text": [
            "/usr/local/lib/python3.6/dist-packages/setuptools/dist.py:461: UserWarning: Normalizing '1.4.1-dev0' to '1.4.1.dev0'\n",
            "  warnings.warn(tmpl.format(**locals()))\n",
            "running install\n",
            "running bdist_egg\n",
            "running egg_info\n",
            "writing phe.egg-info/PKG-INFO\n",
            "writing dependency_links to phe.egg-info/dependency_links.txt\n",
            "writing entry points to phe.egg-info/entry_points.txt\n",
            "writing requirements to phe.egg-info/requires.txt\n",
            "writing top-level names to phe.egg-info/top_level.txt\n",
            "writing manifest file 'phe.egg-info/SOURCES.txt'\n",
            "installing library code to build/bdist.linux-x86_64/egg\n",
            "running install_lib\n",
            "running build_py\n",
            "creating build/bdist.linux-x86_64/egg\n",
            "creating build/bdist.linux-x86_64/egg/phe\n",
            "copying build/lib/phe/__init__.py -> build/bdist.linux-x86_64/egg/phe\n",
            "copying build/lib/phe/util.py -> build/bdist.linux-x86_64/egg/phe\n",
            "copying build/lib/phe/command_line.py -> build/bdist.linux-x86_64/egg/phe\n",
            "creating build/bdist.linux-x86_64/egg/phe/tests\n",
            "copying build/lib/phe/tests/cli_test.py -> build/bdist.linux-x86_64/egg/phe/tests\n",
            "copying build/lib/phe/tests/util_test.py -> build/bdist.linux-x86_64/egg/phe/tests\n",
            "copying build/lib/phe/tests/__init__.py -> build/bdist.linux-x86_64/egg/phe/tests\n",
            "copying build/lib/phe/tests/math_test.py -> build/bdist.linux-x86_64/egg/phe/tests\n",
            "copying build/lib/phe/tests/paillier_test.py -> build/bdist.linux-x86_64/egg/phe/tests\n",
            "copying build/lib/phe/__about__.py -> build/bdist.linux-x86_64/egg/phe\n",
            "copying build/lib/phe/encoding.py -> build/bdist.linux-x86_64/egg/phe\n",
            "copying build/lib/phe/paillier.py -> build/bdist.linux-x86_64/egg/phe\n",
            "byte-compiling build/bdist.linux-x86_64/egg/phe/__init__.py to __init__.cpython-36.pyc\n",
            "byte-compiling build/bdist.linux-x86_64/egg/phe/util.py to util.cpython-36.pyc\n",
            "byte-compiling build/bdist.linux-x86_64/egg/phe/command_line.py to command_line.cpython-36.pyc\n",
            "byte-compiling build/bdist.linux-x86_64/egg/phe/tests/cli_test.py to cli_test.cpython-36.pyc\n",
            "byte-compiling build/bdist.linux-x86_64/egg/phe/tests/util_test.py to util_test.cpython-36.pyc\n",
            "byte-compiling build/bdist.linux-x86_64/egg/phe/tests/__init__.py to __init__.cpython-36.pyc\n",
            "byte-compiling build/bdist.linux-x86_64/egg/phe/tests/math_test.py to math_test.cpython-36.pyc\n",
            "byte-compiling build/bdist.linux-x86_64/egg/phe/tests/paillier_test.py to paillier_test.cpython-36.pyc\n",
            "byte-compiling build/bdist.linux-x86_64/egg/phe/__about__.py to __about__.cpython-36.pyc\n",
            "byte-compiling build/bdist.linux-x86_64/egg/phe/encoding.py to encoding.cpython-36.pyc\n",
            "byte-compiling build/bdist.linux-x86_64/egg/phe/paillier.py to paillier.cpython-36.pyc\n",
            "creating build/bdist.linux-x86_64/egg/EGG-INFO\n",
            "copying phe.egg-info/PKG-INFO -> build/bdist.linux-x86_64/egg/EGG-INFO\n",
            "copying phe.egg-info/SOURCES.txt -> build/bdist.linux-x86_64/egg/EGG-INFO\n",
            "copying phe.egg-info/dependency_links.txt -> build/bdist.linux-x86_64/egg/EGG-INFO\n",
            "copying phe.egg-info/entry_points.txt -> build/bdist.linux-x86_64/egg/EGG-INFO\n",
            "copying phe.egg-info/requires.txt -> build/bdist.linux-x86_64/egg/EGG-INFO\n",
            "copying phe.egg-info/top_level.txt -> build/bdist.linux-x86_64/egg/EGG-INFO\n",
            "zip_safe flag not set; analyzing archive contents...\n",
            "creating 'dist/phe-1.4.1.dev0-py3.6.egg' and adding 'build/bdist.linux-x86_64/egg' to it\n",
            "removing 'build/bdist.linux-x86_64/egg' (and everything under it)\n",
            "Processing phe-1.4.1.dev0-py3.6.egg\n",
            "Removing /usr/local/lib/python3.6/dist-packages/phe-1.4.1.dev0-py3.6.egg\n",
            "Copying phe-1.4.1.dev0-py3.6.egg to /usr/local/lib/python3.6/dist-packages\n",
            "phe 1.4.1.dev0 is already the active version in easy-install.pth\n",
            "Installing pheutil script to /usr/local/bin\n",
            "\n",
            "Installed /usr/local/lib/python3.6/dist-packages/phe-1.4.1.dev0-py3.6.egg\n",
            "Processing dependencies for phe==1.4.1.dev0\n",
            "Finished processing dependencies for phe==1.4.1.dev0\n"
          ],
          "name": "stdout"
        }
      ]
    },
    {
      "cell_type": "code",
      "metadata": {
        "id": "LCLg3N8lSspP"
      },
      "source": [
        "#!python /content/python-paillier/setup.py test"
      ],
      "execution_count": null,
      "outputs": []
    },
    {
      "cell_type": "code",
      "metadata": {
        "colab": {
          "base_uri": "https://localhost:8080/"
        },
        "id": "AsDliibKU8US",
        "outputId": "076aa6b0-ac23-4f93-fa58-4c00a477b3b6"
      },
      "source": [
        "%cd /content/python-paillier/"
      ],
      "execution_count": 59,
      "outputs": [
        {
          "output_type": "stream",
          "text": [
            "/content/python-paillier\n"
          ],
          "name": "stdout"
        }
      ]
    },
    {
      "cell_type": "code",
      "metadata": {
        "colab": {
          "base_uri": "https://localhost:8080/"
        },
        "id": "GCKOpsA3Uc0k",
        "outputId": "2ff8e2f2-a79c-4d8a-af10-a9e377cab23f"
      },
      "source": [
        "import numpy as np\n",
        "from sklearn.datasets import load_diabetes\n",
        "\n",
        "import phe as paillier\n",
        "\n",
        "seed = 43\n",
        "np.random.seed(seed)\n",
        "\n",
        "def get_data(n_clients):\n",
        "    \"\"\"\n",
        "    Import the dataset via sklearn, shuffle and split train/test.\n",
        "    Return training, target lists for `n_clients` and a holdout test set\n",
        "    \"\"\"\n",
        "    print(\"Loading data\")\n",
        "    diabetes = load_diabetes()\n",
        "    y = diabetes.target\n",
        "    X = diabetes.data\n",
        "    # Add constant to emulate intercept\n",
        "    X = np.c_[X, np.ones(X.shape[0])]\n",
        "\n",
        "    # The features are already preprocessed\n",
        "    # Shuffle\n",
        "    perm = np.random.permutation(X.shape[0])\n",
        "    X, y = X[perm, :], y[perm]\n",
        "\n",
        "    # Select test at random\n",
        "    test_size = 50\n",
        "    test_idx = np.random.choice(X.shape[0], size=test_size, replace=False)\n",
        "    train_idx = np.ones(X.shape[0], dtype=bool)\n",
        "    train_idx[test_idx] = False\n",
        "    X_test, y_test = X[test_idx, :], y[test_idx]\n",
        "    X_train, y_train = X[train_idx, :], y[train_idx]\n",
        "\n",
        "    # Split train among multiple clients.\n",
        "    # The selection is not at random. We simulate the fact that each client\n",
        "    # sees a potentially very different sample of patients.\n",
        "    X, y = [], []\n",
        "    step = int(X_train.shape[0] / n_clients)\n",
        "    for c in range(n_clients):\n",
        "        X.append(X_train[step * c: step * (c + 1), :])\n",
        "        y.append(y_train[step * c: step * (c + 1)])\n",
        "\n",
        "    return X, y, X_test, y_test\n",
        "\n",
        "\n",
        "def mean_square_error(y_pred, y):\n",
        "    \"\"\" 1/m * \\sum_{i=1..m} (y_pred_i - y_i)^2 \"\"\"\n",
        "    return np.mean((y - y_pred) ** 2)\n",
        "\n",
        "\n",
        "def encrypt_vector(public_key, x):\n",
        "    return [public_key.encrypt(i) for i in x]\n",
        "\n",
        "\n",
        "def decrypt_vector(private_key, x):\n",
        "    return np.array([private_key.decrypt(i) for i in x])\n",
        "\n",
        "\n",
        "def sum_encrypted_vectors(x, y):\n",
        "    if len(x) != len(y):\n",
        "        raise ValueError('Encrypted vectors must have the same size')\n",
        "    return [x[i] + y[i] for i in range(len(x))]\n",
        "\n",
        "\n",
        "class Server:\n",
        "    \"\"\"Private key holder. Decrypts the average gradient\"\"\"\n",
        "\n",
        "    def __init__(self, key_length):\n",
        "         keypair = paillier.generate_paillier_keypair(n_length=key_length)\n",
        "         self.pubkey, self.privkey = keypair\n",
        "\n",
        "    def decrypt_aggregate(self, input_model, n_clients):\n",
        "        return decrypt_vector(self.privkey, input_model) / n_clients\n",
        "\n",
        "\n",
        "class Client:\n",
        "    \"\"\"Runs linear regression with local data or by gradient steps,\n",
        "    where gradient can be passed in.\n",
        "    Using public key can encrypt locally computed gradients.\n",
        "    \"\"\"\n",
        "\n",
        "    def __init__(self, name, X, y, pubkey):\n",
        "        self.name = name\n",
        "        self.pubkey = pubkey\n",
        "        self.X, self.y = X, y\n",
        "        self.weights = np.zeros(X.shape[1])\n",
        "\n",
        "    def fit(self, n_iter, eta=0.01):\n",
        "        \"\"\"Linear regression for n_iter\"\"\"\n",
        "        for _ in range(n_iter):\n",
        "            gradient = self.compute_gradient()\n",
        "            self.gradient_step(gradient, eta)\n",
        "\n",
        "    def gradient_step(self, gradient, eta=0.01):\n",
        "        \"\"\"Update the model with the given gradient\"\"\"\n",
        "        self.weights -= eta * gradient\n",
        "\n",
        "    def compute_gradient(self):\n",
        "        \"\"\"Compute the gradient of the current model using the training set\n",
        "        \"\"\"\n",
        "        delta = self.predict(self.X) - self.y\n",
        "        return delta.dot(self.X) / len(self.X)\n",
        "\n",
        "    def predict(self, X):\n",
        "        \"\"\"Score test data\"\"\"\n",
        "        return X.dot(self.weights)\n",
        "\n",
        "    def encrypted_gradient(self, sum_to=None):\n",
        "        \"\"\"Compute and encrypt gradient.\n",
        "        When `sum_to` is given, sum the encrypted gradient to it, assumed\n",
        "        to be another vector of the same size\n",
        "        \"\"\"\n",
        "        gradient = self.compute_gradient()\n",
        "        encrypted_gradient = encrypt_vector(self.pubkey, gradient)\n",
        "\n",
        "        if sum_to is not None:\n",
        "            return sum_encrypted_vectors(sum_to, encrypted_gradient)\n",
        "        else:\n",
        "            return encrypted_gradient\n",
        "\n",
        "    def analyze_data_privacy(self, X, Y):\n",
        "\n",
        "      predicted = 0\n",
        "      notPredicted = 0\n",
        "      predictionTreshold = 30\n",
        "\n",
        "      for i in range(len(X)):\n",
        "        prediction = self.predict(X[i])\n",
        "\n",
        "        if(prediction >= Y[i] - predictionTreshold and prediction <= Y[i] + predictionTreshold):\n",
        "          predicted += 1\n",
        "        else:\n",
        "          notPredicted += 1\n",
        "\n",
        "      print(\"Predicted: {} Not predicted: {}\".format(predicted/(predicted+notPredicted)*100, notPredicted/(predicted+notPredicted)*100))\n",
        "\n",
        "      return True\n",
        "\n",
        "def federated_learning(X, y, X_test, y_test, config):\n",
        "    n_clients = config['n_clients']\n",
        "    n_iter = config['n_iter']\n",
        "    names = ['Hospital {}'.format(i) for i in range(1, n_clients + 1)]\n",
        "\n",
        "    # Instantiate the server and generate private and public keys\n",
        "    # NOTE: using smaller keys sizes wouldn't be cryptographically safe\n",
        "    server = Server(key_length=config['key_length'])\n",
        "\n",
        "    # Instantiate the clients.\n",
        "    # Each client gets the public key at creation and its own local dataset\n",
        "    clients = []\n",
        "    for i in range(n_clients):\n",
        "        clients.append(Client(names[i], X[i], y[i], server.pubkey))\n",
        "\n",
        "    # The federated learning with gradient descent\n",
        "    print('Running distributed gradient aggregation for {:d} iterations'\n",
        "          .format(n_iter))\n",
        "    for i in range(n_iter):\n",
        "\n",
        "        # Compute gradients, encrypt and aggregate\n",
        "        encrypt_aggr = clients[0].encrypted_gradient(sum_to=None)\n",
        "        for c in clients[1:]:\n",
        "            encrypt_aggr = c.encrypted_gradient(sum_to=encrypt_aggr)\n",
        "\n",
        "        # Send aggregate to server and decrypt it\n",
        "        aggr = server.decrypt_aggregate(encrypt_aggr, n_clients)\n",
        "\n",
        "        # Take gradient steps\n",
        "        for c in clients:\n",
        "            c.gradient_step(aggr, config['eta'])\n",
        "\n",
        "    print('Error (MSE) that each client gets after running the protocol:')\n",
        "    for c in clients:\n",
        "        y_pred = c.predict(X_test)\n",
        "        mse = mean_square_error(y_pred, y_test)\n",
        "        print('{:s}:\\t{:.2f}'.format(c.name, mse))\n",
        "\n",
        "\n",
        "def local_learning(X, y, X_test, y_test, config):\n",
        "    n_clients = config['n_clients']\n",
        "    names = ['Hospital {}'.format(i) for i in range(1, n_clients + 1)]\n",
        "\n",
        "    # Instantiate the clients.\n",
        "    # Each client gets the public key at creation and its own local dataset\n",
        "    clients = []\n",
        "    for i in range(n_clients):\n",
        "        clients.append(Client(names[i], X[i], y[i], None))\n",
        "\n",
        "    # Each client trains a linear regressor on its own data\n",
        "    print('Error (MSE) that each client gets on test set by '\n",
        "          'training only on own local data:')\n",
        "    for c in range(len(clients)):\n",
        "        clients[c].fit(config['n_iter'], config['eta'])\n",
        "        y_pred = clients[c].predict(X_test)\n",
        "        mse = mean_square_error(y_pred, y_test)\n",
        "\n",
        "        print('{:s}:\\t{:.2f}'.format(clients[c].name, mse))\n",
        "\n",
        "        # Analyze client's data privacy\n",
        "        clients[c].analyze_data_privacy(X[c], y[c])\n",
        "\n",
        "if __name__ == '__main__':\n",
        "    config = {\n",
        "        'n_clients': 1,\n",
        "        'key_length': 1024,\n",
        "        'n_iter': 1000,\n",
        "        'eta': 1.0,\n",
        "    }\n",
        "\n",
        "    X, y, X_test, y_test = get_data(n_clients=config['n_clients'])\n",
        "\n",
        "    local_learning(X, y, X_test, y_test, config)\n",
        "\n",
        "    #federated_learning(X, y, X_test, y_test, config)"
      ],
      "execution_count": 80,
      "outputs": [
        {
          "output_type": "stream",
          "text": [
            "Loading data\n",
            "Error (MSE) that each client gets on test set by training only on own local data:\n",
            "Hospital 1:\t2272.06\n",
            "Predicted: 39.54081632653062 Not predicted: 60.45918367346938\n"
          ],
          "name": "stdout"
        }
      ]
    }
  ]
}