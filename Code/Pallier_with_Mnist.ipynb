{
  "nbformat": 4,
  "nbformat_minor": 0,
  "metadata": {
    "colab": {
      "name": "Pallier with Mnist.ipynb",
      "provenance": [],
      "collapsed_sections": []
    },
    "kernelspec": {
      "name": "python3",
      "display_name": "Python 3"
    }
  },
  "cells": [
    {
      "cell_type": "code",
      "metadata": {
        "id": "nHgZqihybX2u"
      },
      "source": [
        "from keras.datasets import mnist\r\n",
        "from matplotlib import pyplot\r\n",
        "import numpy as np"
      ],
      "execution_count": 48,
      "outputs": []
    },
    {
      "cell_type": "code",
      "metadata": {
        "id": "5Qb8MIr2bh3O"
      },
      "source": [
        "(train_X, train_y), (test_X, test_y) = mnist.load_data()"
      ],
      "execution_count": 49,
      "outputs": []
    },
    {
      "cell_type": "code",
      "metadata": {
        "colab": {
          "base_uri": "https://localhost:8080/"
        },
        "id": "W_uTDdihbohV",
        "outputId": "fc28f84c-c741-4800-c114-fc8292e59544"
      },
      "source": [
        "print('X_train: ' + str(train_X.shape))\r\n",
        "print('Y_train: ' + str(train_y.shape))\r\n",
        "print('X_test:  '  + str(test_X.shape))\r\n",
        "print('Y_test:  '  + str(test_y.shape))"
      ],
      "execution_count": 50,
      "outputs": [
        {
          "output_type": "stream",
          "text": [
            "X_train: (60000, 28, 28)\n",
            "Y_train: (60000,)\n",
            "X_test:  (10000, 28, 28)\n",
            "Y_test:  (10000,)\n"
          ],
          "name": "stdout"
        }
      ]
    },
    {
      "cell_type": "code",
      "metadata": {
        "colab": {
          "base_uri": "https://localhost:8080/",
          "height": 299
        },
        "id": "uCa-r_lVbyDT",
        "outputId": "f9be1c38-8f5f-4550-9e2f-c97965878acf"
      },
      "source": [
        "pyplot.imshow(train_X[0], cmap=pyplot.get_cmap('gray'))\r\n",
        "pyplot.show()\r\n",
        "\r\n",
        "print(\"Label: {}\".format(train_y[0]))\r\n",
        "print(\"Flatten size: {}\".format(len(train_X[0].flatten())))"
      ],
      "execution_count": 51,
      "outputs": [
        {
          "output_type": "display_data",
          "data": {
            "image/png": "[encoded data removed]",
            "text/plain": [
              "<Figure size 432x288 with 1 Axes>"
            ]
          },
          "metadata": {
            "tags": [],
            "needs_background": "light"
          }
        },
        {
          "output_type": "stream",
          "text": [
            "Label: 5\n",
            "Flatten size: 784\n"
          ],
          "name": "stdout"
        }
      ]
    },
    {
      "cell_type": "code",
      "metadata": {
        "colab": {
          "base_uri": "https://localhost:8080/"
        },
        "id": "tKn1Lp25eiX1",
        "outputId": "ba389945-aa8d-4627-9993-5549bedc13d2"
      },
      "source": [
        "!git clone https://github.com/data61/python-paillier"
      ],
      "execution_count": 52,
      "outputs": [
        {
          "output_type": "stream",
          "text": [
            "Cloning into 'python-paillier'...\n",
            "remote: Enumerating objects: 13, done.\u001b[K\n",
            "remote: Counting objects: 100% (13/13), done.\u001b[K\n",
            "remote: Compressing objects: 100% (13/13), done.\u001b[K\n",
            "remote: Total 997 (delta 5), reused 0 (delta 0), pack-reused 984\u001b[K\n",
            "Receiving objects: 100% (997/997), 281.07 KiB | 6.69 MiB/s, done.\n",
            "Resolving deltas: 100% (637/637), done.\n"
          ],
          "name": "stdout"
        }
      ]
    },
    {
      "cell_type": "code",
      "metadata": {
        "colab": {
          "base_uri": "https://localhost:8080/"
        },
        "id": "KvW8gOzVej-j",
        "outputId": "23344ea1-aa65-4676-8afd-823ca3327ca0"
      },
      "source": [
        "!apt-get install libgmp-dev\r\n",
        "!apt-get install libmpfr-dev\r\n",
        "!apt-get install libmpc-dev"
      ],
      "execution_count": 53,
      "outputs": [
        {
          "output_type": "stream",
          "text": [
            "Reading package lists... Done\n",
            "Building dependency tree       \n",
            "Reading state information... Done\n",
            "libgmp-dev is already the newest version (2:6.1.2+dfsg-2).\n",
            "0 upgraded, 0 newly installed, 0 to remove and 29 not upgraded.\n",
            "Reading package lists... Done\n",
            "Building dependency tree       \n",
            "Reading state information... Done\n",
            "libmpfr-dev is already the newest version (4.0.1-1).\n",
            "0 upgraded, 0 newly installed, 0 to remove and 29 not upgraded.\n",
            "Reading package lists... Done\n",
            "Building dependency tree       \n",
            "Reading state information... Done\n",
            "libmpc-dev is already the newest version (1.1.0-1).\n",
            "0 upgraded, 0 newly installed, 0 to remove and 29 not upgraded.\n"
          ],
          "name": "stdout"
        }
      ]
    },
    {
      "cell_type": "code",
      "metadata": {
        "colab": {
          "base_uri": "https://localhost:8080/"
        },
        "id": "dOfGANKIet05",
        "outputId": "a10c75ad-9876-4e28-dc33-75c23e75f002"
      },
      "source": [
        "!pip3 install -r /content/python-paillier/requirements.txt"
      ],
      "execution_count": 54,
      "outputs": [
        {
          "output_type": "stream",
          "text": [
            "Requirement already satisfied: pycrypto>=2.6.1 in /usr/local/lib/python3.7/dist-packages (from -r /content/python-paillier/requirements.txt (line 1)) (2.6.1)\n",
            "Requirement already satisfied: gmpy2>=2.0.4 in /usr/local/lib/python3.7/dist-packages (from -r /content/python-paillier/requirements.txt (line 2)) (2.0.8)\n",
            "Requirement already satisfied: numpy>=1.9.1 in /usr/local/lib/python3.7/dist-packages (from -r /content/python-paillier/requirements.txt (line 3)) (1.19.5)\n",
            "Requirement already satisfied: nose>=1.3.4 in /usr/local/lib/python3.7/dist-packages (from -r /content/python-paillier/requirements.txt (line 4)) (1.3.7)\n",
            "Requirement already satisfied: click>=6.7 in /usr/local/lib/python3.7/dist-packages (from -r /content/python-paillier/requirements.txt (line 5)) (7.1.2)\n"
          ],
          "name": "stdout"
        }
      ]
    },
    {
      "cell_type": "code",
      "metadata": {
        "colab": {
          "base_uri": "https://localhost:8080/"
        },
        "id": "mGijkLs-e3bz",
        "outputId": "868df6e1-1fba-497c-ec56-33f8972349e4"
      },
      "source": [
        "!python /content/python-paillier/setup.py build"
      ],
      "execution_count": 55,
      "outputs": [
        {
          "output_type": "stream",
          "text": [
            "/usr/local/lib/python3.7/dist-packages/setuptools/dist.py:461: UserWarning: Normalizing '1.4.1-dev0' to '1.4.1.dev0'\n",
            "  warnings.warn(tmpl.format(**locals()))\n",
            "running build\n",
            "running build_py\n",
            "creating build\n",
            "creating build/lib\n",
            "creating build/lib/phe\n",
            "copying phe/encoding.py -> build/lib/phe\n",
            "copying phe/util.py -> build/lib/phe\n",
            "copying phe/__init__.py -> build/lib/phe\n",
            "copying phe/paillier.py -> build/lib/phe\n",
            "copying phe/__about__.py -> build/lib/phe\n",
            "copying phe/command_line.py -> build/lib/phe\n",
            "creating build/lib/phe/tests\n",
            "copying phe/tests/cli_test.py -> build/lib/phe/tests\n",
            "copying phe/tests/math_test.py -> build/lib/phe/tests\n",
            "copying phe/tests/util_test.py -> build/lib/phe/tests\n",
            "copying phe/tests/paillier_test.py -> build/lib/phe/tests\n",
            "copying phe/tests/__init__.py -> build/lib/phe/tests\n"
          ],
          "name": "stdout"
        }
      ]
    },
    {
      "cell_type": "code",
      "metadata": {
        "colab": {
          "base_uri": "https://localhost:8080/"
        },
        "id": "jKNmF3iMe98j",
        "outputId": "ad9e1d91-95ae-47e7-c39c-967004a4eea4"
      },
      "source": [
        "!python /content/python-paillier/setup.py install"
      ],
      "execution_count": 56,
      "outputs": [
        {
          "output_type": "stream",
          "text": [
            "/usr/local/lib/python3.7/dist-packages/setuptools/dist.py:461: UserWarning: Normalizing '1.4.1-dev0' to '1.4.1.dev0'\n",
            "  warnings.warn(tmpl.format(**locals()))\n",
            "running install\n",
            "running bdist_egg\n",
            "running egg_info\n",
            "creating phe.egg-info\n",
            "writing phe.egg-info/PKG-INFO\n",
            "writing dependency_links to phe.egg-info/dependency_links.txt\n",
            "writing entry points to phe.egg-info/entry_points.txt\n",
            "writing requirements to phe.egg-info/requires.txt\n",
            "writing top-level names to phe.egg-info/top_level.txt\n",
            "writing manifest file 'phe.egg-info/SOURCES.txt'\n",
            "writing manifest file 'phe.egg-info/SOURCES.txt'\n",
            "installing library code to build/bdist.linux-x86_64/egg\n",
            "running install_lib\n",
            "running build_py\n",
            "creating build/bdist.linux-x86_64\n",
            "creating build/bdist.linux-x86_64/egg\n",
            "creating build/bdist.linux-x86_64/egg/phe\n",
            "copying build/lib/phe/encoding.py -> build/bdist.linux-x86_64/egg/phe\n",
            "copying build/lib/phe/util.py -> build/bdist.linux-x86_64/egg/phe\n",
            "copying build/lib/phe/__init__.py -> build/bdist.linux-x86_64/egg/phe\n",
            "creating build/bdist.linux-x86_64/egg/phe/tests\n",
            "copying build/lib/phe/tests/cli_test.py -> build/bdist.linux-x86_64/egg/phe/tests\n",
            "copying build/lib/phe/tests/math_test.py -> build/bdist.linux-x86_64/egg/phe/tests\n",
            "copying build/lib/phe/tests/util_test.py -> build/bdist.linux-x86_64/egg/phe/tests\n",
            "copying build/lib/phe/tests/paillier_test.py -> build/bdist.linux-x86_64/egg/phe/tests\n",
            "copying build/lib/phe/tests/__init__.py -> build/bdist.linux-x86_64/egg/phe/tests\n",
            "copying build/lib/phe/paillier.py -> build/bdist.linux-x86_64/egg/phe\n",
            "copying build/lib/phe/__about__.py -> build/bdist.linux-x86_64/egg/phe\n",
            "copying build/lib/phe/command_line.py -> build/bdist.linux-x86_64/egg/phe\n",
            "byte-compiling build/bdist.linux-x86_64/egg/phe/encoding.py to encoding.cpython-37.pyc\n",
            "byte-compiling build/bdist.linux-x86_64/egg/phe/util.py to util.cpython-37.pyc\n",
            "byte-compiling build/bdist.linux-x86_64/egg/phe/__init__.py to __init__.cpython-37.pyc\n",
            "byte-compiling build/bdist.linux-x86_64/egg/phe/tests/cli_test.py to cli_test.cpython-37.pyc\n",
            "byte-compiling build/bdist.linux-x86_64/egg/phe/tests/math_test.py to math_test.cpython-37.pyc\n",
            "byte-compiling build/bdist.linux-x86_64/egg/phe/tests/util_test.py to util_test.cpython-37.pyc\n",
            "byte-compiling build/bdist.linux-x86_64/egg/phe/tests/paillier_test.py to paillier_test.cpython-37.pyc\n",
            "byte-compiling build/bdist.linux-x86_64/egg/phe/tests/__init__.py to __init__.cpython-37.pyc\n",
            "byte-compiling build/bdist.linux-x86_64/egg/phe/paillier.py to paillier.cpython-37.pyc\n",
            "byte-compiling build/bdist.linux-x86_64/egg/phe/__about__.py to __about__.cpython-37.pyc\n",
            "byte-compiling build/bdist.linux-x86_64/egg/phe/command_line.py to command_line.cpython-37.pyc\n",
            "creating build/bdist.linux-x86_64/egg/EGG-INFO\n",
            "copying phe.egg-info/PKG-INFO -> build/bdist.linux-x86_64/egg/EGG-INFO\n",
            "copying phe.egg-info/SOURCES.txt -> build/bdist.linux-x86_64/egg/EGG-INFO\n",
            "copying phe.egg-info/dependency_links.txt -> build/bdist.linux-x86_64/egg/EGG-INFO\n",
            "copying phe.egg-info/entry_points.txt -> build/bdist.linux-x86_64/egg/EGG-INFO\n",
            "copying phe.egg-info/requires.txt -> build/bdist.linux-x86_64/egg/EGG-INFO\n",
            "copying phe.egg-info/top_level.txt -> build/bdist.linux-x86_64/egg/EGG-INFO\n",
            "zip_safe flag not set; analyzing archive contents...\n",
            "creating dist\n",
            "creating 'dist/phe-1.4.1.dev0-py3.7.egg' and adding 'build/bdist.linux-x86_64/egg' to it\n",
            "removing 'build/bdist.linux-x86_64/egg' (and everything under it)\n",
            "Processing phe-1.4.1.dev0-py3.7.egg\n",
            "Removing /usr/local/lib/python3.7/dist-packages/phe-1.4.1.dev0-py3.7.egg\n",
            "Copying phe-1.4.1.dev0-py3.7.egg to /usr/local/lib/python3.7/dist-packages\n",
            "phe 1.4.1.dev0 is already the active version in easy-install.pth\n",
            "Installing pheutil script to /usr/local/bin\n",
            "\n",
            "Installed /usr/local/lib/python3.7/dist-packages/phe-1.4.1.dev0-py3.7.egg\n",
            "Processing dependencies for phe==1.4.1.dev0\n",
            "Finished processing dependencies for phe==1.4.1.dev0\n"
          ],
          "name": "stdout"
        }
      ]
    },
    {
      "cell_type": "code",
      "metadata": {
        "colab": {
          "base_uri": "https://localhost:8080/"
        },
        "id": "IEbUwbeufAv-",
        "outputId": "9cfd3ac5-71de-4c13-e021-b1798320c2b9"
      },
      "source": [
        "%cd /content/python-paillier/"
      ],
      "execution_count": 57,
      "outputs": [
        {
          "output_type": "stream",
          "text": [
            "/content/python-paillier\n"
          ],
          "name": "stdout"
        }
      ]
    },
    {
      "cell_type": "code",
      "metadata": {
        "colab": {
          "base_uri": "https://localhost:8080/",
          "height": 367
        },
        "id": "6JDQyUc6fCZy",
        "outputId": "ea5e1047-41f9-4f85-82d2-7c19708875db"
      },
      "source": [
        "import numpy as np\r\n",
        "from sklearn.datasets import load_diabetes\r\n",
        "\r\n",
        "import phe as paillier\r\n",
        "\r\n",
        "seed = 43\r\n",
        "np.random.seed(seed)\r\n",
        "\r\n",
        "def get_data(n_clients):\r\n",
        "    \"\"\"\r\n",
        "    Import the dataset via sklearn, shuffle and split train/test.\r\n",
        "    Return training, target lists for `n_clients` and a holdout test set\r\n",
        "    \"\"\"\r\n",
        "    print(\"Loading MNIST data\")\r\n",
        "    diabetes = load_diabetes()\r\n",
        "    #y = diabetes.target\r\n",
        "    #X = diabetes.data\r\n",
        "\r\n",
        "    \r\n",
        "\r\n",
        "    (X, y), (test_X, test_y) = mnist.load_data()\r\n",
        "    \r\n",
        "    tmp = []\r\n",
        "\r\n",
        "    for rr in X:\r\n",
        "      tmp.append(rr.flatten())\r\n",
        "\r\n",
        "    X = tmp\r\n",
        "\r\n",
        "    # Reiktu pakeiti list => array ir lyginti dimensijas\r\n",
        "    # jos turetu sutapti, kad nebutu klaidu\r\n",
        "\r\n",
        "    print(X.shape)\r\n",
        "    \r\n",
        "    # Add constant to emulate intercept\r\n",
        "    #X = np.c_[X, np.ones(X.shape[0])]\r\n",
        "\r\n",
        "    # The features are already preprocessed\r\n",
        "    # Shuffle\r\n",
        "    perm = np.random.permutation(X.shape[0])\r\n",
        "    X, y = X[perm, :], y[perm]\r\n",
        "\r\n",
        "    # Select test at random\r\n",
        "    test_size = 50\r\n",
        "    test_idx = np.random.choice(X.shape[0], size=test_size, replace=False)\r\n",
        "    train_idx = np.ones(X.shape[0], dtype=bool)\r\n",
        "    train_idx[test_idx] = False\r\n",
        "    X_test, y_test = X[test_idx, :], y[test_idx]\r\n",
        "    X_train, y_train = X[train_idx, :], y[train_idx]\r\n",
        "\r\n",
        "    # Split train among multiple clients.\r\n",
        "    # The selection is not at random. We simulate the fact that each client\r\n",
        "    # sees a potentially very different sample of patients.\r\n",
        "    X, y = [], []\r\n",
        "    step = int(X_train.shape[0] / n_clients)\r\n",
        "    for c in range(n_clients):\r\n",
        "        X.append(X_train[step * c: step * (c + 1), :])\r\n",
        "        y.append(y_train[step * c: step * (c + 1)])\r\n",
        "\r\n",
        "    print(X[0][0])\r\n",
        "\r\n",
        "    return X, y, X_test, y_test\r\n",
        "\r\n",
        "def mean_square_error(y_pred, y):\r\n",
        "    \"\"\" 1/m * \\sum_{i=1..m} (y_pred_i - y_i)^2 \"\"\"\r\n",
        "    return np.mean((y - y_pred) ** 2)\r\n",
        "\r\n",
        "\r\n",
        "def encrypt_vector(public_key, x):\r\n",
        "    return [public_key.encrypt(i) for i in x]\r\n",
        "\r\n",
        "\r\n",
        "def decrypt_vector(private_key, x):\r\n",
        "    return np.array([private_key.decrypt(i) for i in x])\r\n",
        "\r\n",
        "\r\n",
        "def sum_encrypted_vectors(x, y):\r\n",
        "    if len(x) != len(y):\r\n",
        "        raise ValueError('Encrypted vectors must have the same size')\r\n",
        "    return [x[i] + y[i] for i in range(len(x))]\r\n",
        "\r\n",
        "\r\n",
        "class Server:\r\n",
        "    \"\"\"Private key holder. Decrypts the average gradient\"\"\"\r\n",
        "\r\n",
        "    def __init__(self, key_length):\r\n",
        "         keypair = paillier.generate_paillier_keypair(n_length=key_length)\r\n",
        "         self.pubkey, self.privkey = keypair\r\n",
        "\r\n",
        "    def decrypt_aggregate(self, input_model, n_clients):\r\n",
        "        return decrypt_vector(self.privkey, input_model) / n_clients\r\n",
        "\r\n",
        "\r\n",
        "class Client:\r\n",
        "    \"\"\"Runs linear regression with local data or by gradient steps,\r\n",
        "    where gradient can be passed in.\r\n",
        "    Using public key can encrypt locally computed gradients.\r\n",
        "    \"\"\"\r\n",
        "\r\n",
        "    def __init__(self, name, X, y, pubkey):\r\n",
        "        self.name = name\r\n",
        "        self.pubkey = pubkey\r\n",
        "        self.X, self.y = X, y\r\n",
        "        self.weights = np.zeros(X.shape[1])\r\n",
        "        self.predictionTreshold = 50\r\n",
        "\r\n",
        "    def fit(self, n_iter, eta=0.01):\r\n",
        "        \"\"\"Linear regression for n_iter\"\"\"\r\n",
        "        for _ in range(n_iter):\r\n",
        "            gradient = self.compute_gradient()\r\n",
        "            self.gradient_step(gradient, eta)\r\n",
        "\r\n",
        "    def gradient_step(self, gradient, eta=0.01):\r\n",
        "        \"\"\"Update the model with the given gradient\"\"\"\r\n",
        "        self.weights -= eta * gradient\r\n",
        "\r\n",
        "    def compute_gradient(self):\r\n",
        "        \"\"\"Compute the gradient of the current model using the training set\r\n",
        "        \"\"\"\r\n",
        "        delta = self.predict(self.X) - self.y\r\n",
        "        return delta.dot(self.X) / len(self.X)\r\n",
        "\r\n",
        "    def predict(self, X):\r\n",
        "        \"\"\"Score test data\"\"\"\r\n",
        "        return X.dot(self.weights)\r\n",
        "\r\n",
        "    def encrypted_gradient(self, sum_to=None):\r\n",
        "        \"\"\"Compute and encrypt gradient.\r\n",
        "        When `sum_to` is given, sum the encrypted gradient to it, assumed\r\n",
        "        to be another vector of the same size\r\n",
        "        \"\"\"\r\n",
        "        gradient = self.compute_gradient()\r\n",
        "        encrypted_gradient = encrypt_vector(self.pubkey, gradient)\r\n",
        "\r\n",
        "        if sum_to is not None:\r\n",
        "            return sum_encrypted_vectors(sum_to, encrypted_gradient)\r\n",
        "        else:\r\n",
        "            return encrypted_gradient\r\n",
        "\r\n",
        "    def analyze_data_privacy(self, X, Y):\r\n",
        "      predicted = 0\r\n",
        "      notPredicted = 0\r\n",
        "      \r\n",
        "      # Data that has been predicted correctly\r\n",
        "      predictedDataX = []\r\n",
        "      predictedDataY = []\r\n",
        "\r\n",
        "      # Checking model's accuracy\r\n",
        "      for i in range(len(X)):\r\n",
        "        prediction = self.predict(X[i])\r\n",
        "\r\n",
        "        if(prediction >= Y[i] - self.predictionTreshold and prediction <= Y[i] + self.predictionTreshold):\r\n",
        "          predicted += 1\r\n",
        "          \r\n",
        "          predictedDataX.append(X[i])\r\n",
        "          predictedDataY.append(Y[i])\r\n",
        "        else:\r\n",
        "          notPredicted += 1\r\n",
        "\r\n",
        "      print(\"Predicted: {} Not predicted: {}\".format(predicted/(predicted+notPredicted)*100, notPredicted/(predicted+notPredicted)*100))\r\n",
        "\r\n",
        "      # Skaiciuojamas vidutinis maksimalus modelio epsilonas\r\n",
        "      increaseValues = np.repeat(0, 10)\r\n",
        "      dataIdxArr = np.repeat(1, 10)\r\n",
        "\r\n",
        "      for dataIdx in range(len(predictedDataX)):\r\n",
        "        for collumnIdx in range(len(X[0])):\r\n",
        "          label = predictedDataY[dataIdx]\r\n",
        "          data = predictedDataX[dataIdx]\r\n",
        "\r\n",
        "          y_prediction = self.predict(data)\r\n",
        "\r\n",
        "          if y_prediction >= label - self.predictionTreshold and y_prediction <= label + self.predictionTreshold:\r\n",
        "            epsilon = 0.1\r\n",
        "            increase = 0\r\n",
        "\r\n",
        "            dataIdxArr[collumnIdx] += 1\r\n",
        "\r\n",
        "            while((y_prediction >= label - self.predictionTreshold and y_prediction <= label + self.predictionTreshold) and increase < 100):\r\n",
        "              tempData = data\r\n",
        "              increase += epsilon\r\n",
        "              tempData[collumnIdx] += increase\r\n",
        "\r\n",
        "              y_prediction = self.predict(tempData)\r\n",
        "\r\n",
        "            increaseValues[collumnIdx] += increase\r\n",
        "        \r\n",
        "      # Showing output\r\n",
        "      for i in range(len(dataIdxArr)):\r\n",
        "        print(\"{}th collumn maximum epsilon: {}\".format(i, increaseValues[i]/dataIdxArr[i]))\r\n",
        "\r\n",
        "      s = 0\r\n",
        "      for i in range(10):\r\n",
        "        s += increaseValues[i]/dataIdxArr[i]\r\n",
        "\r\n",
        "      print(\"Model maximum epsilon: {}\".format(s/10))\r\n",
        "      print(\"Model treshold: {}\".format(self.predictionTreshold))\r\n",
        "\r\n",
        "def federated_learning(X, y, X_test, y_test, config):\r\n",
        "    n_clients = config['n_clients']\r\n",
        "    n_iter = config['n_iter']\r\n",
        "    names = ['Hospital {}'.format(i) for i in range(1, n_clients + 1)]\r\n",
        "\r\n",
        "    # Instantiate the server and generate private and public keys\r\n",
        "    # NOTE: using smaller keys sizes wouldn't be cryptographically safe\r\n",
        "    server = Server(key_length=config['key_length'])\r\n",
        "\r\n",
        "    # Instantiate the clients.\r\n",
        "    # Each client gets the public key at creation and its own local dataset\r\n",
        "    clients = []\r\n",
        "    for i in range(n_clients):\r\n",
        "        clients.append(Client(names[i], X[i], y[i], server.pubkey))\r\n",
        "\r\n",
        "    # The federated learning with gradient descent\r\n",
        "    print('Running distributed gradient aggregation for {:d} iterations'\r\n",
        "          .format(n_iter))\r\n",
        "    for i in range(n_iter):\r\n",
        "\r\n",
        "        # Compute gradients, encrypt and aggregate\r\n",
        "        encrypt_aggr = clients[0].encrypted_gradient(sum_to=None)\r\n",
        "        for c in clients[1:]:\r\n",
        "            encrypt_aggr = c.encrypted_gradient(sum_to=encrypt_aggr)\r\n",
        "\r\n",
        "        # Send aggregate to server and decrypt it\r\n",
        "        aggr = server.decrypt_aggregate(encrypt_aggr, n_clients)\r\n",
        "\r\n",
        "        # Take gradient steps\r\n",
        "        for c in clients:\r\n",
        "            c.gradient_step(aggr, config['eta'])\r\n",
        "\r\n",
        "    print('Error (MSE) that each client gets after running the protocol:')\r\n",
        "    for c in range(len(clients)):\r\n",
        "        y_pred = clients[c].predict(X_test)\r\n",
        "        mse = mean_square_error(y_pred, y_test)\r\n",
        "        print('{:s}:\\t{:.2f}'.format(clients[c].name, mse))\r\n",
        "\r\n",
        "        # Analyze client's data privacy\r\n",
        "        clients[c].analyze_data_privacy(X[c], y[c])\r\n",
        "\r\n",
        "def local_learning(X, y, X_test, y_test, config):\r\n",
        "    n_clients = config['n_clients']\r\n",
        "    names = ['Hospital {}'.format(i) for i in range(1, n_clients + 1)]\r\n",
        "\r\n",
        "    # Instantiate the clients.\r\n",
        "    # Each client gets the public key at creation and its own local dataset\r\n",
        "    clients = []\r\n",
        "    for i in range(n_clients):\r\n",
        "        clients.append(Client(names[i], X[i], y[i], None))\r\n",
        "\r\n",
        "    # Each client trains a linear regressor on its own data\r\n",
        "    print('Error (MSE) that each client gets on test set by '\r\n",
        "          'training only on own local data:')\r\n",
        "    for c in range(len(clients)):\r\n",
        "        clients[c].fit(config['n_iter'], config['eta'])\r\n",
        "        y_pred = clients[c].predict(X_test)\r\n",
        "        mse = mean_square_error(y_pred, y_test)\r\n",
        "\r\n",
        "        print('{:s}:\\t{:.2f}'.format(clients[c].name, mse))\r\n",
        "\r\n",
        "        # Analyze client's data privacy\r\n",
        "        clients[c].analyze_data_privacy(X[c], y[c])\r\n",
        "\r\n",
        "if __name__ == '__main__':\r\n",
        "    config = {\r\n",
        "        'n_clients': 1,\r\n",
        "        'key_length': 1024,\r\n",
        "        'n_iter': 2000,\r\n",
        "        'eta': 1.0,\r\n",
        "    }\r\n",
        "\r\n",
        "    X, y, X_test, y_test = get_data(n_clients=config['n_clients'])\r\n",
        "\r\n",
        "    local_learning(X, y, X_test, y_test, config)\r\n",
        "\r\n",
        "    #federated_learning(X, y, X_test, y_test, config)"
      ],
      "execution_count": 74,
      "outputs": [
        {
          "output_type": "stream",
          "text": [
            "Loading MNIST data\n"
          ],
          "name": "stdout"
        },
        {
          "output_type": "error",
          "ename": "AttributeError",
          "evalue": "ignored",
          "traceback": [
            "\u001b[0;31m---------------------------------------------------------------------------\u001b[0m",
            "\u001b[0;31mAttributeError\u001b[0m                            Traceback (most recent call last)",
            "\u001b[0;32m<ipython-input-74-f549d984af51>\u001b[0m in \u001b[0;36m<module>\u001b[0;34m()\u001b[0m\n\u001b[1;32m    266\u001b[0m     }\n\u001b[1;32m    267\u001b[0m \u001b[0;34m\u001b[0m\u001b[0m\n\u001b[0;32m--> 268\u001b[0;31m     \u001b[0mX\u001b[0m\u001b[0;34m,\u001b[0m \u001b[0my\u001b[0m\u001b[0;34m,\u001b[0m \u001b[0mX_test\u001b[0m\u001b[0;34m,\u001b[0m \u001b[0my_test\u001b[0m \u001b[0;34m=\u001b[0m \u001b[0mget_data\u001b[0m\u001b[0;34m(\u001b[0m\u001b[0mn_clients\u001b[0m\u001b[0;34m=\u001b[0m\u001b[0mconfig\u001b[0m\u001b[0;34m[\u001b[0m\u001b[0;34m'n_clients'\u001b[0m\u001b[0;34m]\u001b[0m\u001b[0;34m)\u001b[0m\u001b[0;34m\u001b[0m\u001b[0;34m\u001b[0m\u001b[0m\n\u001b[0m\u001b[1;32m    269\u001b[0m \u001b[0;34m\u001b[0m\u001b[0m\n\u001b[1;32m    270\u001b[0m     \u001b[0mlocal_learning\u001b[0m\u001b[0;34m(\u001b[0m\u001b[0mX\u001b[0m\u001b[0;34m,\u001b[0m \u001b[0my\u001b[0m\u001b[0;34m,\u001b[0m \u001b[0mX_test\u001b[0m\u001b[0;34m,\u001b[0m \u001b[0my_test\u001b[0m\u001b[0;34m,\u001b[0m \u001b[0mconfig\u001b[0m\u001b[0;34m)\u001b[0m\u001b[0;34m\u001b[0m\u001b[0;34m\u001b[0m\u001b[0m\n",
            "\u001b[0;32m<ipython-input-74-f549d984af51>\u001b[0m in \u001b[0;36mget_data\u001b[0;34m(n_clients)\u001b[0m\n\u001b[1;32m     28\u001b[0m     \u001b[0mX\u001b[0m \u001b[0;34m=\u001b[0m \u001b[0mtmp\u001b[0m\u001b[0;34m\u001b[0m\u001b[0;34m\u001b[0m\u001b[0m\n\u001b[1;32m     29\u001b[0m \u001b[0;34m\u001b[0m\u001b[0m\n\u001b[0;32m---> 30\u001b[0;31m     \u001b[0mprint\u001b[0m\u001b[0;34m(\u001b[0m\u001b[0mX\u001b[0m\u001b[0;34m.\u001b[0m\u001b[0mshape\u001b[0m\u001b[0;34m)\u001b[0m\u001b[0;34m\u001b[0m\u001b[0;34m\u001b[0m\u001b[0m\n\u001b[0m\u001b[1;32m     31\u001b[0m \u001b[0;34m\u001b[0m\u001b[0m\n\u001b[1;32m     32\u001b[0m     \u001b[0;31m# Add constant to emulate intercept\u001b[0m\u001b[0;34m\u001b[0m\u001b[0;34m\u001b[0m\u001b[0;34m\u001b[0m\u001b[0m\n",
            "\u001b[0;31mAttributeError\u001b[0m: 'list' object has no attribute 'shape'"
          ]
        }
      ]
    }
  ]
}